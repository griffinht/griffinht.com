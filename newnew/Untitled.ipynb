{
 "cells": [
  {
   "cell_type": "code",
   "execution_count": 1,
   "id": "209c159a",
   "metadata": {},
   "outputs": [
    {
     "name": "stdout",
     "output_type": "stream",
     "text": [
      "<p>hi</p>\n"
     ]
    }
   ],
   "source": [
    "%%sh\n",
    "echo hi | pandoc -t html"
   ]
  },
  {
   "cell_type": "code",
   "execution_count": 2,
   "id": "bc371a12",
   "metadata": {},
   "outputs": [
    {
     "name": "stdout",
     "output_type": "stream",
     "text": [
      "<!DOCTYPE html>\n",
      "<html>\n",
      "    <head>\n",
      "        <nav>hello</nav>\n",
      "        <meta charset=\"utf8\">\n",
      "    </head>\n",
      "    <body>\n",
      "        <h1>asd</h1>\n",
      "        <h1 id=\"hello-there\">hello there!</h1>\n",
      "<p>welcome to my digital garden</p>\n",
      "<p><a href=\"./about.html\">about me</a> <a href=\"./meta.html\">about this\n",
      "website</a> (check out my analytics!)</p>\n",
      "<p>https://news.ycombinator.com/item?id=40055120</p>\n",
      "    </body>\n",
      "</html>\n"
     ]
    }
   ],
   "source": [
    "%%sh\n",
    "markdown_to_html() {\n",
    "    pandoc -t html\n",
    "}\n",
    "\n",
    "jq -n \\\n",
    "    --arg file \"$(markdown_to_html < src/index.md)\" \\\n",
    "'{\n",
    "    \"file\": $file\n",
    "}' | mustache src/template.html"
   ]
  },
  {
   "cell_type": "code",
   "execution_count": null,
   "id": "528b92f8",
   "metadata": {},
   "outputs": [],
   "source": []
  },
  {
   "cell_type": "code",
   "execution_count": 9,
   "id": "595b190d",
   "metadata": {},
   "outputs": [
    {
     "name": "stdout",
     "output_type": "stream",
     "text": [
      "asdfsd/assets (cp)\n",
      "done\n"
     ]
    }
   ],
   "source": [
    "%%sh\n",
    "file=asdfsd/assets\n",
    "if [[ \"$file\" == *assets* ]]; then\n",
    "        echo \"$file (cp)\"\n",
    "        if [[ \"$file\" == *assets ]]; then\n",
    "            echo done\n",
    "        fi\n",
    "\n",
    "    fi\n"
   ]
  },
  {
   "cell_type": "code",
   "execution_count": null,
   "id": "975f6029",
   "metadata": {},
   "outputs": [],
   "source": []
  }
 ],
 "metadata": {
  "kernelspec": {
   "display_name": "Python 3 (ipykernel)",
   "language": "/gnu/store/1w5v338qk5m8khcazwclprs3znqp6f7f-python-3.10.7/bin/python3",
   "name": "python3"
  },
  "language_info": {
   "codemirror_mode": {
    "name": "ipython",
    "version": 3
   },
   "file_extension": ".py",
   "mimetype": "text/x-python",
   "name": "python",
   "nbconvert_exporter": "python",
   "pygments_lexer": "ipython3",
   "version": "3.10.7"
  }
 },
 "nbformat": 4,
 "nbformat_minor": 5
}
