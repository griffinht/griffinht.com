{
 "cells": [
  {
   "cell_type": "code",
   "execution_count": null,
   "id": "29e55e2b",
   "metadata": {},
   "outputs": [],
   "source": []
  },
  {
   "cell_type": "markdown",
   "id": "8f488a62",
   "metadata": {},
   "source": [
    "# Stateless app, from zero to Docker to Kubernetes\n",
    "\n",
    "I have decided that I want to learn Kubernetes. I'm going to start small by using the tools that I already know, then build my way in to Kubernetes.\n",
    "\n",
    "\n",
    "\n",
    "I'm rebuilding my home lab, and this time I want to go full kubernetes. I'm tired of treating my stuff like pets, and have gotten tired of doing maintene.ce I've resisted Kubernetes for a long time, but I finally think I'm ready to dive in. I'm promising myself that I won't\n",
    "\n",
    "I'm going to start by deploying `searxng` \n",
    "I picked `searxng` for this experiment because it is an extremely simple stateless service - the easiest kind to deploy.\n",
    "\n",
    "I'm going to run `searxng`, a privacy focused Internet metasearch engine, with the Docker CLI, Docker Compose, `podman`, []\n",
    "\n",
    "I have other, more complex stateful and statless services which I'd like to run through this process with as well.\n",
    "\n",
    "- [Searxng]\n",
    "\n",
    "## Docker\n",
    "- [Docker](https://docs.docker.com/reference/cli/docker/) (requires [Docker Engine](https://docs.docker.com/engine/)\n",
    "- [Podman](todo) (rootless, with [Podman](https://podman.io/docs/installation))\n",
    "\n",
    "## Docker Compose\n",
    "- [Docker Compose](https://docs.docker.com/compose/reference/) (rootless, with [podman-system-service](https://docs.podman.io/en/latest/markdown/podman-system-service.1.html))\n",
    "- [Kompose](https://docs.docker.com/compose/reference/) (rootless, with [podman-system-service](https://docs.podman.io/en/latest/markdown/podman-system-service.1.html))\n",
    "\n",
    "## Kubernetes\n",
    "- [podman-kube-play](https://docs.podman.io/en/latest/markdown/podman-kube-play.1.html) (rootless, with [Podman](https://podman.io/docs/installation))\n",
    "- [kind]() (rootless? untested with [podman-system-service](https://docs.podman.io/en/latest/markdown/podman-system-service.1.html)))\n",
    "- [Kubernetes in production](todo)\n",
    "\n",
    "- [argo/flux??](todo)"
   ]
  },
  {
   "cell_type": "code",
   "execution_count": 13,
   "id": "63aa00ed",
   "metadata": {},
   "outputs": [
    {
     "name": "stdout",
     "output_type": "stream",
     "text": [
      "ad26fa5d4f980852d9d0f1e15dde44f48ad1841ad4534cab824c4531d112413f\n"
     ]
    }
   ],
   "source": [
    "%%sh\n",
    "docker run --rm --detach -p 8080:8080 docker.io/searxng/searxng"
   ]
  },
  {
   "cell_type": "code",
   "execution_count": 22,
   "id": "df05ae66",
   "metadata": {},
   "outputs": [
    {
     "name": "stderr",
     "output_type": "stream",
     "text": [
      "  % Total    % Received % Xferd  Average Speed   Time    Time     Time  Current\n",
      "                                 Dload  Upload   Total   Spent    Left  Speed\n",
      "  0  5994    0     0    0     0      0      0 --:--:-- --:--:-- --:--:--     0\n"
     ]
    },
    {
     "name": "stdout",
     "output_type": "stream",
     "text": [
      "HTTP/1.1 200 OK\n",
      "Content-Type: text/html; charset=utf-8\n",
      "Content-Length: 5994\n",
      "Server-Timing: total;dur=2.771, render;dur=1.086\n",
      "X-Content-Type-Options: nosniff\n",
      "X-Download-Options: noopen\n",
      "X-Robots-Tag: noindex, nofollow\n",
      "Referrer-Policy: no-referrer\n",
      "Connection: close\n",
      "\n"
     ]
    }
   ],
   "source": [
    "%%sh\n",
    "curl -I localhost:8080"
   ]
  },
  {
   "cell_type": "markdown",
   "id": "53ad8a25",
   "metadata": {},
   "source": [
    "![searxng homepage displayed in my browser](searxng.png)\n",
    "\n",
    "It worked! This isn't exactly rocket science (yet). Let's tear this down."
   ]
  },
  {
   "cell_type": "code",
   "execution_count": 23,
   "id": "a1a31a69",
   "metadata": {},
   "outputs": [
    {
     "name": "stdout",
     "output_type": "stream",
     "text": [
      "CONTAINER ID   IMAGE             COMMAND                  CREATED         STATUS         PORTS                                       NAMES\n",
      "ad26fa5d4f98   searxng/searxng   \"/sbin/tini -- /usr/…\"   5 minutes ago   Up 5 minutes   0.0.0.0:8080->8080/tcp, :::8080->8080/tcp   unruffled_bassi\n"
     ]
    }
   ],
   "source": [
    "%%sh\n",
    "docker ps"
   ]
  },
  {
   "cell_type": "code",
   "execution_count": 24,
   "id": "b0a0a445",
   "metadata": {},
   "outputs": [
    {
     "name": "stdout",
     "output_type": "stream",
     "text": [
      "unruffled_bassi\n"
     ]
    }
   ],
   "source": [
    "%%sh\n",
    "docker stop unruffled_bassi"
   ]
  },
  {
   "cell_type": "markdown",
   "id": "60758868",
   "metadata": {},
   "source": [
    "# Docker Compose\n",
    "\n",
    "We can make things much more declarative with Docker Compose. This is by far my most loved development tool right now. I'm planning on writing a blog post with all the tips and tricks I've learned about it over the years."
   ]
  },
  {
   "cell_type": "code",
   "execution_count": 27,
   "id": "17a18549",
   "metadata": {},
   "outputs": [
    {
     "name": "stderr",
     "output_type": "stream",
     "text": [
      " Network notebooks_default  Creating\n",
      " Network notebooks_default  Created\n",
      " Container notebooks-searx-1  Creating\n",
      " Container notebooks-searx-1  Created\n",
      " Container notebooks-searx-1  Starting\n",
      " Container notebooks-searx-1  Started\n"
     ]
    }
   ],
   "source": [
    "%%sh\n",
    "cat > compose.yml << EOF\n",
    "# check out composerize for ideas https://www.composerize.com/\n",
    "services:\n",
    "    searx:\n",
    "        image: searxng/searxng\n",
    "        ports:\n",
    "            - 8080:8080\n",
    "EOF\n",
    "\n",
    "docker compose up --detach"
   ]
  },
  {
   "cell_type": "code",
   "execution_count": 28,
   "id": "22bf6f1c",
   "metadata": {},
   "outputs": [
    {
     "name": "stdout",
     "output_type": "stream",
     "text": [
      "NAME                IMAGE             COMMAND                  SERVICE   CREATED          STATUS          PORTS\n",
      "notebooks-searx-1   searxng/searxng   \"/sbin/tini -- /usr/…\"   searx     12 seconds ago   Up 11 seconds   0.0.0.0:8080->8080/tcp, :::8080->8080/tcp\n"
     ]
    }
   ],
   "source": [
    "%%sh\n",
    "docker compose ps"
   ]
  },
  {
   "cell_type": "code",
   "execution_count": 29,
   "id": "14231ada",
   "metadata": {},
   "outputs": [
    {
     "name": "stderr",
     "output_type": "stream",
     "text": [
      "  % Total    % Received % Xferd  Average Speed   Time    Time     Time  Current\n",
      "                                 Dload  Upload   Total   Spent    Left  Speed\n",
      "  0  5994    0     0    0     0      0      0 --:--:-- --:--:-- --:--:--     0\n"
     ]
    },
    {
     "name": "stdout",
     "output_type": "stream",
     "text": [
      "HTTP/1.1 200 OK\n",
      "Content-Type: text/html; charset=utf-8\n",
      "Content-Length: 5994\n",
      "Server-Timing: total;dur=30.488, render;dur=28.368\n",
      "X-Content-Type-Options: nosniff\n",
      "X-Download-Options: noopen\n",
      "X-Robots-Tag: noindex, nofollow\n",
      "Referrer-Policy: no-referrer\n",
      "Connection: close\n",
      "\n"
     ]
    }
   ],
   "source": [
    "%%sh\n",
    "curl -I localhost:8080"
   ]
  },
  {
   "cell_type": "markdown",
   "id": "e574cdb3",
   "metadata": {},
   "source": [
    "Still works! Let's tear it down."
   ]
  },
  {
   "cell_type": "code",
   "execution_count": 30,
   "id": "05cd6746",
   "metadata": {},
   "outputs": [
    {
     "name": "stderr",
     "output_type": "stream",
     "text": [
      " Container notebooks-searx-1  Stopping\n",
      " Container notebooks-searx-1  Stopped\n",
      " Container notebooks-searx-1  Removing\n",
      " Container notebooks-searx-1  Removed\n",
      " Network notebooks_default  Removing\n",
      " Network notebooks_default  Removed\n"
     ]
    }
   ],
   "source": [
    "%%sh\n",
    "docker compose down"
   ]
  },
  {
   "cell_type": "markdown",
   "id": "704c0668",
   "metadata": {},
   "source": [
    "#### Production\n",
    "\n",
    "It's also worth nothing that If I wanted to deploy this app to production, I could!\n",
    "\n",
    "All I would need is to set the [Docker context](https://docs.docker.com/engine/context/working-with-contexts/) (`$DOCKER_HOST=ssh://root@mymachine`) to a server with SSH access and Docker installed.\n",
    "\n",
    "That's how I have built my homelab up until now. It seems simple - just spin up a VPS with your favorite OS, add your SSH key, and [`apt install docker.io`](https://docs.docker.com/engine/install/).\n",
    "\n",
    "It's easy until your machine runs out of disk space, or you want to \n",
    "\n",
    "There are many mitigations, but I don't have time to build it myself. That's what it feels like I've been doing for the past few years - instead of running my stuff I find myself with broken machines and the fear of having to rebuild a machine from scratch if it goes down.\n",
    "\n",
    "It isn't automated. Continuous Deployment is something I have wanted for a long time, but `docker compose up --detach` doesn't cut it. This approach is fragile and just doesn't scale I guess.\n",
    "\n",
    "Docker Swarm seems better, but I think at that point all signs lead to kubernetes.\n",
    "\n",
    "But idk docker compose is suuccchh a nice dev interface - it is the perfect one\n",
    "Kubernetes is good for deployment, but not the other way around - it is a pain to define if you just want your app.\n",
    "\n",
    "until you have to deal with compute and networking and storage all manually. I'm hoping Kubernetes can handle everything for me, so I can get back to running my stuff."
   ]
  },
  {
   "cell_type": "markdown",
   "id": "7a9b53df",
   "metadata": {},
   "source": [
    "## Kubernetes\n",
    "\n",
    "Here is where we switch from Docker to Kubernetes. The most simple I have found to run Kubernetes is with `podman-kube-play`. First, we will need to generate some yaml.\n",
    "\n",
    "### podman-kube-play"
   ]
  },
  {
   "cell_type": "code",
   "execution_count": 3,
   "id": "27d20909",
   "metadata": {},
   "outputs": [
    {
     "name": "stdout",
     "output_type": "stream",
     "text": [
      "Pod:\n",
      "dafcb2ec196c95ace1511fd831ee31326ed6be053b105b70a720e8ac24c0bb70\n",
      "Container:\n",
      "30526150790c26760591cb85b655c0c344a2f1755594d4bf24cb6c4fb3822386\n",
      "\n"
     ]
    }
   ],
   "source": [
    "%%sh\n",
    "cat > pod.yaml << EOF\n",
    "apiVersion: v1\n",
    "kind: Pod\n",
    "metadata:\n",
    "    name: searxng\n",
    "spec:\n",
    "    containers:\n",
    "      - name: searxng\n",
    "        image: searxng/searxng\n",
    "        ports:\n",
    "        - containerPort: 8080\n",
    "          hostPort: 8080\n",
    "EOF\n",
    "\n",
    "podman kube play pod.yaml"
   ]
  },
  {
   "cell_type": "code",
   "execution_count": 4,
   "id": "79013008",
   "metadata": {},
   "outputs": [
    {
     "name": "stderr",
     "output_type": "stream",
     "text": [
      "  % Total    % Received % Xferd  Average Speed   Time    Time     Time  Current\n",
      "                                 Dload  Upload   Total   Spent    Left  Speed\n",
      "  0  5994    0     0    0     0      0      0 --:--:-- --:--:-- --:--:--     0\n"
     ]
    },
    {
     "name": "stdout",
     "output_type": "stream",
     "text": [
      "HTTP/1.1 200 OK\n",
      "Content-Type: text/html; charset=utf-8\n",
      "Content-Length: 5994\n",
      "Server-Timing: total;dur=29.385, render;dur=26.854\n",
      "X-Content-Type-Options: nosniff\n",
      "X-Download-Options: noopen\n",
      "X-Robots-Tag: noindex, nofollow\n",
      "Referrer-Policy: no-referrer\n",
      "Connection: close\n",
      "\n"
     ]
    }
   ],
   "source": [
    "%%sh\n",
    "curl -I localhost:8080"
   ]
  },
  {
   "cell_type": "markdown",
   "id": "15265836",
   "metadata": {},
   "source": [
    "It works! We defined a [pod](https://kubernetes.io/docs/concepts/workloads/pods/) and ran it with Podman! Let's check out how this works internally."
   ]
  },
  {
   "cell_type": "code",
   "execution_count": 5,
   "id": "6886d7e1",
   "metadata": {},
   "outputs": [
    {
     "name": "stdout",
     "output_type": "stream",
     "text": [
      "POD ID        NAME        STATUS      CREATED        INFRA ID      # OF CONTAINERS\n",
      "dafcb2ec196c  searxng     Running     7 minutes ago  4a44fd2570c8  2\n"
     ]
    }
   ],
   "source": [
    "%%sh\n",
    "podman pod ps"
   ]
  },
  {
   "cell_type": "code",
   "execution_count": 10,
   "id": "9256a008",
   "metadata": {},
   "outputs": [
    {
     "name": "stdout",
     "output_type": "stream",
     "text": [
      "USER        PID         PPID        %CPU        ELAPSED          TTY         TIME        COMMAND\n",
      "root        1           0           0.000       8m54.340141932s  ?           0s          /sbin/tini -- /usr/local/searxng/dockerfiles/docker-entrypoint.sh \n",
      "searxng     2           1           0.000       8m54.34027952s   ?           0s          uWSGI master \n",
      "searxng     10          2           0.187       8m54.340335183s  ?           1s          uWSGI worker 1 \n",
      "searxng     13          2           0.187       8m54.340405723s  ?           1s          uWSGI worker 2 \n",
      "searxng     16          2           0.187       8m54.340456777s  ?           1s          uWSGI worker 3 \n",
      "searxng     22          2           0.187       8m54.340504967s  ?           1s          uWSGI worker 4 \n",
      "searxng     26          2           0.187       8m54.340555672s  ?           1s          uWSGI worker 5 \n",
      "searxng     29          2           0.187       8m54.340604701s  ?           1s          uWSGI worker 6 \n",
      "searxng     36          2           0.187       8m54.340650517s  ?           1s          uWSGI worker 7 \n",
      "searxng     43          2           0.187       8m54.340698148s  ?           1s          uWSGI worker 8 \n",
      "searxng     50          2           0.187       8m54.340748225s  ?           1s          uWSGI worker 9 \n",
      "searxng     55          2           0.187       8m54.340796275s  ?           1s          uWSGI worker 10 \n",
      "searxng     60          2           0.187       8m54.340842371s  ?           1s          uWSGI worker 11 \n",
      "searxng     65          2           0.187       8m54.34089091s   ?           1s          uWSGI worker 12 \n",
      "searxng     70          2           0.187       8m54.340937704s  ?           1s          uWSGI worker 13 \n",
      "searxng     75          2           0.187       8m54.340985825s  ?           1s          uWSGI worker 14 \n",
      "searxng     80          2           0.187       8m54.341035831s  ?           1s          uWSGI worker 15 \n",
      "searxng     81          2           0.187       8m54.341089679s  ?           1s          uWSGI worker 16 \n",
      "0           1           0           0.000       8m54.342029393s  ?           0s          /catatonit -P \n"
     ]
    }
   ],
   "source": [
    "%%sh\n",
    "podman pod top searxng"
   ]
  },
  {
   "cell_type": "markdown",
   "id": "d6e68d7f",
   "metadata": {},
   "source": [
    "Podman pods are really cool. So is `podman-play-kube`. I'd like to do some more writing about them soon.\n",
    "\n",
    "todo Learn more about pods and how they are different from Docker Compose here.\n",
    "\n",
    "Let's clean up and move on."
   ]
  },
  {
   "cell_type": "code",
   "execution_count": 11,
   "id": "b9bc3f30",
   "metadata": {},
   "outputs": [
    {
     "name": "stdout",
     "output_type": "stream",
     "text": [
      "Pods stopped:\n",
      "dafcb2ec196c95ace1511fd831ee31326ed6be053b105b70a720e8ac24c0bb70\n",
      "Pods removed:\n",
      "dafcb2ec196c95ace1511fd831ee31326ed6be053b105b70a720e8ac24c0bb70\n",
      "Secrets removed:\n",
      "Volumes removed:\n"
     ]
    }
   ],
   "source": [
    "%%sh\n",
    "podman play kube pod.yaml --down"
   ]
  },
  {
   "cell_type": "markdown",
   "id": "1593e572",
   "metadata": {},
   "source": [
    "## Kubernetes\n",
    "\n",
    "Note that I think Docker Desktop supports this without `kind`, so that might be good to check out.\n",
    "\n",
    "### `kind`\n",
    "\n",
    "[kind](https://github.com/kubernetes-sigs/kind) is a neat project which creates an entire Kubernetes cluster in Docker. Let's see what that means:"
   ]
  },
  {
   "cell_type": "code",
   "execution_count": 21,
   "id": "29712849",
   "metadata": {},
   "outputs": [
    {
     "name": "stdout",
     "output_type": "stream",
     "text": [
      "CONTAINER ID   IMAGE     COMMAND   CREATED   STATUS    PORTS     NAMES\n"
     ]
    },
    {
     "name": "stderr",
     "output_type": "stream",
     "text": [
      "Creating cluster \"kind\" ...\n",
      " • Ensuring node image (kindest/node:v1.30.0) 🖼  ...\n",
      " ✓ Ensuring node image (kindest/node:v1.30.0) 🖼\n",
      " • Preparing nodes 📦   ...\n",
      " ✓ Preparing nodes 📦 \n",
      " • Writing configuration 📜  ...\n",
      " ✓ Writing configuration 📜\n",
      " • Starting control-plane 🕹️  ...\n",
      " ✓ Starting control-plane 🕹️\n",
      " • Installing CNI 🔌  ...\n",
      " ✓ Installing CNI 🔌\n",
      " • Installing StorageClass 💾  ...\n",
      " ✓ Installing StorageClass 💾\n",
      "Set kubectl context to \"kind-kind\"\n",
      "You can now use your cluster with:\n",
      "\n",
      "kubectl cluster-info --context kind-kind\n",
      "\n",
      "Not sure what to do next? 😅  Check out https://kind.sigs.k8s.io/docs/user/quick-start/\n"
     ]
    }
   ],
   "source": [
    "%%sh\n",
    "# All we need is Docker (or Podman! check out https://kind.sigs.k8s.io/docs/user/rootless/)\n",
    "docker ps\n",
    "\n",
    "# Let's make our cluster!\n",
    "kind create cluster"
   ]
  },
  {
   "cell_type": "code",
   "execution_count": 28,
   "id": "80615ac5",
   "metadata": {},
   "outputs": [
    {
     "name": "stdout",
     "output_type": "stream",
     "text": [
      "CONTAINER ID   IMAGE                  COMMAND                  CREATED          STATUS          PORTS                       NAMES\n",
      "c368f28f3b63   kindest/node:v1.30.0   \"/usr/local/bin/entr…\"   32 minutes ago   Up 32 minutes   127.0.0.1:38171->6443/tcp   kind-control-plane\n"
     ]
    }
   ],
   "source": [
    "%%sh\n",
    "# woah, what did that do?\n",
    "docker ps"
   ]
  },
  {
   "cell_type": "markdown",
   "id": "140c7fb0",
   "metadata": {},
   "source": [
    "The docs say we can [interact with our cluster](https://kind.sigs.k8s.io/docs/user/quick-start/#interacting-with-your-cluster) with `kubectl`."
   ]
  },
  {
   "cell_type": "code",
   "execution_count": 29,
   "id": "59979a2a",
   "metadata": {},
   "outputs": [
    {
     "name": "stdout",
     "output_type": "stream",
     "text": [
      "\u001b[0;32mKubernetes control plane\u001b[0m is running at \u001b[0;33mhttps://127.0.0.1:38171\u001b[0m\n",
      "\u001b[0;32mCoreDNS\u001b[0m is running at \u001b[0;33mhttps://127.0.0.1:38171/api/v1/namespaces/kube-system/services/kube-dns:dns/proxy\u001b[0m\n",
      "\n",
      "To further debug and diagnose cluster problems, use 'kubectl cluster-info dump'.\n"
     ]
    }
   ],
   "source": [
    "%%sh\n",
    "kubectl cluster-info --context kind-kind"
   ]
  },
  {
   "cell_type": "markdown",
   "id": "107d8007",
   "metadata": {},
   "source": [
    "Looks like we are Kuberneteseing!\n",
    "\n",
    "I want to deploy that searxng pod, but this time on our Kubernetes cluster."
   ]
  },
  {
   "cell_type": "code",
   "execution_count": 23,
   "id": "8ff15bf9",
   "metadata": {},
   "outputs": [
    {
     "name": "stdout",
     "output_type": "stream",
     "text": [
      "pod/searxng created\n"
     ]
    }
   ],
   "source": [
    "%%sh\n",
    "kubectl apply -f pod.yaml"
   ]
  },
  {
   "cell_type": "code",
   "execution_count": 25,
   "id": "7c9f8512",
   "metadata": {},
   "outputs": [
    {
     "name": "stdout",
     "output_type": "stream",
     "text": [
      "NAME      READY   STATUS    RESTARTS   AGE\n",
      "searxng   1/1     Running   0          19s\n"
     ]
    }
   ],
   "source": [
    "%%sh\n",
    "kubectl get pods"
   ]
  },
  {
   "cell_type": "code",
   "execution_count": 26,
   "id": "5237ab48",
   "metadata": {},
   "outputs": [
    {
     "name": "stderr",
     "output_type": "stream",
     "text": [
      "  % Total    % Received % Xferd  Average Speed   Time    Time     Time  Current\n",
      "                                 Dload  Upload   Total   Spent    Left  Speed\n",
      "  0     0    0     0    0     0      0      0 --:--:-- --:--:-- --:--:--     0\n",
      "curl: (7) Failed to connect to localhost port 8080 after 0 ms: Couldn't connect to server\n"
     ]
    },
    {
     "ename": "CalledProcessError",
     "evalue": "Command 'b'curl -I localhost:8080\\n'' returned non-zero exit status 7.",
     "output_type": "error",
     "traceback": [
      "\u001b[0;31m---------------------------------------------------------------------------\u001b[0m",
      "\u001b[0;31mCalledProcessError\u001b[0m                        Traceback (most recent call last)",
      "Cell \u001b[0;32mIn [26], line 1\u001b[0m\n\u001b[0;32m----> 1\u001b[0m \u001b[43mget_ipython\u001b[49m\u001b[43m(\u001b[49m\u001b[43m)\u001b[49m\u001b[38;5;241;43m.\u001b[39;49m\u001b[43mrun_cell_magic\u001b[49m\u001b[43m(\u001b[49m\u001b[38;5;124;43m'\u001b[39;49m\u001b[38;5;124;43msh\u001b[39;49m\u001b[38;5;124;43m'\u001b[39;49m\u001b[43m,\u001b[49m\u001b[43m \u001b[49m\u001b[38;5;124;43m'\u001b[39;49m\u001b[38;5;124;43m'\u001b[39;49m\u001b[43m,\u001b[49m\u001b[43m \u001b[49m\u001b[38;5;124;43m'\u001b[39;49m\u001b[38;5;124;43mcurl -I localhost:8080\u001b[39;49m\u001b[38;5;130;43;01m\\n\u001b[39;49;00m\u001b[38;5;124;43m'\u001b[39;49m\u001b[43m)\u001b[49m\n",
      "File \u001b[0;32m/gnu/store/2zfg9hpglvzcb6m674lsm04yj273cjlg-python-ipython-8.5.0/lib/python3.10/site-packages/IPython/core/interactiveshell.py:2362\u001b[0m, in \u001b[0;36mInteractiveShell.run_cell_magic\u001b[0;34m(self, magic_name, line, cell)\u001b[0m\n\u001b[1;32m   2360\u001b[0m \u001b[38;5;28;01mwith\u001b[39;00m \u001b[38;5;28mself\u001b[39m\u001b[38;5;241m.\u001b[39mbuiltin_trap:\n\u001b[1;32m   2361\u001b[0m     args \u001b[38;5;241m=\u001b[39m (magic_arg_s, cell)\n\u001b[0;32m-> 2362\u001b[0m     result \u001b[38;5;241m=\u001b[39m \u001b[43mfn\u001b[49m\u001b[43m(\u001b[49m\u001b[38;5;241;43m*\u001b[39;49m\u001b[43margs\u001b[49m\u001b[43m,\u001b[49m\u001b[43m \u001b[49m\u001b[38;5;241;43m*\u001b[39;49m\u001b[38;5;241;43m*\u001b[39;49m\u001b[43mkwargs\u001b[49m\u001b[43m)\u001b[49m\n\u001b[1;32m   2363\u001b[0m \u001b[38;5;28;01mreturn\u001b[39;00m result\n",
      "File \u001b[0;32m/gnu/store/2zfg9hpglvzcb6m674lsm04yj273cjlg-python-ipython-8.5.0/lib/python3.10/site-packages/IPython/core/magics/script.py:153\u001b[0m, in \u001b[0;36mScriptMagics._make_script_magic.<locals>.named_script_magic\u001b[0;34m(line, cell)\u001b[0m\n\u001b[1;32m    151\u001b[0m \u001b[38;5;28;01melse\u001b[39;00m:\n\u001b[1;32m    152\u001b[0m     line \u001b[38;5;241m=\u001b[39m script\n\u001b[0;32m--> 153\u001b[0m \u001b[38;5;28;01mreturn\u001b[39;00m \u001b[38;5;28;43mself\u001b[39;49m\u001b[38;5;241;43m.\u001b[39;49m\u001b[43mshebang\u001b[49m\u001b[43m(\u001b[49m\u001b[43mline\u001b[49m\u001b[43m,\u001b[49m\u001b[43m \u001b[49m\u001b[43mcell\u001b[49m\u001b[43m)\u001b[49m\n",
      "File \u001b[0;32m/gnu/store/2zfg9hpglvzcb6m674lsm04yj273cjlg-python-ipython-8.5.0/lib/python3.10/site-packages/IPython/core/magics/script.py:305\u001b[0m, in \u001b[0;36mScriptMagics.shebang\u001b[0;34m(self, line, cell)\u001b[0m\n\u001b[1;32m    300\u001b[0m \u001b[38;5;28;01mif\u001b[39;00m args\u001b[38;5;241m.\u001b[39mraise_error \u001b[38;5;129;01mand\u001b[39;00m p\u001b[38;5;241m.\u001b[39mreturncode \u001b[38;5;241m!=\u001b[39m \u001b[38;5;241m0\u001b[39m:\n\u001b[1;32m    301\u001b[0m     \u001b[38;5;66;03m# If we get here and p.returncode is still None, we must have\u001b[39;00m\n\u001b[1;32m    302\u001b[0m     \u001b[38;5;66;03m# killed it but not yet seen its return code. We don't wait for it,\u001b[39;00m\n\u001b[1;32m    303\u001b[0m     \u001b[38;5;66;03m# in case it's stuck in uninterruptible sleep. -9 = SIGKILL\u001b[39;00m\n\u001b[1;32m    304\u001b[0m     rc \u001b[38;5;241m=\u001b[39m p\u001b[38;5;241m.\u001b[39mreturncode \u001b[38;5;129;01mor\u001b[39;00m \u001b[38;5;241m-\u001b[39m\u001b[38;5;241m9\u001b[39m\n\u001b[0;32m--> 305\u001b[0m     \u001b[38;5;28;01mraise\u001b[39;00m CalledProcessError(rc, cell)\n",
      "\u001b[0;31mCalledProcessError\u001b[0m: Command 'b'curl -I localhost:8080\\n'' returned non-zero exit status 7."
     ]
    }
   ],
   "source": [
    "%%sh\n",
    "curl -I localhost:8080"
   ]
  },
  {
   "cell_type": "markdown",
   "id": "cb3e31dd",
   "metadata": {},
   "source": [
    "Looks like the pod is running, but I can't reach it from my host machine. Let's debug:\n",
    "\n",
    "todo write blog post about kubernetes tooling"
   ]
  },
  {
   "cell_type": "code",
   "execution_count": 34,
   "id": "e6dc88c2",
   "metadata": {},
   "outputs": [
    {
     "name": "stdout",
     "output_type": "stream",
     "text": [
      "Name:             searxng\n",
      "Namespace:        default\n",
      "Priority:         0\n",
      "Service Account:  default\n",
      "Node:             kind-control-plane/172.19.0.2\n",
      "Start Time:       Sun, 23 Jun 2024 08:13:37 -0400\n",
      "Labels:           <none>\n",
      "Annotations:      <none>\n",
      "Status:           Running\n",
      "IP:               10.244.0.5\n",
      "IPs:\n",
      "  IP:  10.244.0.5\n",
      "Containers:\n",
      "  searxng:\n",
      "    Container ID:   containerd://cadee59e9980ebccaf5426601cef84432917d25589a89a3d8a1dd906f2014b1f\n",
      "    Image:          searxng/searxng\n",
      "    Image ID:       docker.io/searxng/searxng@sha256:8409d05a16569230fb863e39aeb680132979b65ce5220f7ffcbf44017e8e4204\n",
      "    Port:           8080/TCP\n",
      "    Host Port:      8080/TCP\n",
      "    State:          Running\n",
      "      Started:      Sun, 23 Jun 2024 08:13:43 -0400\n",
      "    Ready:          True\n",
      "    Restart Count:  0\n",
      "    Environment:    <none>\n",
      "    Mounts:\n",
      "      /var/run/secrets/kubernetes.io/serviceaccount from kube-api-access-hrmcl (ro)\n",
      "Conditions:\n",
      "  Type                        Status\n",
      "  PodReadyToStartContainers   True \n",
      "  Initialized                 True \n",
      "  Ready                       True \n",
      "  ContainersReady             True \n",
      "  PodScheduled                True \n",
      "Volumes:\n",
      "  kube-api-access-hrmcl:\n",
      "    Type:                    Projected (a volume that contains injected data from multiple sources)\n",
      "    TokenExpirationSeconds:  3607\n",
      "    ConfigMapName:           kube-root-ca.crt\n",
      "    ConfigMapOptional:       <nil>\n",
      "    DownwardAPI:             true\n",
      "QoS Class:                   BestEffort\n",
      "Node-Selectors:              <none>\n",
      "Tolerations:                 node.kubernetes.io/not-ready:NoExecute op=Exists for 300s\n",
      "                             node.kubernetes.io/unreachable:NoExecute op=Exists for 300s\n",
      "Events:                      <none>\n"
     ]
    }
   ],
   "source": [
    "%%sh\n",
    "kubectl describe pod searxng"
   ]
  },
  {
   "cell_type": "markdown",
   "id": "7b9998f2",
   "metadata": {},
   "source": [
    "Looks like the pod is running, and the port configuration seems to be there. Maybe searxng is having some errors?"
   ]
  },
  {
   "cell_type": "code",
   "execution_count": 39,
   "id": "27919ede",
   "metadata": {},
   "outputs": [
    {
     "name": "stdout",
     "output_type": "stream",
     "text": [
      "PID   USER     TIME  COMMAND\n",
      "    1 root      0:00 /sbin/tini -- /usr/local/searxng/dockerfiles/docker-entrypoint.sh\n",
      "   13 searxng   0:00 {uwsgi} uWSGI master\n",
      "   21 searxng   0:01 {Thread-19 (init} uWSGI worker 1\n",
      "   22 searxng   0:01 {Thread-19 (init} uWSGI worker 2\n",
      "   29 searxng   0:01 {Thread-19 (init} uWSGI worker 3\n",
      "   32 searxng   0:01 {Thread-19 (init} uWSGI worker 4\n",
      "   37 searxng   0:01 {Thread-19 (init} uWSGI worker 5\n",
      "   42 searxng   0:01 {Thread-19 (init} uWSGI worker 6\n",
      "   50 searxng   0:01 {Thread-19 (init} uWSGI worker 7\n",
      "   55 searxng   0:01 {Thread-19 (init} uWSGI worker 8\n",
      "   60 searxng   0:01 {Thread-19 (init} uWSGI worker 9\n",
      "   66 searxng   0:01 {Thread-19 (init} uWSGI worker 10\n",
      "   71 searxng   0:01 {Thread-19 (init} uWSGI worker 11\n",
      "   76 searxng   0:01 {Thread-19 (init} uWSGI worker 12\n",
      "   81 searxng   0:01 {Thread-19 (init} uWSGI worker 13\n",
      "   86 searxng   0:01 {Thread-19 (init} uWSGI worker 14\n",
      "   87 searxng   0:01 {Thread-19 (init} uWSGI worker 15\n",
      "   94 searxng   0:01 {Thread-19 (init} uWSGI worker 16\n",
      "  568 root      0:00 ps aux\n"
     ]
    }
   ],
   "source": [
    "%%sh\n",
    "# I could also try kubectl logs searxng to see the logs\n",
    "kubectl exec searxng -- ps aux"
   ]
  },
  {
   "cell_type": "code",
   "execution_count": 46,
   "id": "306f7c7c",
   "metadata": {},
   "outputs": [
    {
     "name": "stderr",
     "output_type": "stream",
     "text": [
      "Connecting to 127.0.0.1:8080 (127.0.0.1:8080)\n",
      "saving to 'index.html'\n",
      "index.html           100% |********************************|  5994  0:00:00 ETA\n",
      "'index.html' saved\n"
     ]
    }
   ],
   "source": [
    "%%sh\n",
    "kubectl exec searxng -- wget 127.0.0.1:8080"
   ]
  },
  {
   "cell_type": "markdown",
   "id": "de147754",
   "metadata": {},
   "source": [
    "Looks like `searxng` is running, but we just can't access it from outside the cluster. Per the [kind quick-start](https://kind.sigs.k8s.io/docs/user/quick-start/#mapping-ports-to-the-host-machine), we can map ports \"from the nodes to the host machine with `extraPortMappings`\". I'm not sure what that is, but I have a snippet that I can copy paste in. Let's try it.\n",
    "\n",
    "#### Tooling aside\n",
    "\n",
    "This is a great time to get to know some more Kubernetes tools. I'm going to start by adding shell completions to my favorite interactive shell, [fish](https://fishshell.com/). Kubernetes also provides `bash` and `zsh` completions [here](https://kubernetes.io/docs/tasks/tools/install-kubectl-linux/#enable-shell-autocompletion).\n",
    "\n",
    "Also check out the [kubectl reference](https://kubernetes.io/docs/reference/kubectl/generated/). Also consider using a better user interface! Consider [k9s](https://github.com/derailed/k9s) for a TUI or maybe the [Kubernetes extension](https://code.visualstudio.com/docs/azure/kubernetes) for VSCode. There are many other tools which I'd like to write more about todo."
   ]
  },
  {
   "cell_type": "code",
   "execution_count": 50,
   "id": "527dc357",
   "metadata": {},
   "outputs": [
    {
     "name": "stderr",
     "output_type": "stream",
     "text": [
      "Deleting cluster \"kind\" ...\n"
     ]
    },
    {
     "name": "stderr",
     "output_type": "stream",
     "text": [
      "Deleted nodes: [\"kind-control-plane\"]\n",
      "Creating cluster \"kind\" ...\n",
      " • Ensuring node image (kindest/node:v1.30.0) 🖼  ...\n",
      " ✓ Ensuring node image (kindest/node:v1.30.0) 🖼\n",
      " • Preparing nodes 📦   ...\n",
      " ✓ Preparing nodes 📦 \n",
      " • Writing configuration 📜  ...\n",
      " ✓ Writing configuration 📜\n",
      " • Starting control-plane 🕹️  ...\n",
      " ✓ Starting control-plane 🕹️\n",
      " • Installing CNI 🔌  ...\n",
      " ✓ Installing CNI 🔌\n",
      " • Installing StorageClass 💾  ...\n",
      " ✓ Installing StorageClass 💾\n",
      "Set kubectl context to \"kind-kind\"\n",
      "You can now use your cluster with:\n",
      "\n",
      "kubectl cluster-info --context kind-kind\n",
      "\n",
      "Have a nice day! 👋\n"
     ]
    }
   ],
   "source": [
    "%%sh\n",
    "# https://kind.sigs.k8s.io/docs/user/quick-start/#mapping-ports-to-the-host-machine\n",
    "cat > kind-config.yaml << EOF\n",
    "kind: Cluster\n",
    "apiVersion: kind.x-k8s.io/v1alpha4\n",
    "nodes:\n",
    "- role: control-plane\n",
    "  extraPortMappings:\n",
    "  - containerPort: 8080\n",
    "    hostPort: 8080\n",
    "EOF\n",
    "\n",
    "kind delete cluster\n",
    "kind create cluster --config kind-config.yaml\n",
    "#kubectl apply -f cluster.yaml"
   ]
  },
  {
   "cell_type": "code",
   "execution_count": 51,
   "id": "ce1d4bb3",
   "metadata": {},
   "outputs": [
    {
     "name": "stderr",
     "output_type": "stream",
     "text": [
      "No resources found in default namespace.\n"
     ]
    }
   ],
   "source": [
    "%%sh\n",
    "\n",
    "kubectl get pods"
   ]
  },
  {
   "cell_type": "code",
   "execution_count": 55,
   "id": "56f4917c",
   "metadata": {},
   "outputs": [
    {
     "name": "stdout",
     "output_type": "stream",
     "text": [
      "pod/searxng created\n"
     ]
    }
   ],
   "source": [
    "%%sh\n",
    "kubectl apply -f pod.yaml"
   ]
  },
  {
   "cell_type": "code",
   "execution_count": 56,
   "id": "72294c88",
   "metadata": {},
   "outputs": [
    {
     "name": "stderr",
     "output_type": "stream",
     "text": [
      "  % Total    % Received % Xferd  Average Speed   Time    Time     Time  Current\n",
      "                                 Dload  Upload   Total   Spent    Left  Speed\n"
     ]
    },
    {
     "name": "stderr",
     "output_type": "stream",
     "text": [
      "  0  5994    0     0    0     0      0      0 --:--:-- --:--:-- --:--:--     0\n"
     ]
    },
    {
     "name": "stdout",
     "output_type": "stream",
     "text": [
      "HTTP/1.1 200 OK\n",
      "Content-Type: text/html; charset=utf-8\n",
      "Content-Length: 5994\n",
      "Server-Timing: total;dur=43.089, render;dur=39.806\n",
      "X-Content-Type-Options: nosniff\n",
      "X-Download-Options: noopen\n",
      "X-Robots-Tag: noindex, nofollow\n",
      "Referrer-Policy: no-referrer\n",
      "Connection: close\n",
      "\n"
     ]
    }
   ],
   "source": [
    "%%sh\n",
    "curl -I localhost:8080"
   ]
  },
  {
   "cell_type": "markdown",
   "id": "2fa4ac52",
   "metadata": {},
   "source": [
    "It worked! I had to reconfigure `kind` to map the container port to my host machine. This required completely destroying the cluster and recreating it from scratch.\n",
    "\n",
    "Let's clean up."
   ]
  },
  {
   "cell_type": "code",
   "execution_count": 58,
   "id": "5103e588",
   "metadata": {},
   "outputs": [
    {
     "name": "stderr",
     "output_type": "stream",
     "text": [
      "Deleting cluster \"kind\" ...\n",
      "Deleted nodes: [\"kind-control-plane\"]\n"
     ]
    },
    {
     "name": "stdout",
     "output_type": "stream",
     "text": [
      "CONTAINER ID   IMAGE     COMMAND   CREATED   STATUS    PORTS     NAMES\n"
     ]
    }
   ],
   "source": [
    "%%sh\n",
    "kind delete cluster\n",
    "# all gone!\n",
    "docker ps"
   ]
  }
 ],
 "metadata": {
  "kernelspec": {
   "display_name": "Python 3 (ipykernel)",
   "language": "/gnu/store/1w5v338qk5m8khcazwclprs3znqp6f7f-python-3.10.7/bin/python3",
   "name": "python3"
  },
  "language_info": {
   "codemirror_mode": {
    "name": "ipython",
    "version": 3
   },
   "file_extension": ".py",
   "mimetype": "text/x-python",
   "name": "python",
   "nbconvert_exporter": "python",
   "pygments_lexer": "ipython3",
   "version": "3.10.7"
  }
 },
 "nbformat": 4,
 "nbformat_minor": 5
}
