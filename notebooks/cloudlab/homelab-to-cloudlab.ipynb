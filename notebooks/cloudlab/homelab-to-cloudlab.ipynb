{
 "cells": [
  {
   "cell_type": "markdown",
   "metadata": {},
   "source": [
    "I'm going to rebuild my homelab, except I'm going to do it in the cloud.\n",
    "\n",
    "I don't want to manage anything myself (yet). For now, I just want to deploy my private apps and services to my very own cloud LAN.\n",
    "\n",
    "Gameplan:\n",
    "1. [Deploy an app to GKE](https://cloud.google.com/kubernetes-engine/docs/deploy-app-cluster) https://tailscale.com/kb/1185/kubernetes#use-the-kubernetes-operator\n",
    "2. [Access my app via Tailscale](https://tailscale.com/kb/1185/kubernetes#use-the-kubernetes-operator)\n",
    "    - This is the \"cloud LAN\" part of my plan. I was inspired after reading David Crawshaw's [Remebering the LAN](https://crawshaw.io/blog/remembering-the-lan) post. I reflected on how magical my LAN was, and how I wanted to experience that magic without the pain of managing the machines on my LAN. In other words, I want to let someone else manage my infrastructure, but I don't want to lose the magic of the cloud LAN.\n",
    "    - I feel like that rules out most PaaS offerings. They all seem dedicated on deploying production apps to the public. But I don't want that! I want to deploy my self hosted apps for no one except myself (and maybe my friends, if I am finally able to prevent my services from going down)."
   ]
  },
  {
   "cell_type": "markdown",
   "metadata": {},
   "source": [
    "Prerequisites\n",
    "\n",
    "- [`gcloud` CLI](https://cloud.google.com/sdk/gcloud) with [`gke-gcloud-auth-plugin`](https://cloud.google.com/kubernetes-engine/docs/how-to/cluster-access-for-kubectl#install_plugin)\n",
    "- A GCP billing account"
   ]
  },
  {
   "cell_type": "code",
   "execution_count": 4,
   "metadata": {
    "vscode": {
     "languageId": "python"
    }
   },
   "outputs": [
    {
     "name": "stderr",
     "output_type": "stream",
     "text": [
      "Create in progress for [https://cloudresourcemanager.googleapis.com/v1/projects/griffinht-cloudlab].\n",
      "Waiting for [operations/cp.7107272660974735241] to finish...\n",
      "..done.\n",
      "Enabling service [cloudapis.googleapis.com] on project [griffinht-cloudlab]...\n",
      "Operation \"operations/acat.p2-549404533601-f5b7134d-13b6-41b2-99c5-b3334cc6669c\" finished successfully.\n"
     ]
    }
   ],
   "source": [
    "%%sh\n",
    "# don't forget --billing-account=xxxxxx-xxxxxx-xxxxxx\n",
    "gcloud projects create griffinht-cloudlab"
   ]
  },
  {
   "cell_type": "code",
   "execution_count": 21,
   "metadata": {
    "vscode": {
     "languageId": "python"
    }
   },
   "outputs": [
    {
     "name": "stdout",
     "output_type": "stream",
     "text": [
      "env: CLOUDSDK_CORE_PROJECT=griffinht-cloudlab\n",
      "env: CLOUDSDK_COMPUTE_ZONE=us-east1\n"
     ]
    }
   ],
   "source": [
    "%env CLOUDSDK_CORE_PROJECT=griffinht-cloudlab\n",
    "%env CLOUDSDK_COMPUTE_ZONE=us-east1"
   ]
  },
  {
   "cell_type": "code",
   "execution_count": 8,
   "metadata": {
    "vscode": {
     "languageId": "python"
    }
   },
   "outputs": [
    {
     "name": "stderr",
     "output_type": "stream",
     "text": [
      "ERROR: (gcloud.container.clusters.create-auto) ResponseError: code=403, message=Kubernetes Engine API has not been used in project griffinht-cloudlab before or it is disabled. Enable it by visiting https://console.developers.google.com/apis/api/container.googleapis.com/overview?project=griffinht-cloudlab then retry. If you enabled this API recently, wait a few minutes for the action to propagate to our systems and retry.\n"
     ]
    },
    {
     "ename": "CalledProcessError",
     "evalue": "Command 'b'gcloud container clusters create-auto my-cluster \\\\\\n    --location=us-east1\\n'' returned non-zero exit status 1.",
     "output_type": "error",
     "traceback": [
      "\u001b[0;31m---------------------------------------------------------------------------\u001b[0m",
      "\u001b[0;31mCalledProcessError\u001b[0m                        Traceback (most recent call last)",
      "Cell \u001b[0;32mIn [8], line 1\u001b[0m\n\u001b[0;32m----> 1\u001b[0m \u001b[43mget_ipython\u001b[49m\u001b[43m(\u001b[49m\u001b[43m)\u001b[49m\u001b[38;5;241;43m.\u001b[39;49m\u001b[43mrun_cell_magic\u001b[49m\u001b[43m(\u001b[49m\u001b[38;5;124;43m'\u001b[39;49m\u001b[38;5;124;43msh\u001b[39;49m\u001b[38;5;124;43m'\u001b[39;49m\u001b[43m,\u001b[49m\u001b[43m \u001b[49m\u001b[38;5;124;43m'\u001b[39;49m\u001b[38;5;124;43m'\u001b[39;49m\u001b[43m,\u001b[49m\u001b[43m \u001b[49m\u001b[38;5;124;43m'\u001b[39;49m\u001b[38;5;124;43mgcloud container clusters create-auto my-cluster \u001b[39;49m\u001b[38;5;130;43;01m\\\\\u001b[39;49;00m\u001b[38;5;130;43;01m\\n\u001b[39;49;00m\u001b[38;5;124;43m    --location=us-east1\u001b[39;49m\u001b[38;5;130;43;01m\\n\u001b[39;49;00m\u001b[38;5;124;43m'\u001b[39;49m\u001b[43m)\u001b[49m\n",
      "File \u001b[0;32m/gnu/store/2zfg9hpglvzcb6m674lsm04yj273cjlg-python-ipython-8.5.0/lib/python3.10/site-packages/IPython/core/interactiveshell.py:2362\u001b[0m, in \u001b[0;36mInteractiveShell.run_cell_magic\u001b[0;34m(self, magic_name, line, cell)\u001b[0m\n\u001b[1;32m   2360\u001b[0m \u001b[38;5;28;01mwith\u001b[39;00m \u001b[38;5;28mself\u001b[39m\u001b[38;5;241m.\u001b[39mbuiltin_trap:\n\u001b[1;32m   2361\u001b[0m     args \u001b[38;5;241m=\u001b[39m (magic_arg_s, cell)\n\u001b[0;32m-> 2362\u001b[0m     result \u001b[38;5;241m=\u001b[39m \u001b[43mfn\u001b[49m\u001b[43m(\u001b[49m\u001b[38;5;241;43m*\u001b[39;49m\u001b[43margs\u001b[49m\u001b[43m,\u001b[49m\u001b[43m \u001b[49m\u001b[38;5;241;43m*\u001b[39;49m\u001b[38;5;241;43m*\u001b[39;49m\u001b[43mkwargs\u001b[49m\u001b[43m)\u001b[49m\n\u001b[1;32m   2363\u001b[0m \u001b[38;5;28;01mreturn\u001b[39;00m result\n",
      "File \u001b[0;32m/gnu/store/2zfg9hpglvzcb6m674lsm04yj273cjlg-python-ipython-8.5.0/lib/python3.10/site-packages/IPython/core/magics/script.py:153\u001b[0m, in \u001b[0;36mScriptMagics._make_script_magic.<locals>.named_script_magic\u001b[0;34m(line, cell)\u001b[0m\n\u001b[1;32m    151\u001b[0m \u001b[38;5;28;01melse\u001b[39;00m:\n\u001b[1;32m    152\u001b[0m     line \u001b[38;5;241m=\u001b[39m script\n\u001b[0;32m--> 153\u001b[0m \u001b[38;5;28;01mreturn\u001b[39;00m \u001b[38;5;28;43mself\u001b[39;49m\u001b[38;5;241;43m.\u001b[39;49m\u001b[43mshebang\u001b[49m\u001b[43m(\u001b[49m\u001b[43mline\u001b[49m\u001b[43m,\u001b[49m\u001b[43m \u001b[49m\u001b[43mcell\u001b[49m\u001b[43m)\u001b[49m\n",
      "File \u001b[0;32m/gnu/store/2zfg9hpglvzcb6m674lsm04yj273cjlg-python-ipython-8.5.0/lib/python3.10/site-packages/IPython/core/magics/script.py:305\u001b[0m, in \u001b[0;36mScriptMagics.shebang\u001b[0;34m(self, line, cell)\u001b[0m\n\u001b[1;32m    300\u001b[0m \u001b[38;5;28;01mif\u001b[39;00m args\u001b[38;5;241m.\u001b[39mraise_error \u001b[38;5;129;01mand\u001b[39;00m p\u001b[38;5;241m.\u001b[39mreturncode \u001b[38;5;241m!=\u001b[39m \u001b[38;5;241m0\u001b[39m:\n\u001b[1;32m    301\u001b[0m     \u001b[38;5;66;03m# If we get here and p.returncode is still None, we must have\u001b[39;00m\n\u001b[1;32m    302\u001b[0m     \u001b[38;5;66;03m# killed it but not yet seen its return code. We don't wait for it,\u001b[39;00m\n\u001b[1;32m    303\u001b[0m     \u001b[38;5;66;03m# in case it's stuck in uninterruptible sleep. -9 = SIGKILL\u001b[39;00m\n\u001b[1;32m    304\u001b[0m     rc \u001b[38;5;241m=\u001b[39m p\u001b[38;5;241m.\u001b[39mreturncode \u001b[38;5;129;01mor\u001b[39;00m \u001b[38;5;241m-\u001b[39m\u001b[38;5;241m9\u001b[39m\n\u001b[0;32m--> 305\u001b[0m     \u001b[38;5;28;01mraise\u001b[39;00m CalledProcessError(rc, cell)\n",
      "\u001b[0;31mCalledProcessError\u001b[0m: Command 'b'gcloud container clusters create-auto my-cluster \\\\\\n    --location=us-east1\\n'' returned non-zero exit status 1."
     ]
    }
   ],
   "source": [
    "%%sh\n",
    "gcloud container clusters create-auto my-cluster"
   ]
  },
  {
   "cell_type": "code",
   "execution_count": 12,
   "metadata": {
    "vscode": {
     "languageId": "python"
    }
   },
   "outputs": [
    {
     "name": "stderr",
     "output_type": "stream",
     "text": [
      "Operation \"operations/acf.p2-549404533601-dd498467-be11-4e22-a8b3-7cc461110abb\" finished successfully.\n"
     ]
    }
   ],
   "source": [
    "%%sh\n",
    "gcloud services enable container.googleapis.com"
   ]
  },
  {
   "cell_type": "code",
   "execution_count": 16,
   "metadata": {
    "vscode": {
     "languageId": "python"
    }
   },
   "outputs": [
    {
     "name": "stderr",
     "output_type": "stream",
     "text": [
      "Creating cluster my-cluster in us-east1...\n",
      ".............................................................................................................................................................................................................................................................................................................................................................................................................................................................................................................................................................................................................................................................................................................................................................................................................................................................................................................................................................................................................................................................................................................................................................................................................................................................................................................................................................................................................................................................................................................................................................................................................................................................................................................................................................................................................................................................................................................................................................................................................................................................................................................................................................................................................................................................................................................................................................................................................................................................................................................................................................................................................................................................................................................................................................................................................................................................................................................................................................................................................................................................................................................................................................................................................................................................................................................................................................................................done.\n",
      "Created [https://container.googleapis.com/v1/projects/griffinht-cloudlab/zones/us-east1/clusters/my-cluster].\n",
      "To inspect the contents of your cluster, go to: https://console.cloud.google.com/kubernetes/workload_/gcloud/us-east1/my-cluster?project=griffinht-cloudlab\n",
      "CRITICAL: ACTION REQUIRED: gke-gcloud-auth-plugin, which is needed for continued use of kubectl, was not found or is not executable. Install gke-gcloud-auth-plugin for use with kubectl by following https://cloud.google.com/kubernetes-engine/docs/how-to/cluster-access-for-kubectl#install_plugin\n",
      "kubeconfig entry generated for my-cluster.\n"
     ]
    },
    {
     "name": "stdout",
     "output_type": "stream",
     "text": [
      "NAME        LOCATION  MASTER_VERSION      MASTER_IP     MACHINE_TYPE  NODE_VERSION        NUM_NODES  STATUS\n",
      "my-cluster  us-east1  1.29.4-gke.1043002  35.227.21.72  e2-small      1.29.4-gke.1043002  3          RUNNING\n"
     ]
    }
   ],
   "source": [
    "%%sh\n",
    "gcloud container clusters create-auto my-cluster"
   ]
  },
  {
   "cell_type": "markdown",
   "metadata": {},
   "source": [
    "It's up! Let's explore what we have created using the standard Kubernetes tools I explored in my zero to kubernetes lab.\n",
    "\n",
    "Note that I had to go install [`gke-gcloud-auth-plugin`](https://cloud.google.com/kubernetes-engine/docs/how-to/cluster-access-for-kubectl#install_plugin) at this point."
   ]
  },
  {
   "cell_type": "code",
   "execution_count": 24,
   "metadata": {
    "vscode": {
     "languageId": "python"
    }
   },
   "outputs": [
    {
     "name": "stderr",
     "output_type": "stream",
     "text": [
      "Fetching cluster endpoint and auth data.\n",
      "kubeconfig entry generated for my-cluster.\n"
     ]
    }
   ],
   "source": [
    "%%sh\n",
    "gcloud container clusters get-credentials my-cluster"
   ]
  },
  {
   "cell_type": "code",
   "execution_count": 25,
   "metadata": {
    "vscode": {
     "languageId": "python"
    }
   },
   "outputs": [
    {
     "name": "stdout",
     "output_type": "stream",
     "text": [
      "\u001b[0;32mKubernetes control plane\u001b[0m is running at \u001b[0;33mhttps://35.227.21.72\u001b[0m\n",
      "\u001b[0;32mGLBCDefaultBackend\u001b[0m is running at \u001b[0;33mhttps://35.227.21.72/api/v1/namespaces/kube-system/services/default-http-backend:http/proxy\u001b[0m\n",
      "\u001b[0;32mKubeDNS\u001b[0m is running at \u001b[0;33mhttps://35.227.21.72/api/v1/namespaces/kube-system/services/kube-dns:dns/proxy\u001b[0m\n",
      "\u001b[0;32mMetrics-server\u001b[0m is running at \u001b[0;33mhttps://35.227.21.72/api/v1/namespaces/kube-system/services/https:metrics-server:/proxy\u001b[0m\n",
      "\n",
      "To further debug and diagnose cluster problems, use 'kubectl cluster-info dump'.\n"
     ]
    }
   ],
   "source": [
    "%%sh\n",
    "kubectl cluster-info "
   ]
  },
  {
   "cell_type": "markdown",
   "metadata": {},
   "source": [
    "Everything looks good.\n",
    "\n",
    "Following my example from my todo zero to Kubernetes lab, I will be deploying `searxng`, a privacy focused metasearch engine.\n",
    "\n",
    "I already know how I can test my `pod.yaml` definition locally, so I'm ready to deploy it to my cluster. "
   ]
  },
  {
   "cell_type": "code",
   "execution_count": 26,
   "metadata": {
    "vscode": {
     "languageId": "python"
    }
   },
   "outputs": [
    {
     "name": "stderr",
     "output_type": "stream",
     "text": [
      "Warning: autopilot-default-resources-mutator:Autopilot updated Pod default/searxng: defaulted unspecified 'cpu' resource for containers [searxng] (see http://g.co/gke/autopilot-defaults).\n"
     ]
    },
    {
     "name": "stdout",
     "output_type": "stream",
     "text": [
      "pod/searxng created\n"
     ]
    }
   ],
   "source": [
    "%%sh\n",
    "cat > pod.yaml << EOF\n",
    "apiVersion: v1\n",
    "kind: Pod\n",
    "metadata:\n",
    "    name: searxng\n",
    "spec:\n",
    "    containers:\n",
    "      - name: searxng\n",
    "        image: searxng/searxng\n",
    "        ports:\n",
    "        - containerPort: 8080\n",
    "EOF\n",
    "\n",
    "kubectl apply -f pod.yaml"
   ]
  },
  {
   "cell_type": "markdown",
   "metadata": {},
   "source": [
    "This took a while to start up, but I was able to watch the progress from `k9s`.\n",
    "\n",
    "![a picture of my pod running in k9s](k9s.png)"
   ]
  },
  {
   "cell_type": "code",
   "execution_count": 34,
   "metadata": {
    "vscode": {
     "languageId": "python"
    }
   },
   "outputs": [
    {
     "name": "stdout",
     "output_type": "stream",
     "text": [
      "NAME      READY   STATUS    RESTARTS   AGE\n",
      "searxng   1/1     Running   0          6m26s\n"
     ]
    }
   ],
   "source": [
    "%%sh\n",
    "kubectl get pods"
   ]
  },
  {
   "cell_type": "code",
   "execution_count": 35,
   "metadata": {
    "vscode": {
     "languageId": "python"
    }
   },
   "outputs": [
    {
     "name": "stderr",
     "output_type": "stream",
     "text": [
      "Connecting to icanhazip.com (104.16.185.241:80)\n",
      "saving to 'index.html'\n",
      "index.html           100% |********************************|    15  0:00:00 ETA\n",
      "'index.html' saved\n"
     ]
    }
   ],
   "source": [
    "%%sh\n",
    "kubectl exec searxng -- wget icanhazip.com"
   ]
  },
  {
   "cell_type": "markdown",
   "metadata": {},
   "source": [
    "Looks like the pod has internet access. Now I'm going to access the pod from my Tailscale network (what I am calling my \"Cloud LAN\").\n",
    "\n",
    "I'm going to pick up from my Tailscale Kubernetes lab\n",
    "\n",
    "I want to be able to access `searxng` from `searxng.cloudlab.griffinht.com`\n",
    "\n",
    "\n",
    "\n",
    "TAILSCALE IS NOT NEEDED I COULD HAVE JUST USED PLAIN OLD WIREGUARD!!!"
   ]
  },
  {
   "cell_type": "markdown",
   "metadata": {},
   "source": [
    "https://kubernetes-sigs.github.io/external-dns/v0.14.2/tutorials/cloudflare/#using-helm"
   ]
  },
  {
   "cell_type": "code",
   "execution_count": null,
   "metadata": {
    "vscode": {
     "languageId": "python"
    }
   },
   "outputs": [],
   "source": []
  },
  {
   "cell_type": "markdown",
   "metadata": {},
   "source": [
    "# Multi Environment Automation\n",
    "\n",
    "Now that I have my environment up and running, I would like to "
   ]
  },
  {
   "cell_type": "code",
   "execution_count": null,
   "metadata": {
    "vscode": {
     "languageId": "python"
    }
   },
   "outputs": [],
   "source": [
    "\n"
   ]
  }
 ],
 "metadata": {
  "kernelspec": {
   "display_name": "Python 3 (ipykernel)",
   "language": "/gnu/store/1w5v338qk5m8khcazwclprs3znqp6f7f-python-3.10.7/bin/python3",
   "name": "python3"
  },
  "language_info": {
   "codemirror_mode": {
    "name": "ipython",
    "version": 3
   },
   "file_extension": ".py",
   "mimetype": "text/x-python",
   "name": "/gnu/store/1w5v338qk5m8khcazwclprs3znqp6f7f-python-3.10.7/bin/python3",
   "nbconvert_exporter": "python",
   "pygments_lexer": "ipython3",
   "version": "3.10.7"
  }
 },
 "nbformat": 4,
 "nbformat_minor": 2
}
