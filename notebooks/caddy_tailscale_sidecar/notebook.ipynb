{
 "cells": [
  {
   "cell_type": "code",
   "execution_count": 2,
   "metadata": {
    "vscode": {
     "languageId": "plaintext"
    }
   },
   "outputs": [
    {
     "name": "stdout",
     "output_type": "stream",
     "text": [
      "/home/griffin/git/griffinht.com/notebooks/caddy_tailscale_sidecar\n"
     ]
    }
   ],
   "source": [
    "%cd caddy_tailscale_sidecar"
   ]
  },
  {
   "cell_type": "markdown",
   "metadata": {
    "vscode": {
     "languageId": "python"
    }
   },
   "source": [
    "# Deploying a VPS on Kubernetes\n",
    "\n",
    "It doesn't matter whether the server here is an EC2 instance or \n",
    "\n",
    "The point is that we have a Linux machine with a public IP address that we can connect to.\n",
    "\n",
    "todo guide lab on removing that public IP and replacing with tailscale\n",
    "\n",
    "Here is a scenario that I think most software developers understand. Let's say you have a VPS. You \n",
    "\n",
    "\n",
    "The steps here are simple. Your VPS comes with a public IP address. You can access it "
   ]
  },
  {
   "cell_type": "markdown",
   "metadata": {
    "vscode": {
     "languageId": "plaintext"
    }
   },
   "source": [
    "I think that the file server is the most fundamental building block of a computer network. A safe place for you files. Entire businesses can be built off of nothing but a file server."
   ]
  },
  {
   "cell_type": "code",
   "execution_count": null,
   "metadata": {
    "vscode": {
     "languageId": "plaintext"
    }
   },
   "outputs": [],
   "source": [
    "womp wom"
   ]
  },
  {
   "cell_type": "code",
   "execution_count": null,
   "metadata": {
    "vscode": {
     "languageId": "plaintext"
    }
   },
   "outputs": [],
   "source": [
    "Podman generate kuberentes pod from pod"
   ]
  },
  {
   "cell_type": "markdown",
   "metadata": {
    "vscode": {
     "languageId": "plaintext"
    }
   },
   "source": [
    "Let's make a pod, and call it caddy."
   ]
  },
  {
   "cell_type": "code",
   "execution_count": 53,
   "metadata": {
    "vscode": {
     "languageId": "plaintext"
    }
   },
   "outputs": [
    {
     "name": "stdout",
     "output_type": "stream",
     "text": [
      "Overwriting pod.yaml\n"
     ]
    }
   ],
   "source": [
    "%%writefile pod.yaml\n",
    "apiVersion: v1\n",
    "kind: Pod\n",
    "metadata:\n",
    "    name: caddy\n",
    "spec:\n",
    "    containers:\n",
    "      - name: caddy\n",
    "        image: caddy/caddy"
   ]
  },
  {
   "cell_type": "code",
   "execution_count": 56,
   "metadata": {
    "vscode": {
     "languageId": "plaintext"
    }
   },
   "outputs": [
    {
     "name": "stderr",
     "output_type": "stream",
     "text": [
      "Warning: autopilot-default-resources-mutator:Autopilot updated Pod default/caddy: defaulted unspecified 'cpu' resource for containers [caddy] (see http://g.co/gke/autopilot-defaults).\n"
     ]
    },
    {
     "name": "stdout",
     "output_type": "stream",
     "text": [
      "pod/caddy created\n"
     ]
    }
   ],
   "source": [
    "%%sh\n",
    "kubectl apply -f pod.yaml"
   ]
  },
  {
   "cell_type": "code",
   "execution_count": 48,
   "metadata": {
    "vscode": {
     "languageId": "plaintext"
    }
   },
   "outputs": [
    {
     "name": "stdout",
     "output_type": "stream",
     "text": [
      "NAME    READY   STATUS    RESTARTS   AGE\n",
      "caddy   1/1     Running   0          27m\n"
     ]
    }
   ],
   "source": [
    "%%sh\n",
    "kubectl get pods "
   ]
  },
  {
   "cell_type": "code",
   "execution_count": 11,
   "metadata": {
    "vscode": {
     "languageId": "plaintext"
    }
   },
   "outputs": [
    {
     "name": "stderr",
     "output_type": "stream",
     "text": [
      "Connecting to localhost:80 (127.0.0.1:80)\n",
      "writing to stdout\n",
      "-                    100% |********************************| 12256  0:00:00 ETA\n",
      "written to stdout\n"
     ]
    },
    {
     "name": "stdout",
     "output_type": "stream",
     "text": [
      "<!DOCTYPE html>\n",
      "<html>\n",
      "\t<head>\n",
      "\t\t<title>Caddy works!</title>\n",
      "\t\t<meta charset=\"utf-8\">\n",
      "\t\t<meta name=\"viewport\" content=\"width=device-width, initial-scale=1.0\">\n",
      "\t\t<link rel=\"icon\" href=\"data:,\">\n",
      "\t\t<style>\n",
      "\t\t\t* {\n",
      "\t\t\t\tbox-sizing: border-box;\n",
      "\t\t\t\tpadding: 0;\n",
      "\t\t\t\tmargin: 0;\n",
      "\t\t\t}\n",
      "\n",
      "\t\t\tbody {\n",
      "\t\t\t\tbackground: #f1f4f5;\n",
      "\t\t\t\tfont-family: sans-serif;\n",
      "\t\t\t\tfont-size: 20px;\n",
      "\t\t\t\t-webkit-font-smoothing: antialiased;\n",
      "\t\t\t}\n",
      "\n",
      "\t\t\ta {\n",
      "\t\t\t\tcolor: #2f79ff;\n",
      "\t\t\t\ttext-decoration: none;\n",
      "\t\t\t}\n",
      "\n",
      "\t\t\ta:hover {\n",
      "\t\t\t\ttext-decoration: underline;\n",
      "\t\t\t}\n",
      "\n",
      "\t\t\t.stack {\n",
      "\t\t\t\twidth: 70%;\n",
      "\t\t\t\tmax-width: 1150px;\n",
      "\t\t\t\tmargin: 25px 0 150px 25px;\n",
      "\t\t\t\tdisplay: flex;\n",
      "\t\t\t\talign-content: flex-start;\n",
      "\t\t\t}\n",
      "\n",
      "\t\t\t.paper {\n",
      "\t\t\t\tposition: relative;\n",
      "\t\t\t\tflex-shrink: 0;\n",
      "\t\t\t\twidth: 100%;\n",
      "\n",
      "\t\t\t\tbackground: white;\n",
      "\t\t\t\tborder-radius: 3px;\n",
      "\t\t\t\tbox-shadow: 1px 2px 4px 1px rgba(0, 0, 0, .15);\n",
      "\t\t\t\tpadding: 100px;\n",
      "\t\t\t}\n",
      "\n",
      "\t\t\t#paper1 {\n",
      "\t\t\t\ttop: 45px;\n",
      "\t\t\t\tleft: 50px;\n",
      "\t\t\t}\n",
      "\n",
      "\t\t\t#paper2 {\n",
      "\t\t\t\ttop: 20px;\n",
      "\t\t\t\tleft: -100%;\n",
      "\t\t\t}\n",
      "\n",
      "\t\t\t#paper3 {\n",
      "\t\t\t\ttop: 25px;\n",
      "\t\t\t\ttransform: rotate(-4deg);\n",
      "\t\t\t\tleft: -200%;\n",
      "\t\t\t}\n",
      "\n",
      "\t\t\t#caddy {\n",
      "\t\t\t\tmax-width: 175px;\n",
      "\t\t\t\tmargin-bottom: 75px;\n",
      "\t\t\t}\n",
      "\n",
      "\t\t\t#caddy .caddy-color {\n",
      "\t\t\t\tfill: #005e7e;\n",
      "\t\t\t}\n",
      "\n",
      "\t\t\th1 {\n",
      "\t\t\t\tfont-size: 20px;\n",
      "\t\t\t\tmargin-bottom: 50px;\n",
      "\t\t\t}\n",
      "\n",
      "\t\t\th1 .emoji {\n",
      "\t\t\t\tfont-size: 150%;\n",
      "\t\t\t\tvertical-align: middle;\n",
      "\t\t\t}\n",
      "\n",
      "\t\t\th1 .lang {\n",
      "\t\t\t\tmargin-right: 1.5em;\n",
      "\t\t\t}\n",
      "\n",
      "\t\t\th2 {\n",
      "\t\t\t\tfont-size: 28px;\n",
      "\t\t\t\tmargin-top: 1.5em;\n",
      "\t\t\t}\n",
      "\n",
      "\t\t\tp,\n",
      "\t\t\tol,\n",
      "\t\t\tul {\n",
      "\t\t\t\tcolor: #333;\n",
      "\t\t\t\tline-height: 1.5em;\n",
      "\t\t\t}\n",
      "\n",
      "\t\t\tp {\n",
      "\t\t\t\tmargin: 1.5em 0;\n",
      "\t\t\t}\n",
      "\n",
      "\t\t\tol,\n",
      "\t\t\tul {\n",
      "\t\t\t\tmargin: .5em 0 .5em 2em;\n",
      "\t\t\t}\n",
      "\n",
      "\t\t\tol li,\n",
      "\t\t\tul li {\n",
      "\t\t\t\tmargin-left: 1em;\n",
      "\t\t\t\tmargin-bottom: .5em;\n",
      "\t\t\t}\n",
      "\n",
      "\t\t\tli ol {\n",
      "\t\t\t\tlist-style-type: lower-alpha;\n",
      "\t\t\t}\n",
      "\n",
      "\t\t\tcode {\n",
      "\t\t\t\tcolor: #000;\n",
      "\t\t\t\tfont-family: Menlo, monospace;\n",
      "\t\t\t\tbackground: #f0f0f0;\n",
      "\t\t\t\tborder-radius: 2px;\n",
      "\t\t\t\tpadding: 4px 8px;\n",
      "\t\t\t\tfont-size: 90%;\n",
      "\t\t\t}\n",
      "\n",
      "\t\t\t.warn {\n",
      "\t\t\t\tcolor: #dd0000;\n",
      "\t\t\t}\n",
      "\n",
      "\t\t\tfooter {\n",
      "\t\t\t\tcolor: #777;\n",
      "\t\t\t\tfont-size: 16px;\n",
      "\t\t\t\ttext-align: center;\n",
      "\t\t\t\tmax-width: 600px;\n",
      "\t\t\t\tmargin: 0 auto 50px;\n",
      "\t\t\t}\n",
      "\n",
      "\t\t\t#disclaimer {\n",
      "\t\t\t\tfont-size: 14px;\n",
      "\t\t\t\tmargin-top: 20px;\n",
      "\t\t\t\tdisplay: inline-block;\n",
      "\t\t\t\tborder-top: 1px solid #ccc;\n",
      "\t\t\t\tpadding: 20px;\n",
      "\t\t\t}\n",
      "\n",
      "\t\t\t@media (max-width: 1100px) {\n",
      "\t\t\t\t.stack {\n",
      "\t\t\t\t\twidth: 85%;\n",
      "\t\t\t\t}\n",
      "\t\t\t}\n",
      "\n",
      "\t\t\t@media (max-width: 800px) {\n",
      "\t\t\t\t.stack {\n",
      "\t\t\t\t\tmargin: 0 0 50px 0;\n",
      "\t\t\t\t\twidth: 100%;\n",
      "\t\t\t\t}\n",
      "\n",
      "\t\t\t\t.paper {\n",
      "\t\t\t\t\tpadding: 50px;\n",
      "\t\t\t\t}\n",
      "\n",
      "\t\t\t\t#paper1,\n",
      "\t\t\t\t#paper2 {\n",
      "\t\t\t\t\tdisplay: none;\n",
      "\t\t\t\t}\n",
      "\n",
      "\t\t\t\t#paper3 {\n",
      "\t\t\t\t\tleft: 0;\n",
      "\t\t\t\t\ttransform: none;\n",
      "\t\t\t\t\ttop: 0;\n",
      "\t\t\t\t}\n",
      "\n",
      "\t\t\t\t#caddy {\n",
      "\t\t\t\t\tmargin-bottom: 25px;\n",
      "\t\t\t\t}\n",
      "\t\t\t}\n",
      "\t\t</style>\n",
      "\t</head>\n",
      "\t<body>\n",
      "\t\t<div class=\"stack\">\n",
      "\t\t\t<div class=\"paper\" id=\"paper1\"></div>\n",
      "\t\t\t<div class=\"paper\" id=\"paper2\"></div>\n",
      "\t\t\t<div class=\"paper\" id=\"paper3\">\n",
      "\t\t\t\t<a href=\"https://caddyserver.com/\" title=\"Caddy Web Server\"><svg id=\"caddy\" viewBox=\"0 0 302 93\" version=\"1.1\" xmlns=\"http://www.w3.org/2000/svg\" xmlns:xlink=\"http://www.w3.org/1999/xlink\" xml:space=\"preserve\" xmlns:serif=\"http://www.serif.com/\" style=\"fill-rule:evenodd;clip-rule:evenodd;stroke-linejoin:round;stroke-miterlimit:2;\"><g><path d=\"M299.377,2.595c1.557,1.556 2.335,3.429 2.335,5.617c0,2.188 -0.775,4.064 -2.324,5.628c-1.549,1.564 -3.432,2.346 -5.65,2.346c-2.217,0 -4.093,-0.775 -5.628,-2.324c-1.534,-1.55 -2.302,-3.418 -2.302,-5.606c0,-2.188 0.775,-4.068 2.324,-5.639c1.55,-1.571 3.426,-2.357 5.628,-2.357c2.203,0 4.075,0.778 5.617,2.335Zm-1.057,10c1.175,-1.219 1.762,-2.687 1.762,-4.405c0,-1.718 -0.617,-3.194 -1.85,-4.428c-1.234,-1.233 -2.721,-1.85 -4.461,-1.85c-1.74,0 -3.23,0.624 -4.471,1.872c-1.241,1.249 -1.862,2.739 -1.862,4.472c0,1.733 0.61,3.216 1.829,4.449c1.219,1.234 2.716,1.851 4.493,1.851c1.777,0 3.282,-0.639 4.516,-1.917l-2.555,0l-1.917,-2.753l-0.969,0l0,2.753l-2.423,0l0,-8.943l3.546,0c1.41,0 2.416,0.243 3.018,0.727c0.602,0.485 0.903,1.263 0.903,2.335c0,1.307 -0.594,2.217 -1.784,2.731l2.225,3.106Zm-4.318,-4.692c0.573,0 0.962,-0.091 1.168,-0.275c0.206,-0.184 0.308,-0.477 0.308,-0.881c0,-0.404 -0.106,-0.683 -0.319,-0.837c-0.213,-0.154 -0.584,-0.231 -1.112,-0.231l-1.212,0l0,2.224l1.167,0Z\" class=\"caddy-color\"  style=\"fill-rule:nonzero;\"/><path d=\"M34.502,73.491c-6.519,0 -12.408,-1.515 -17.666,-4.544c-5.258,-3.03 -9.379,-7.216 -12.362,-12.558c-2.983,-5.343 -4.474,-11.369 -4.474,-18.08c0,-6.71 1.507,-12.737 4.52,-18.079c3.014,-5.343 7.15,-9.529 12.408,-12.558c5.259,-3.03 11.147,-4.545 17.667,-4.545c5.289,0 10.117,0.978 14.483,2.932c4.367,1.955 8.057,4.789 11.07,8.502l-7.749,7.721c-4.674,-5.343 -10.424,-8.014 -17.251,-8.014c-4.428,0 -8.395,1.026 -11.9,3.079c-3.506,2.052 -6.243,4.902 -8.211,8.551c-1.968,3.648 -2.952,7.785 -2.952,12.411c0,4.626 0.984,8.763 2.952,12.412c1.968,3.648 4.705,6.498 8.211,8.551c3.505,2.052 7.472,3.078 11.9,3.078c6.827,0 12.577,-2.704 17.251,-8.111l7.749,7.818c-3.013,3.714 -6.719,6.548 -11.116,8.502c-4.397,1.955 -9.241,2.932 -14.53,2.932Z\" class=\"caddy-color\" style=\"fill-rule:nonzero;\"/><path d=\"M84.78,19.741c7.257,0 12.807,1.84 16.651,5.522c3.844,3.681 5.766,9.235 5.766,16.662l0,30.589l-10.886,0l0,-6.353c-1.414,2.281 -3.428,4.024 -6.042,5.229c-2.614,1.205 -5.766,1.808 -9.456,1.808c-3.69,0 -6.919,-0.668 -9.687,-2.004c-2.767,-1.335 -4.904,-3.192 -6.411,-5.57c-1.507,-2.378 -2.26,-5.066 -2.26,-8.063c0,-4.69 1.645,-8.453 4.935,-11.287c3.291,-2.834 8.472,-4.251 15.545,-4.251l12.731,0l0,-0.782c0,-3.649 -1.031,-6.45 -3.091,-8.405c-2.06,-1.954 -5.12,-2.931 -9.179,-2.931c-2.768,0 -5.489,0.456 -8.164,1.368c-2.676,0.912 -4.936,2.182 -6.781,3.811l-4.52,-8.893c2.583,-2.085 5.689,-3.681 9.317,-4.789c3.629,-1.107 7.473,-1.661 11.532,-1.661Zm-1.568,44.564c2.89,0 5.458,-0.701 7.703,-2.102c2.244,-1.4 3.828,-3.404 4.751,-6.01l0,-6.059l-11.901,0c-6.642,0 -9.963,2.313 -9.963,6.939c0,2.215 0.83,3.974 2.491,5.277c1.66,1.303 3.966,1.955 6.919,1.955Z\" class=\"caddy-color\" style=\"fill-rule:nonzero;\"/><path d=\"M165.593,0l0,72.514l-11.071,0l0,-6.743c-1.906,2.475 -4.258,4.332 -7.057,5.57c-2.798,1.238 -5.889,1.857 -9.271,1.857c-4.736,0 -8.995,-1.108 -12.777,-3.323c-3.782,-2.215 -6.75,-5.359 -8.902,-9.431c-2.153,-4.072 -3.229,-8.746 -3.229,-14.023c0,-5.278 1.076,-9.936 3.229,-13.976c2.152,-4.039 5.12,-7.166 8.902,-9.381c3.782,-2.215 8.041,-3.323 12.777,-3.323c3.259,0 6.242,0.586 8.948,1.759c2.706,1.173 5.013,2.932 6.919,5.277l0,-26.777l11.532,0Zm-26.015,62.741c2.767,0 5.258,-0.668 7.472,-2.003c2.214,-1.336 3.967,-3.242 5.258,-5.717c1.292,-2.476 1.938,-5.343 1.938,-8.6c0,-3.258 -0.646,-6.125 -1.938,-8.6c-1.291,-2.476 -3.044,-4.382 -5.258,-5.718c-2.214,-1.335 -4.705,-2.003 -7.472,-2.003c-2.768,0 -5.259,0.668 -7.473,2.003c-2.214,1.336 -3.967,3.242 -5.258,5.718c-1.292,2.475 -1.937,5.342 -1.937,8.6c0,3.257 0.645,6.124 1.937,8.6c1.291,2.475 3.044,4.381 5.258,5.717c2.214,1.335 4.705,2.003 7.473,2.003Z\" class=\"caddy-color\" style=\"fill-rule:nonzero;\"/><path d=\"M224.357,0l0,72.514l-11.07,0l0,-6.743c-1.906,2.475 -4.259,4.332 -7.057,5.57c-2.798,1.238 -5.889,1.857 -9.271,1.857c-4.736,0 -8.995,-1.108 -12.777,-3.323c-3.783,-2.215 -6.75,-5.359 -8.903,-9.431c-2.152,-4.072 -3.229,-8.746 -3.229,-14.023c0,-5.278 1.077,-9.936 3.229,-13.976c2.153,-4.039 5.12,-7.166 8.903,-9.381c3.782,-2.215 8.041,-3.323 12.777,-3.323c3.259,0 6.242,0.586 8.948,1.759c2.706,1.173 5.012,2.932 6.919,5.277l0,-26.777l11.531,0Zm-26.015,62.741c2.768,0 5.259,-0.668 7.473,-2.003c2.214,-1.336 3.967,-3.242 5.258,-5.717c1.292,-2.476 1.937,-5.343 1.937,-8.6c0,-3.258 -0.645,-6.125 -1.937,-8.6c-1.291,-2.476 -3.044,-4.382 -5.258,-5.718c-2.214,-1.335 -4.705,-2.003 -7.473,-2.003c-2.767,0 -5.258,0.668 -7.472,2.003c-2.214,1.336 -3.967,3.242 -5.259,5.718c-1.291,2.475 -1.937,5.342 -1.937,8.6c0,3.257 0.646,6.124 1.937,8.6c1.292,2.475 3.045,4.381 5.259,5.717c2.214,1.335 4.705,2.003 7.472,2.003Z\" class=\"caddy-color\" style=\"fill-rule:nonzero;\"/><path d=\"M281,20.327l-23.063,56.389c-2.152,5.668 -4.766,9.659 -7.841,11.972c-3.075,2.313 -6.796,3.469 -11.163,3.469c-2.46,0 -4.889,-0.424 -7.288,-1.271c-2.398,-0.846 -4.366,-2.019 -5.904,-3.518l4.613,-8.991c1.107,1.108 2.414,1.988 3.921,2.639c1.506,0.652 3.028,0.977 4.566,0.977c2.03,0 3.705,-0.553 5.028,-1.661c1.322,-1.108 2.537,-2.964 3.644,-5.571l0.83,-2.052l-21.495,-52.382l11.993,0l15.498,38.603l15.591,-38.603l11.07,0Z\" class=\"caddy-color\" style=\"fill-rule:nonzero;\"/></g></svg></a>\n",
      "\n",
      "\t\t\t\t<h1>\n",
      "\t\t\t\t\t<!-- English --> <span class=\"lang\">Congratulations!</span>\n",
      "\t\t\t\t\t<!-- Japanese --> <span class=\"lang\">おめでとう!</span>\n",
      "\t\t\t\t\t<!-- Spanish --> <span class=\"lang\">Felicidades!</span>\n",
      "\t\t\t\t\t<!-- Chinese --> <span class=\"lang\">恭喜!</span>\n",
      "\t\t\t\t\t<!-- Hindi --> <span class=\"lang\">बधाई हो!</span>\n",
      "\t\t\t\t\t<!-- Russian --> <span class=\"lang\">Поздравляю! </span>\n",
      "\t\t\t\t\t<span class=\"emoji\">🎊</span>\n",
      "\t\t\t\t</h1>\n",
      "\n",
      "\t\t\t\t<p>\n",
      "\t\t\t\t\tYour web server is working. Now make it work for you. 💪\n",
      "\t\t\t\t</p>\n",
      "\t\t\t\t<p>\n",
      "\t\t\t\t\tCaddy is ready to serve your site over HTTPS:\n",
      "\t\t\t\t</p>\n",
      "\t\t\t\t<ol>\n",
      "\t\t\t\t\t<li>Point your domain's A/AAAA DNS records at this machine.</li>\n",
      "\t\t\t\t\t<li>Upload your site's files to <code>/var/www/html</code>.\n",
      "\t\t\t\t\t<li>\n",
      "\t\t\t\t\t\tEdit your Caddyfile at <code>/etc/caddy/Caddyfile</code>:\n",
      "\t\t\t\t\t\t<ol>\n",
      "\t\t\t\t\t\t\t<li>Replace <code>:80</code> with your domain name</li>\n",
      "\t\t\t\t\t\t\t<li>Change the site root to <code>/var/www/html</code></li>\n",
      "\t\t\t\t\t\t</ol>\n",
      "\t\t\t\t\t</li>\n",
      "\t\t\t\t\t<li>Reload the configuration: <code>systemctl reload caddy</code></li>\n",
      "\t\t\t\t\t<li>Visit your site!</li>\n",
      "\t\t\t\t</ol>\n",
      "\t\t\t\t<h2>If that worked 🥳</h2>\n",
      "\t\t\t\t<p>\n",
      "\t\t\t\t\tAwesome! You won't have to look at this slanted page anymore.\n",
      "\t\t\t\t</p>\n",
      "\t\t\t\t<p>\n",
      "\t\t\t\t\tRemember, Caddy can do a lot more than serve static files. It's also a powerful reverse proxy and application platform. You can use the Caddyfile to enable any other features you need. Or you could use Caddy's API to configure it programmatically.\n",
      "\t\t\t\t</p>\n",
      "\t\t\t\t<p>\n",
      "\t\t\t\t\tEverything you need to know is either in the <a href=\"https://github.com/caddyserver/caddy/wiki/v2:-Documentation\">📖 Caddy documentation</a> or the manual for your OS/platform. Have fun!\n",
      "\t\t\t\t</p>\n",
      "\n",
      "\t\t\t\t<h2>If that didn't work 😶</h2>\n",
      "\t\t\t\t<p>\n",
      "\t\t\t\t\tIt's okay, you can fix it! First check the following things:\n",
      "\t\t\t\t</p>\n",
      "\t\t\t\t<ul>\n",
      "\t\t\t\t\t<li>Service status: <code>systemctl status caddy</code></li>\n",
      "\t\t\t\t\t<li>Logs: <code>journalctl --no-pager -u caddy</code></li>\n",
      "\t\t\t\t\t<li>Are your site's files readable by the caddy user and group? <code>ls -la /var/www/html</code></li>\n",
      "\t\t\t\t\t<li>Is the caddy home directory writeable? <code>ls -la /var/lib/caddy</code></li>\n",
      "\t\t\t\t\t<li>Ensure your domain's A and/or AAAA records point to your machine's public IP address: <code>dig example.com</code></li>\n",
      "\t\t\t\t\t<li>Are your ports 80 and 443 externally reachable, and is Caddy able to bind to them? Check your firewalls, port forwarding, and other network configuration.</li>\n",
      "\t\t\t\t</ul>\n",
      "\t\t\t\t<p>\n",
      "\t\t\t\t\t<b class=\"warn\">WAIT!</b> Before trying again, switch to <a href=\"https://letsencrypt.org/docs/staging-environment/\">Let's Encrypt's staging environment</a> to avoid being accidentally <a href=\"https://letsencrypt.org/docs/rate-limits/\">rate limited</a>. Once you get everything else working, it's safe to switch back.\n",
      "\t\t\t\t</p>\n",
      "\t\t\t\t<p>\n",
      "\t\t\t\t\tDepending on your DNS provider, it may take a while for the DNS records to propagate. Even when everything is configured properly, automated challenges to obtain TLS certificates usually take several seconds, but may take up to several minutes or hours.\n",
      "\t\t\t\t<p>\n",
      "\t\t\t\t\tIf you still need help, we have a <a href=\"https://caddy.community/\">great community</a>! First <a href=\"https://caddy.community/search\">try a search</a>, and if your question is original, go ahead and ask it! Remember to pay it forward and help others too. 😁\n",
      "\t\t\t\t</p>\n",
      "\t\t\t\t<p>\n",
      "\t\t\t\t\tVisit Caddy on:\n",
      "\t\t\t\t\t<b><a href=\"https://github.com/caddyserver/caddy\" title=\"Caddy on GitHub\">GitHub</a></b>\n",
      "\t\t\t\t\tor\n",
      "\t\t\t\t\t<b><a href=\"https://twitter.com/caddyserver\" title=\"@caddyserver on Twitter\">Twitter</a></b>\n",
      "\t\t\t\t\tor\n",
      "\t\t\t\t\t<b><a href=\"https://caddy.community/\" title=\"Caddy forums\">Our Forum</a></b>\n",
      "\t\t\t\t</p>\n",
      "\t\t\t</div>\n",
      "\t\t</div>\n",
      "\n",
      "\t\t<footer>\n",
      "\t\t\t&copy; Copyright 2019 The Caddy Authors.\n",
      "\t\t\t<br>\n",
      "\t\t\tCaddy<sup>&reg;</sup> is a registered trademark of Light Code Labs, LLC.\n",
      "\n",
      "\t\t\t<div id=\"disclaimer\">The Caddy project is not responsible for the content, disposition, or behavior of this Web property, which is independently owned and maintained. For inquiries, please contact the site owner or hosting provider.</div>\n",
      "\t\t</footer>\n",
      "\n",
      "\t</body>\n",
      "</html>\n"
     ]
    }
   ],
   "source": [
    "%%sh\n",
    "kubectl exec caddy -- wget localhost:80 -O -"
   ]
  },
  {
   "cell_type": "markdown",
   "metadata": {
    "vscode": {
     "languageId": "plaintext"
    }
   },
   "source": [
    "I can also \"port forward\" Caddy to my dev machine with `kubectl port-forward`."
   ]
  },
  {
   "cell_type": "code",
   "execution_count": 57,
   "metadata": {
    "vscode": {
     "languageId": "plaintext"
    }
   },
   "outputs": [
    {
     "name": "stdout",
     "output_type": "stream",
     "text": [
      "Forwarding from 127.0.0.1:8080 -> 80\n",
      "Forwarding from [::1]:8080 -> 80\n",
      "Handling connection for 8080\n",
      "Process is interrupted.\n"
     ]
    }
   ],
   "source": [
    "%%sh\n",
    "kubectl port-forward pod/caddy 8080:80"
   ]
  },
  {
   "cell_type": "markdown",
   "metadata": {
    "vscode": {
     "languageId": "plaintext"
    }
   },
   "source": [
    "With `kubectl port-forward` running, I can visit [http://localhost:8080](http://localhost:8080) from my laptop.\n",
    "\n",
    "Let's use Tailscale instead:"
   ]
  },
  {
   "cell_type": "code",
   "execution_count": 157,
   "metadata": {
    "vscode": {
     "languageId": "plaintext"
    }
   },
   "outputs": [
    {
     "name": "stdout",
     "output_type": "stream",
     "text": [
      "Overwriting pod-tailscale.yaml\n"
     ]
    }
   ],
   "source": [
    "%%writefile pod.yaml\n",
    "apiVersion: v1\n",
    "kind: Pod\n",
    "metadata:\n",
    "    name: caddy\n",
    "spec:\n",
    "    containers:\n",
    "      - name: caddy\n",
    "        image: caddy/caddy\n",
    "      - name: tailscale\n",
    "        image: ghcr.io/tailscale/tailscale:latest\n",
    "        env:\n",
    "          # disable Kubernetes secrets and use OAuth login instead\n",
    "          - name: TS_KUBE_SECRET\n",
    "            value: \"\""
   ]
  },
  {
   "cell_type": "code",
   "execution_count": 145,
   "metadata": {
    "vscode": {
     "languageId": "plaintext"
    }
   },
   "outputs": [
    {
     "name": "stderr",
     "output_type": "stream",
     "text": [
      "The Pod \"caddy\" is invalid: spec: Forbidden: pod updates may not change fields other than `spec.containers[*].image`,`spec.initContainers[*].image`,`spec.activeDeadlineSeconds`,`spec.tolerations` (only additions to existing tolerations),`spec.terminationGracePeriodSeconds` (allow it to be set to 1 if it was previously negative)\n",
      "  core.PodSpec{\n",
      "  \t... // 7 identical fields\n",
      "  \tDNSPolicy:                    \"ClusterFirst\",\n",
      "  \tNodeSelector:                 nil,\n",
      "- \tServiceAccountName:           \"default\",\n",
      "+ \tServiceAccountName:           \"tailscale\",\n",
      "  \tAutomountServiceAccountToken: nil,\n",
      "  \tNodeName:                     \"gk3-my-cluster-nap-1u2x0pda-22c5dacc-q2wk\",\n",
      "  \t... // 21 identical fields\n",
      "  }\n",
      "\n"
     ]
    },
    {
     "ename": "CalledProcessError",
     "evalue": "Command 'b'kubectl apply -f pod-tailscale.yaml\\n'' returned non-zero exit status 1.",
     "output_type": "error",
     "traceback": [
      "\u001b[0;31m---------------------------------------------------------------------------\u001b[0m",
      "\u001b[0;31mCalledProcessError\u001b[0m                        Traceback (most recent call last)",
      "Cell \u001b[0;32mIn [145], line 1\u001b[0m\n\u001b[0;32m----> 1\u001b[0m \u001b[43mget_ipython\u001b[49m\u001b[43m(\u001b[49m\u001b[43m)\u001b[49m\u001b[38;5;241;43m.\u001b[39;49m\u001b[43mrun_cell_magic\u001b[49m\u001b[43m(\u001b[49m\u001b[38;5;124;43m'\u001b[39;49m\u001b[38;5;124;43msh\u001b[39;49m\u001b[38;5;124;43m'\u001b[39;49m\u001b[43m,\u001b[49m\u001b[43m \u001b[49m\u001b[38;5;124;43m'\u001b[39;49m\u001b[38;5;124;43m'\u001b[39;49m\u001b[43m,\u001b[49m\u001b[43m \u001b[49m\u001b[38;5;124;43m'\u001b[39;49m\u001b[38;5;124;43mkubectl apply -f pod-tailscale.yaml\u001b[39;49m\u001b[38;5;130;43;01m\\n\u001b[39;49;00m\u001b[38;5;124;43m'\u001b[39;49m\u001b[43m)\u001b[49m\n",
      "File \u001b[0;32m/gnu/store/2zfg9hpglvzcb6m674lsm04yj273cjlg-python-ipython-8.5.0/lib/python3.10/site-packages/IPython/core/interactiveshell.py:2362\u001b[0m, in \u001b[0;36mInteractiveShell.run_cell_magic\u001b[0;34m(self, magic_name, line, cell)\u001b[0m\n\u001b[1;32m   2360\u001b[0m \u001b[38;5;28;01mwith\u001b[39;00m \u001b[38;5;28mself\u001b[39m\u001b[38;5;241m.\u001b[39mbuiltin_trap:\n\u001b[1;32m   2361\u001b[0m     args \u001b[38;5;241m=\u001b[39m (magic_arg_s, cell)\n\u001b[0;32m-> 2362\u001b[0m     result \u001b[38;5;241m=\u001b[39m \u001b[43mfn\u001b[49m\u001b[43m(\u001b[49m\u001b[38;5;241;43m*\u001b[39;49m\u001b[43margs\u001b[49m\u001b[43m,\u001b[49m\u001b[43m \u001b[49m\u001b[38;5;241;43m*\u001b[39;49m\u001b[38;5;241;43m*\u001b[39;49m\u001b[43mkwargs\u001b[49m\u001b[43m)\u001b[49m\n\u001b[1;32m   2363\u001b[0m \u001b[38;5;28;01mreturn\u001b[39;00m result\n",
      "File \u001b[0;32m/gnu/store/2zfg9hpglvzcb6m674lsm04yj273cjlg-python-ipython-8.5.0/lib/python3.10/site-packages/IPython/core/magics/script.py:153\u001b[0m, in \u001b[0;36mScriptMagics._make_script_magic.<locals>.named_script_magic\u001b[0;34m(line, cell)\u001b[0m\n\u001b[1;32m    151\u001b[0m \u001b[38;5;28;01melse\u001b[39;00m:\n\u001b[1;32m    152\u001b[0m     line \u001b[38;5;241m=\u001b[39m script\n\u001b[0;32m--> 153\u001b[0m \u001b[38;5;28;01mreturn\u001b[39;00m \u001b[38;5;28;43mself\u001b[39;49m\u001b[38;5;241;43m.\u001b[39;49m\u001b[43mshebang\u001b[49m\u001b[43m(\u001b[49m\u001b[43mline\u001b[49m\u001b[43m,\u001b[49m\u001b[43m \u001b[49m\u001b[43mcell\u001b[49m\u001b[43m)\u001b[49m\n",
      "File \u001b[0;32m/gnu/store/2zfg9hpglvzcb6m674lsm04yj273cjlg-python-ipython-8.5.0/lib/python3.10/site-packages/IPython/core/magics/script.py:305\u001b[0m, in \u001b[0;36mScriptMagics.shebang\u001b[0;34m(self, line, cell)\u001b[0m\n\u001b[1;32m    300\u001b[0m \u001b[38;5;28;01mif\u001b[39;00m args\u001b[38;5;241m.\u001b[39mraise_error \u001b[38;5;129;01mand\u001b[39;00m p\u001b[38;5;241m.\u001b[39mreturncode \u001b[38;5;241m!=\u001b[39m \u001b[38;5;241m0\u001b[39m:\n\u001b[1;32m    301\u001b[0m     \u001b[38;5;66;03m# If we get here and p.returncode is still None, we must have\u001b[39;00m\n\u001b[1;32m    302\u001b[0m     \u001b[38;5;66;03m# killed it but not yet seen its return code. We don't wait for it,\u001b[39;00m\n\u001b[1;32m    303\u001b[0m     \u001b[38;5;66;03m# in case it's stuck in uninterruptible sleep. -9 = SIGKILL\u001b[39;00m\n\u001b[1;32m    304\u001b[0m     rc \u001b[38;5;241m=\u001b[39m p\u001b[38;5;241m.\u001b[39mreturncode \u001b[38;5;129;01mor\u001b[39;00m \u001b[38;5;241m-\u001b[39m\u001b[38;5;241m9\u001b[39m\n\u001b[0;32m--> 305\u001b[0m     \u001b[38;5;28;01mraise\u001b[39;00m CalledProcessError(rc, cell)\n",
      "\u001b[0;31mCalledProcessError\u001b[0m: Command 'b'kubectl apply -f pod-tailscale.yaml\\n'' returned non-zero exit status 1."
     ]
    }
   ],
   "source": [
    "%%sh\n",
    "kubectl apply -f pod.yaml"
   ]
  },
  {
   "cell_type": "markdown",
   "metadata": {
    "vscode": {
     "languageId": "plaintext"
    }
   },
   "source": [
    "I guess we can't add a container to an already running pod. No worries - we can delete the pod and recreate it:"
   ]
  },
  {
   "cell_type": "code",
   "execution_count": 158,
   "metadata": {
    "vscode": {
     "languageId": "plaintext"
    }
   },
   "outputs": [
    {
     "name": "stdout",
     "output_type": "stream",
     "text": [
      "pod \"caddy\" deleted\n"
     ]
    }
   ],
   "source": [
    "%%sh\n",
    "kubectl delete pod caddy"
   ]
  },
  {
   "cell_type": "code",
   "execution_count": 159,
   "metadata": {
    "vscode": {
     "languageId": "plaintext"
    }
   },
   "outputs": [
    {
     "name": "stderr",
     "output_type": "stream",
     "text": [
      "Warning: autopilot-default-resources-mutator:Autopilot updated Pod default/caddy: defaulted unspecified 'cpu' resource for containers [caddy, tailscale] (see http://g.co/gke/autopilot-defaults).\n"
     ]
    },
    {
     "name": "stdout",
     "output_type": "stream",
     "text": [
      "pod/caddy created\n"
     ]
    }
   ],
   "source": [
    "%%sh\n",
    "kubectl apply -f pod.yaml"
   ]
  },
  {
   "cell_type": "markdown",
   "metadata": {
    "vscode": {
     "languageId": "plaintext"
    }
   },
   "source": [
    "Note that `kubectl apply --force` works great here as well."
   ]
  },
  {
   "cell_type": "code",
   "execution_count": 161,
   "metadata": {
    "vscode": {
     "languageId": "plaintext"
    }
   },
   "outputs": [
    {
     "name": "stdout",
     "output_type": "stream",
     "text": [
      "boot: 2024/06/23 21:24:06 Starting tailscaled\n",
      "boot: 2024/06/23 21:24:06 Waiting for tailscaled socket\n",
      "2024/06/23 21:24:06 logtail started\n",
      "2024/06/23 21:24:06 Program starting: v1.68.1-t92eacec73, Go 1.22.4: []string{\"tailscaled\", \"--socket=/tmp/tailscaled.sock\", \"--state=mem:\", \"--statedir=/tmp\", \"--tun=userspace-networking\"}\n",
      "2024/06/23 21:24:06 LogID: a9955dc974bf7e0f06c1a40c7f6083d53aec0458feddda2bd829c1dce08455de\n",
      "2024/06/23 21:24:06 logpolicy: using system state directory \"/var/lib/tailscale\"\n",
      "logpolicy.ConfigFromFile /var/lib/tailscale/tailscaled.log.conf: open /var/lib/tailscale/tailscaled.log.conf: no such file or directory\n",
      "logpolicy.Config.Validate for /var/lib/tailscale/tailscaled.log.conf: config is nil\n",
      "2024/06/23 21:24:06 dns: [rc=unknown ret=direct]\n",
      "2024/06/23 21:24:06 dns: using \"direct\" mode\n",
      "2024/06/23 21:24:06 dns: using *dns.directManager\n",
      "2024/06/23 21:24:06 wgengine.NewUserspaceEngine(tun \"userspace-networking\") ...\n",
      "2024/06/23 21:24:06 dns: using dns.noopManager\n",
      "2024/06/23 21:24:06 link state: interfaces.State{defaultRoute=eth0 ifs={eth0:[10.15.0.81/26]} v4=true v6=false}\n",
      "2024/06/23 21:24:06 onPortUpdate(port=46672, network=udp6)\n",
      "2024/06/23 21:24:06 magicsock: [warning] failed to force-set UDP read buffer size to 7340032: operation not permitted; using kernel default values (impacts throughput only)\n",
      "2024/06/23 21:24:06 magicsock: [warning] failed to force-set UDP write buffer size to 7340032: operation not permitted; using kernel default values (impacts throughput only)\n",
      "2024/06/23 21:24:06 onPortUpdate(port=43310, network=udp4)\n",
      "2024/06/23 21:24:06 magicsock: [warning] failed to force-set UDP read buffer size to 7340032: operation not permitted; using kernel default values (impacts throughput only)\n",
      "2024/06/23 21:24:06 magicsock: [warning] failed to force-set UDP write buffer size to 7340032: operation not permitted; using kernel default values (impacts throughput only)\n",
      "2024/06/23 21:24:06 magicsock: disco key = d:091311a010697b08\n",
      "2024/06/23 21:24:06 Creating WireGuard device...\n",
      "2024/06/23 21:24:06 Bringing WireGuard device up...\n",
      "2024/06/23 21:24:06 Bringing router up...\n",
      "2024/06/23 21:24:06 Clearing router settings...\n",
      "2024/06/23 21:24:06 Starting network monitor...\n",
      "2024/06/23 21:24:06 Engine created.\n",
      "2024/06/23 21:24:06 pm: migrating \"_daemon\" profile to new format\n",
      "2024/06/23 21:24:06 logpolicy: using system state directory \"/var/lib/tailscale\"\n",
      "2024/06/23 21:24:06 got LocalBackend in 3ms\n",
      "2024/06/23 21:24:06 Start\n",
      "2024/06/23 21:24:07 timeout waiting for initial portlist\n",
      "2024/06/23 21:24:07 Backend: logs: be:a9955dc974bf7e0f06c1a40c7f6083d53aec0458feddda2bd829c1dce08455de fe:\n",
      "2024/06/23 21:24:07 Switching ipn state NoState -> NeedsLogin (WantRunning=false, nm=false)\n",
      "2024/06/23 21:24:07 blockEngineUpdates(true)\n",
      "2024/06/23 21:24:07 wgengine: Reconfig: configuring userspace WireGuard config (with 0/0 peers)\n",
      "2024/06/23 21:24:07 wgengine: Reconfig: configuring router\n",
      "2024/06/23 21:24:07 wgengine: Reconfig: configuring DNS\n",
      "2024/06/23 21:24:07 dns: Set: {DefaultResolvers:[] Routes:{} SearchDomains:[] Hosts:0}\n",
      "2024/06/23 21:24:07 dns: Resolvercfg: {Routes:{} Hosts:0 LocalDomains:[], cloud=\"gcp\"}\n",
      "2024/06/23 21:24:07 dns: OScfg: {}\n",
      "2024/06/23 21:24:07 health(\"overall\"): error: state=NeedsLogin, wantRunning=false\n",
      "boot: 2024/06/23 21:24:07 Running 'tailscale up'\n",
      "2024/06/23 21:24:07 Start\n",
      "2024/06/23 21:24:07 generating new machine key\n",
      "2024/06/23 21:24:07 machine key written to store\n",
      "2024/06/23 21:24:07 Backend: logs: be:a9955dc974bf7e0f06c1a40c7f6083d53aec0458feddda2bd829c1dce08455de fe:\n",
      "2024/06/23 21:24:07 Switching ipn state NoState -> NeedsLogin (WantRunning=true, nm=false)\n",
      "2024/06/23 21:24:07 blockEngineUpdates(true)\n",
      "2024/06/23 21:24:07 control: client.Shutdown ...\n",
      "2024/06/23 21:24:07 control: updateRoutine: exiting\n",
      "2024/06/23 21:24:07 control: authRoutine: exiting\n",
      "2024/06/23 21:24:07 control: mapRoutine: exiting\n",
      "2024/06/23 21:24:07 control: Client.Shutdown done.\n",
      "2024/06/23 21:24:07 StartLoginInteractive: url=false\n",
      "2024/06/23 21:24:07 control: client.Login(6)\n",
      "2024/06/23 21:24:07 control: LoginInteractive -> regen=true\n",
      "2024/06/23 21:24:07 control: doLogin(regen=true, hasUrl=false)\n",
      "2024/06/23 21:24:08 control: control server key from https://controlplane.tailscale.com: ts2021=[fSeS+], legacy=[nlFWp]\n",
      "2024/06/23 21:24:08 control: Generating a new nodekey.\n",
      "2024/06/23 21:24:08 control: RegisterReq: onode= node=[SVwBk] fup=false nks=false\n",
      "2024/06/23 21:24:08 control: RegisterReq: got response; nodeKeyExpired=false, machineAuthorized=false; authURL=true\n",
      "2024/06/23 21:24:08 control: AuthURL is https://login.tailscale.com/a/1f3c76b8010f3a\n",
      "2024/06/23 21:24:08 control: doLogin(regen=false, hasUrl=true)\n",
      "2024/06/23 21:24:08 control: RegisterReq: onode= node=[SVwBk] fup=true nks=false\n",
      "2024/06/23 21:24:08 Received auth URL: https://login.tailsc...\n",
      "2024/06/23 21:24:08 popBrowserAuthNow: url=true, key-expired=false, seamless-key-renewal=false\n",
      "2024/06/23 21:24:08 blockEngineUpdates(true)\n",
      "2024/06/23 21:24:08 stopEngineAndWait...\n",
      "2024/06/23 21:24:08 requestEngineStatusAndWait\n",
      "2024/06/23 21:24:08 requestEngineStatusAndWait: waiting...\n",
      "2024/06/23 21:24:08 requestEngineStatusAndWait: got status update.\n",
      "2024/06/23 21:24:08 stopEngineAndWait: done.\n",
      "\n",
      "To authenticate, visit:\n",
      "\n",
      "\thttps://login.tailscale.com/a/1f3c76b8010f3a\n",
      "\n"
     ]
    }
   ],
   "source": [
    "%%sh\n",
    "kubectl logs caddy tailscale"
   ]
  },
  {
   "cell_type": "markdown",
   "metadata": {
    "vscode": {
     "languageId": "plaintext"
    }
   },
   "source": [
    "I just clicked the magic link and logged in on my dev machine. I could also have generated an auth key and passed it to the Tailscale pod, but I figured this would be easier."
   ]
  },
  {
   "cell_type": "code",
   "execution_count": 165,
   "metadata": {
    "vscode": {
     "languageId": "plaintext"
    }
   },
   "outputs": [
    {
     "name": "stdout",
     "output_type": "stream",
     "text": [
      "100.100.140.99  caddy                griffinht@   linux   -\n"
     ]
    }
   ],
   "source": [
    "%%sh\n",
    "tailscale status | grep caddy"
   ]
  },
  {
   "cell_type": "markdown",
   "metadata": {},
   "source": [
    "Caddy is connected to my Tailnet!\n",
    "\n",
    "Let's ping it from my laptop, which is also connected to my Tailnet."
   ]
  },
  {
   "cell_type": "code",
   "execution_count": 167,
   "metadata": {
    "vscode": {
     "languageId": "plaintext"
    }
   },
   "outputs": [
    {
     "name": "stderr",
     "output_type": "stream",
     "text": [
      "  % Total    % Received % Xferd  Average Speed   Time    Time     Time  Current\n",
      "                                 Dload  Upload   Total   Spent    Left  Speed\n"
     ]
    },
    {
     "name": "stdout",
     "output_type": "stream",
     "text": [
      "<!DOCTYPE html>\n",
      "<html>\n",
      "\t<head>\n",
      "\t\t<title>Caddy works!</title>\n",
      "\t\t<meta charset=\"utf-8\">\n",
      "\t\t<meta name=\"viewport\" content=\"width=device-width, initial-scale=1.0\">\n",
      "\t\t<link rel=\"icon\" href=\"data:,\">\n",
      "\t\t<style>\n",
      "\t\t\t* {\n",
      "\t\t\t\tbox-sizing: border-box;\n",
      "\t\t\t\tpadding: 0;\n",
      "\t\t\t\tmargin: 0;\n",
      "\t\t\t}\n",
      "\n",
      "\t\t\tbody {\n",
      "\t\t\t\tbackground: #f1f4f5;\n",
      "\t\t\t\tfont-family: sans-serif;\n",
      "\t\t\t\tfont-size: 20px;\n",
      "\t\t\t\t-webkit-font-smoothing: antialiased;\n",
      "\t\t\t}\n",
      "\n",
      "\t\t\ta {\n",
      "\t\t\t\tcolor: #2f79ff;\n",
      "\t\t\t\ttext-decoration: none;\n",
      "\t\t\t}\n",
      "\n",
      "\t\t\ta:hover {\n",
      "\t\t\t\ttext-decoration: underline;\n",
      "\t\t\t}\n",
      "\n",
      "\t\t\t.stack {\n",
      "\t\t\t\twidth: 70%;\n",
      "\t\t\t\tmax-width: 1150px;\n",
      "\t\t\t\tmargin: 25px 0 150px 25px;\n",
      "\t\t\t\tdisplay: flex;\n",
      "\t\t\t\talign-content: flex-start;\n",
      "\t\t\t}\n",
      "\n",
      "\t\t\t.paper {\n",
      "\t\t\t\tposition: relative;\n",
      "\t\t\t\tflex-shrink: 0;\n",
      "\t\t\t\twidth: 100%;\n",
      "\n",
      "\t\t\t\tbackground: white;\n",
      "\t\t\t\tborder-radius: 3px;\n",
      "\t\t\t\tbox-shadow: 1px 2px 4px 1px rgba(0, 0, 0, .15);\n",
      "\t\t\t\tpadding: 100px;\n",
      "\t\t\t}\n",
      "\n",
      "\t\t\t#paper1 {\n",
      "\t\t\t\ttop: 45px;\n",
      "\t\t\t\tleft: 50px;\n",
      "\t\t\t}\n",
      "\n",
      "\t\t\t#paper2 {\n",
      "\t\t\t\ttop: 20px;\n",
      "\t\t\t\tleft: -100%;\n",
      "\t\t\t}\n",
      "\n",
      "\t\t\t#paper3 {\n",
      "\t\t\t\ttop: 25px;\n",
      "\t\t\t\ttransform: rotate(-4deg);\n",
      "\t\t\t\tleft: -200%;\n",
      "\t\t\t}\n",
      "\n",
      "\t\t\t#caddy {\n",
      "\t\t\t\tmax-width: 175px;\n",
      "\t\t\t\tmargin-bottom: 75px;\n",
      "\t\t\t}\n",
      "\n",
      "\t\t\t#caddy .caddy-color {\n",
      "\t\t\t\tfill: #005e7e;\n",
      "\t\t\t}\n",
      "\n",
      "\t\t\th1 {\n",
      "\t\t\t\tfont-size: 20px;\n",
      "\t\t\t\tmargin-bottom: 50px;\n",
      "\t\t\t}\n",
      "\n",
      "\t\t\th1 .emoji {\n",
      "\t\t\t\tfont-size: 150%;\n",
      "\t\t\t\tvertical-align: middle;\n",
      "\t\t\t}\n",
      "\n",
      "\t\t\th1 .lang {\n",
      "\t\t\t\tmargin-right: 1.5em;\n",
      "\t\t\t}\n",
      "\n",
      "\t\t\th2 {\n",
      "\t\t\t\tfont-size: 28px;\n",
      "\t\t\t\tmargin-top: 1.5em;\n",
      "\t\t\t}\n",
      "\n",
      "\t\t\tp,\n",
      "\t\t\tol,\n",
      "\t\t\tul {\n",
      "\t\t\t\tcolor: #333;\n",
      "\t\t\t\tline-height: 1.5em;\n",
      "\t\t\t}\n",
      "\n",
      "\t\t\tp {\n",
      "\t\t\t\tmargin: 1.5em 0;\n",
      "\t\t\t}\n",
      "\n",
      "\t\t\tol,\n",
      "\t\t\tul {\n",
      "\t\t\t\tmargin: .5em 0 .5em 2em;\n",
      "\t\t\t}\n",
      "\n",
      "\t\t\tol li,\n",
      "\t\t\tul li {\n",
      "\t\t\t\tmargin-left: 1em;\n",
      "\t\t\t\tmargin-bottom: .5em;\n",
      "\t\t\t}\n",
      "\n",
      "\t\t\tli ol {\n",
      "\t\t\t\tlist-style-type: lower-alpha;\n",
      "\t\t\t}\n",
      "\n",
      "\t\t\tcode {\n",
      "\t\t\t\tcolor: #000;\n",
      "\t\t\t\tfont-family: Menlo, monospace;\n",
      "\t\t\t\tbackground: #f0f0f0;\n",
      "\t\t\t\tborder-radius: 2px;\n",
      "\t\t\t\tpadding: 4px 8px;\n",
      "\t\t\t\tfont-size: 90%;\n",
      "\t\t\t}\n",
      "\n",
      "\t\t\t.warn {\n",
      "\t\t\t\tcolor: #dd0000;\n",
      "\t\t\t}\n",
      "\n",
      "\t\t\tfooter {\n",
      "\t\t\t\tcolor: #777;\n",
      "\t\t\t\tfont-size: 16px;\n",
      "\t\t\t\ttext-align: center;\n",
      "\t\t\t\tmax-width: 600px;\n",
      "\t\t\t\tmargin: 0 auto 50px;\n",
      "\t\t\t}\n",
      "\n",
      "\t\t\t#disclaimer {\n",
      "\t\t\t\tfont-size: 14px;\n",
      "\t\t\t\tmargin-top: 20px;\n",
      "\t\t\t\tdisplay: inline-block;\n",
      "\t\t\t\tborder-top: 1px solid #ccc;\n",
      "\t\t\t\tpadding: 20px;\n",
      "\t\t\t}\n",
      "\n",
      "\t\t\t@media (max-width: 1100px) {\n",
      "\t\t\t\t.stack {\n",
      "\t\t\t\t\twidth: 85%;\n",
      "\t\t\t\t}\n",
      "\t\t\t}\n",
      "\n",
      "\t\t\t@media (max-width: 800px) {\n",
      "\t\t\t\t.stack {\n",
      "\t\t\t\t\tmargin: 0 0 50px 0;\n",
      "\t\t\t\t\twidth: 100%;\n",
      "\t\t\t\t}\n",
      "\n",
      "\t\t\t\t.paper {\n",
      "\t\t\t\t\tpadding: 50px;\n",
      "\t\t\t\t}\n",
      "\n",
      "\t\t\t\t#paper1,\n",
      "\t\t\t\t#paper2 {\n",
      "\t\t\t\t\tdisplay: none;\n",
      "\t\t\t\t}\n",
      "\n",
      "\t\t\t\t#paper3 {\n",
      "\t\t\t\t\tleft: 0;\n",
      "\t\t\t\t\ttransform: none;\n",
      "\t\t\t\t\ttop: 0;\n",
      "\t\t\t\t}\n",
      "\n",
      "\t\t\t\t#caddy {\n",
      "\t\t\t\t\tmargin-bottom: 25px;\n",
      "\t\t\t\t}\n",
      "\t\t\t}\n",
      "\t\t</style>\n",
      "\t</head>\n",
      "\t<body>\n",
      "\t\t<div class=\"stack\">\n",
      "\t\t\t<div class=\"paper\" id=\"paper1\"></div>\n",
      "\t\t\t<div class=\"paper\" id=\"paper2\"></div>\n",
      "\t\t\t<div class=\"paper\" id=\"paper3\">\n",
      "\t\t\t\t<a href=\"https://caddyserver.com/\" title=\"Caddy Web Server\"><svg id=\"caddy\" viewBox=\"0 0 302 93\" version=\"1.1\" xmlns=\"http://www.w3.org/2000/svg\" xmlns:xlink=\"http://www.w3.org/1999/xlink\" xml:space=\"preserve\" xmlns:serif=\"http://www.serif.com/\" style=\"fill-rule:evenodd;clip-rule:evenodd;stroke-linejoin:round;stroke-miterlimit:2;\"><g><path d=\"M299.377,2.595c1.557,1.556 2.335,3.429 2.335,5.617c0,2.188 -0.775,4.064 -2.324,5.628c-1.549,1.564 -3.432,2.346 -5.65,2.346c-2.217,0 -4.093,-0.775 -5.628,-2.324c-1.534,-1.55 -2.302,-3.418 -2.302,-5.606c0,-2.188 0.775,-4.068 2.324,-5.639c1.55,-1.571 3.426,-2.357 5.628,-2.357c2.203,0 4.075,0.778 5.617,2.335Zm-1.057,10c1.175,-1.219 1.762,-2.687 1.762,-4.405c0,-1.718 -0.617,-3.194 -1.85,-4.428c-1.234,-1.233 -2.721,-1.85 -4.461,-1.85c-1.74,0 -3.23,0.624 -4.471,1.872c-1.241,1.249 -1.862,2.739 -1.862,4.472c0,1.733 0.61,3.216 1.829,4.449c1.219,1.234 2.716,1.851 4.493,1.851c1.777,0 3.282,-0.639 4.516,-1.917l-2.555,0l-1.917,-2.753l-0.969,0l0,2.753l-2.423,0l0,-8.943l3.546,0c1.41,0 2.416,0.243 3.018,0.727c0.602,0.485 0.903,1.263 0.903,2.335c0,1.307 -0.594,2.217 -1.784,2.731l2.225,3.106Zm-4.318,-4.692c0.573,0 0.962,-0.091 1.168,-0.275c0.206,-0.184 0.308,-0.477 0.308,-0.881c0,-0.404 -0.106,-0.683 -0.319,-0.837c-0.213,-0.154 -0.584,-0.231 -1.112,-0.231l-1.212,0l0,2.224l1.167,0Z\" class=\"caddy-color\"  style=\"fill-rule:nonzero;\"/><path d=\"M34.502,73.491c-6.519,0 -12.408,-1.515 -17.666,-4.544c-5.258,-3.03 -9.379,-7.216 -12.362,-12.558c-2.983,-5.343 -4.474,-11.369 -4.474,-18.08c0,-6.71 1.507,-12.737 4.52,-18.079c3.014,-5.343 7.15,-9.529 12.408,-12.558c5.259,-3.03 11.147,-4.545 17.667,-4.545c5.289,0 10.117,0.978 14.483,2.932c4.367,1.955 8.057,4.789 11.07,8.502l-7.749,7.721c-4.674,-5.343 -10.424,-8.014 -17.251,-8.014c-4.428,0 -8.395,1.026 -11.9,3.079c-3.506,2.052 -6.243,4.902 -8.211,8.551c-1.968,3.648 -2.952,7.785 -2.952,12.411c0,4.626 0.984,8.763 2.952,12.412c1.968,3.648 4.705,6.498 8.211,8.551c3.505,2.052 7.472,3.078 11.9,3.078c6.827,0 12.577,-2.704 17.251,-8.111l7.749,7.818c-3.013,3.714 -6.719,6.548 -11.116,8.502c-4.397,1.955 -9.241,2.932 -14.53,2.932Z\" class=\"caddy-color\" style=\"fill-rule:nonzero;\"/><path d=\"M84.78,19.741c7.257,0 12.807,1.84 16.651,5.522c3.844,3.681 5.766,9.235 5.766,16.662l0,30.589l-10.886,0l0,-6.353c-1.414,2.281 -3.428,4.024 -6.042,5.229c-2.614,1.205 -5.766,1.808 -9.456,1.808c-3.69,0 -6.919,-0.668 -9.687,-2.004c-2.767,-1.335 -4.904,-3.192 -6.411,-5.57c-1.507,-2.378 -2.26,-5.066 -2.26,-8.063c0,-4.69 1.645,-8.453 4.935,-11.287c3.291,-2.834 8.472,-4.251 15.545,-4.251l12.731,0l0,-0.782c0,-3.649 -1.031,-6.45 -3.091,-8.405c-2.06,-1.954 -5.12,-2.931 -9.179,-2.931c-2.768,0 -5.489,0.456 -8.164,1.368c-2.676,0.912 -4.936,2.182 -6.781,3.811l-4.52,-8.893c2.583,-2.085 5.689,-3.681 9.317,-4.789c3.629,-1.107 7.473,-1.661 11.532,-1.661Zm-1.568,44.564c2.89,0 5.458,-0.701 7.703,-2.102c2.244,-1.4 3.828,-3.404 4.751,-6.01l0,-6.059l-11.901,0c-6.642,0 -9.963,2.313 -9.963,6.939c0,2.215 0.83,3.974 2.491,5.277c1.66,1.303 3.966,1.955 6.919,1.955Z\" class=\"caddy-color\" style=\"fill-rule:nonzero;\"/><path d=\"M165.593,0l0,72.514l-11.071,0l0,-6.743c-1.906,2.475 -4.258,4.332 -7.057,5.57c-2.798,1.238 -5.889,1.857 -9.271,1.857c-4.736,0 -8.995,-1.108 -12.777,-3.323c-3.782,-2.215 -6.75,-5.359 -8.902,-9.431c-2.153,-4.072 -3.229,-8.746 -3.229,-14.023c0,-5.278 1.076,-9.936 3.229,-13.976c2.152,-4.039 5.12,-7.166 8.902,-9.381c3.782,-2.215 8.041,-3.323 12.777,-3.323c3.259,0 6.242,0.586 8.948,1.759c2.706,1.173 5.013,2.932 6.919,5.277l0,-26.777l11.532,0Zm-26.015,62.741c2.767,0 5.258,-0.668 7.472,-2.003c2.214,-1.336 3.967,-3.242 5.258,-5.717c1.292,-2.476 1.938,-5.343 1.938,-8.6c0,-3.258 -0.646,-6.125 -1.938,-8.6c-1.291,-2.476 -3.044,-4.382 -5.258,-5.718c-2.214,-1.335 -4.705,-2.003 -7.472,-2.003c-2.768,0 -5.259,0.668 -7.473,2.003c-2.214,1.336 -3.967,3.242 -5.258,5.718c-1.292,2.475 -1.937,5.342 -1.937,8.6c0,3.257 0.645,6.124 1.937,8.6c1.291,2.475 3.044,4.381 5.258,5.717c2.214,1.335 4.705,2.003 7.473,2.003Z\" class=\"caddy-color\" style=\"fill-rule:nonzero;\"/><path d=\"M224.357,0l0,72.514l-11.07,0l0,-6.743c-1.906,2.475 -4.259,4.332 -7.057,5.57c-2.798,1.238 -5.889,1.857 -9.271,1.857c-4.736,0 -8.995,-1.108 -12.777,-3.323c-3.783,-2.215 -6.75,-5.359 -8.903,-9.431c-2.152,-4.072 -3.229,-8.746 -3.229,-14.023c0,-5.278 1.077,-9.936 3.229,-13.976c2.153,-4.039 5.12,-7.166 8.903,-9.381c3.782,-2.215 8.041,-3.323 12.777,-3.323c3.259,0 6.242,0.586 8.948,1.759c2.706,1.173 5.012,2.932 6.919,5.277l0,-26.777l11.531,0Zm-26.015,62.741c2.768,0 5.259,-0.668 7.473,-2.003c2.214,-1.336 3.967,-3.242 5.258,-5.717c1.292,-2.476 1.937,-5.343 1.937,-8.6c0,-3.258 -0.645,-6.125 -1.937,-8.6c-1.291,-2.476 -3.044,-4.382 -5.258,-5.718c-2.214,-1.335 -4.705,-2.003 -7.473,-2.003c-2.767,0 -5.258,0.668 -7.472,2.003c-2.214,1.336 -3.967,3.242 -5.259,5.718c-1.291,2.475 -1.937,5.342 -1.937,8.6c0,3.257 0.646,6.124 1.937,8.6c1.292,2.475 3.045,4.381 5.259,5.717c2.214,1.335 4.705,2.003 7.472,2.003Z\" class=\"caddy-color\" style=\"fill-rule:nonzero;\"/><path d=\"M281,20.327l-23.063,56.389c-2.152,5.668 -4.766,9.659 -7.841,11.972c-3.075,2.313 -6.796,3.469 -11.163,3.469c-2.46,0 -4.889,-0.424 -7.288,-1.271c-2.398,-0.846 -4.366,-2.019 -5.904,-3.518l4.613,-8.991c1.107,1.108 2.414,1.988 3.921,2.639c1.506,0.652 3.028,0.977 4.566,0.977c2.03,0 3.705,-0.553 5.028,-1.661c1.322,-1.108 2.537,-2.964 3.644,-5.571l0.83,-2.052l-21.495,-52.382l11.993,0l15.498,38.603l15.591,-38.603l11.07,0Z\" class=\"caddy-color\" style=\"fill-rule:nonzero;\"/></g></svg></a>\n",
      "\n",
      "\t\t\t\t<h1>\n",
      "\t\t\t\t\t<!-- English --> <span class=\"lang\">Congratulations!</span>\n",
      "\t\t\t\t\t<!-- Japanese --> <span class=\"lang\">おめでとう!</span>\n",
      "\t\t\t\t\t<!-- Spanish --> <span class=\"lang\">Felicidades!</span>\n",
      "\t\t\t\t\t<!-- Chinese --> <span class=\"lang\">恭喜!</span>\n",
      "\t\t\t\t\t<!-- Hindi --> <span class=\"lang\">बधाई हो!</span>\n",
      "\t\t\t\t\t<!-- Russian --> <span class=\"lang\">Поздравляю! </span>\n",
      "\t\t\t\t\t<span class=\"emoji\">🎊</span>\n",
      "\t\t\t\t</h1>\n",
      "\n",
      "\t\t\t\t<p>\n",
      "\t\t\t\t\tYour web server is working. Now make it work for you. 💪\n",
      "\t\t\t\t</p>\n",
      "\t\t\t\t<p>\n",
      "\t\t\t\t\tCaddy is ready to serve your site over HTTPS:\n",
      "\t\t\t\t</p>\n",
      "\t\t\t\t<ol>\n",
      "\t\t\t\t\t<li>Point your domain's A/AAAA DNS records at this machine.</li>\n",
      "\t\t\t\t\t<li>Upload your site's files to <code>/var/www/html</code>.\n",
      "\t\t\t\t\t<li>\n",
      "\t\t\t\t\t\tEdit your Caddyfile at <code>/etc/caddy/Caddyfile</code>:\n",
      "\t\t\t\t\t\t<ol>\n",
      "\t\t\t\t\t\t\t<li>Replace <code>:80</code> with your domain name</li>\n",
      "\t\t\t\t\t\t\t<li>Change the site root to <code>/var/www/html</code></li>\n",
      "\t\t\t\t\t\t</ol>\n",
      "\t\t\t\t\t</li>\n",
      "\t\t\t\t\t<li>Reload the configuration: <code>systemctl reload caddy</code></li>\n",
      "\t\t\t\t\t<li>Visit your site!</li>\n",
      "\t\t\t\t</ol>\n",
      "\t\t\t\t<h2>If that worked 🥳</h2>\n",
      "\t\t\t\t<p>\n",
      "\t\t\t\t\tAwesome! You won't have to look at this slanted page anymore.\n",
      "\t\t\t\t</p>\n",
      "\t\t\t\t<p>\n",
      "\t\t\t\t\tRemember, Caddy can do a lot more than serve static files. It's also a powerful reverse proxy and application platform. You can use the Caddyfile to enable any other features you need. Or you could use Caddy's API to configure it programmatically.\n",
      "\t\t\t\t</p>\n",
      "\t\t\t\t<p>\n",
      "\t\t\t\t\tEverything you need to know is either in the <a href=\"https://github.com/caddyserver/caddy/wiki/v2:-Documentation\">📖 Caddy documentation</a> or the manual for your OS/platform. Have fun!\n",
      "\t\t\t\t</p>\n",
      "\n",
      "\t\t\t\t<h2>If that didn't work 😶</h2>\n",
      "\t\t\t\t<p>\n",
      "\t\t\t\t\tIt's okay, you can fix it! First check the following things:\n",
      "\t\t\t\t</p>\n",
      "\t\t\t\t<ul>\n",
      "\t\t\t\t\t<li>Service status: <code>systemctl status caddy</code></li>\n",
      "\t\t\t\t\t<li>Logs: <code>journalctl --no-pager -u caddy</code></li>\n",
      "\t\t\t\t\t<li>Are your site's files readable by the caddy user and group? <code>ls -la /var/www/html</code></li>\n",
      "\t\t\t\t\t<li>Is the caddy home directory writeable? <code>ls -la /var/lib/caddy</code></li>\n",
      "\t\t\t\t\t<li>Ensure your domain's A and/or AAAA records point to your machine's public IP address: <code>dig example.com</code></li>\n",
      "\t\t\t\t\t<li>Are your ports 80 and 443 externally reachable, and is Caddy able to bind to them? Check your firewalls, port forwarding, and other network configuration.</li>\n",
      "\t\t\t\t</ul>\n",
      "\t\t\t\t<p>\n",
      "\t\t\t\t\t<b class=\"warn\">WAIT!</b> Before trying again, switch to <a href=\"https://letsencrypt.org/docs/staging-environment/\">Let's Encrypt's staging environment</a> to avoid being accidentally <a href=\"https://letsencrypt.org/docs/rate-limits/\">rate limited</a>. Once you get everything else working, it's safe to switch back.\n",
      "\t\t\t\t</p>\n",
      "\t\t\t\t<p>\n",
      "\t\t\t\t\tDepending on your DNS provider, it may take a while for the DNS records to propagate. Even when everything is configured properly, automated challenges to obtain TLS certificates usually take several seconds, but may take up to several minutes or hours.\n",
      "\t\t\t\t<p>\n",
      "\t\t\t\t\tIf you still need help, we have a <a href=\"https://caddy.community/\">great community</a>! First <a href=\"https://caddy.community/search\">try a search</a>, and if your question is original, go ahead and ask it! Remember to pay it forward and help others too. 😁\n",
      "\t\t\t\t</p>\n",
      "\t\t\t\t<p>\n",
      "\t\t\t\t\tVisit Caddy on:\n",
      "\t\t\t\t\t<b><a href=\"https://github.com/caddyserver/caddy\" title=\"Caddy on GitHub\">GitHub</a></b>\n",
      "\t\t\t\t\tor\n",
      "\t\t\t\t\t<b><a href=\"https://twitter.com/caddyserver\" title=\"@caddyserver on Twitter\">Twitter</a></b>\n",
      "\t\t\t\t\tor\n",
      "\t\t\t\t\t<b><a href=\"https://caddy.community/\" title=\"Caddy forums\">Our Forum</a></b>\n",
      "\t\t\t\t</p>\n",
      "\t\t\t</div>\n",
      "\t\t</div>\n",
      "\n",
      "\t\t<footer>\n",
      "\t\t\t&copy; Copyright 2019 The Caddy Authors.\n",
      "\t\t\t<br>\n",
      "\t\t\tCaddy<sup>&reg;</sup> is a registered trademark of Light Code Labs, LLC.\n",
      "\n",
      "\t\t\t<div id=\"disclaimer\">The Caddy project is not responsible for the content, disposition, or behavior of this Web property, which is independently owned and maintained. For inquiries, please contact the site owner or hosting provider.</div>\n",
      "\t\t</footer>\n",
      "\n",
      "\t</body>\n",
      "</html>\n"
     ]
    },
    {
     "name": "stderr",
     "output_type": "stream",
     "text": [
      "100 12256  100 12256    0     0  78486      0 --:--:-- --:--:-- --:--:-- 79070\n"
     ]
    }
   ],
   "source": [
    "%%sh\n",
    "curl caddy"
   ]
  },
  {
   "cell_type": "markdown",
   "metadata": {
    "vscode": {
     "languageId": "plaintext"
    }
   },
   "source": [
    "Everything works. The only caveat here is that this connection is ephemeral. When the pod restarts, the connection will be lost. Tailscale doesn't have a way to save the authentication token anywhere, which means I would have to click the magic link every time the pod restarts.\n",
    "\n",
    "Let's fix that."
   ]
  },
  {
   "cell_type": "code",
   "execution_count": 16,
   "metadata": {
    "vscode": {
     "languageId": "plaintext"
    }
   },
   "outputs": [
    {
     "name": "stdout",
     "output_type": "stream",
     "text": [
      "Overwriting pod.yaml\n"
     ]
    }
   ],
   "source": [
    "%%writefile pod.yaml\n",
    "apiVersion: v1\n",
    "kind: PersistentVolumeClaim\n",
    "metadata:\n",
    "  name: tailscale-state\n",
    "spec:\n",
    "  accessModes:\n",
    "    # read/write from a single node\n",
    "    # https://kubernetes.io/docs/concepts/storage/persistent-volumes/#access-modes\n",
    "    - ReadWriteOnce\n",
    "  # todo idk where the docs are for this - i just guessed\n",
    "  resources:\n",
    "    requests:\n",
    "      storage: 10Mi\n",
    "---\n",
    "apiVersion: v1\n",
    "kind: Pod\n",
    "metadata:\n",
    "    name: caddy\n",
    "spec:\n",
    "    containers:\n",
    "      - name: caddy\n",
    "        image: caddy/caddy\n",
    "      - name: tailscale\n",
    "        image: ghcr.io/tailscale/tailscale:latest\n",
    "        env:\n",
    "          # disable Kubernetes secrets and use OAuth login instead\n",
    "          - name: TS_KUBE_SECRET\n",
    "            value: \"\"\n",
    "          - name: TS_STATE_DIR\n",
    "            value: \"/var/lib/tailscale\"\n",
    "        volumeMounts:\n",
    "          - name: tailscale-state\n",
    "            mountPath: \"/var/lib/tailscale\"\n",
    "    volumes:\n",
    "      - name: tailscale-state\n",
    "        persistentVolumeClaim:\n",
    "          claimName: tailscale-state"
   ]
  },
  {
   "cell_type": "code",
   "execution_count": 17,
   "metadata": {
    "vscode": {
     "languageId": "plaintext"
    }
   },
   "outputs": [
    {
     "name": "stdout",
     "output_type": "stream",
     "text": [
      "persistentvolumeclaim/tailscale-state created\n"
     ]
    },
    {
     "name": "stderr",
     "output_type": "stream",
     "text": [
      "Warning: autopilot-default-resources-mutator:Autopilot updated Pod default/caddy: defaulted unspecified 'cpu' resource for containers [caddy, tailscale] (see http://g.co/gke/autopilot-defaults).\n"
     ]
    },
    {
     "name": "stdout",
     "output_type": "stream",
     "text": [
      "pod/caddy created\n"
     ]
    }
   ],
   "source": [
    "%%sh\n",
    "kubectl apply -f pod.yaml"
   ]
  },
  {
   "cell_type": "code",
   "execution_count": 21,
   "metadata": {
    "vscode": {
     "languageId": "plaintext"
    }
   },
   "outputs": [
    {
     "name": "stdout",
     "output_type": "stream",
     "text": [
      "boot: 2024/06/23 22:20:49 Starting tailscaled\n",
      "boot: 2024/06/23 22:20:49 Waiting for tailscaled socket\n",
      "2024/06/23 22:20:49 logtail started\n",
      "2024/06/23 22:20:49 Program starting: v1.68.1-t92eacec73, Go 1.22.4: []string{\"tailscaled\", \"--socket=/tmp/tailscaled.sock\", \"--statedir=/var/lib/tailscale\", \"--tun=userspace-networking\"}\n",
      "2024/06/23 22:20:49 LogID: 1afd630dad531ee594c20bebc7a4677c805d4343fb4165ff7d3953f6528f43ba\n",
      "2024/06/23 22:20:49 logpolicy: using system state directory \"/var/lib/tailscale\"\n",
      "2024/06/23 22:20:49 dns: [rc=unknown ret=direct]\n",
      "2024/06/23 22:20:49 dns: using \"direct\" mode\n",
      "2024/06/23 22:20:49 dns: using *dns.directManager\n",
      "2024/06/23 22:20:49 wgengine.NewUserspaceEngine(tun \"userspace-networking\") ...\n",
      "2024/06/23 22:20:49 dns: using dns.noopManager\n",
      "2024/06/23 22:20:49 link state: interfaces.State{defaultRoute=eth0 ifs={eth0:[10.15.0.88/26]} v4=true v6=false}\n",
      "2024/06/23 22:20:49 onPortUpdate(port=45996, network=udp6)\n",
      "2024/06/23 22:20:49 magicsock: [warning] failed to force-set UDP read buffer size to 7340032: operation not permitted; using kernel default values (impacts throughput only)\n",
      "2024/06/23 22:20:49 magicsock: [warning] failed to force-set UDP write buffer size to 7340032: operation not permitted; using kernel default values (impacts throughput only)\n",
      "2024/06/23 22:20:49 onPortUpdate(port=60893, network=udp4)\n",
      "2024/06/23 22:20:49 magicsock: [warning] failed to force-set UDP read buffer size to 7340032: operation not permitted; using kernel default values (impacts throughput only)\n",
      "2024/06/23 22:20:49 magicsock: [warning] failed to force-set UDP write buffer size to 7340032: operation not permitted; using kernel default values (impacts throughput only)\n",
      "2024/06/23 22:20:49 magicsock: disco key = d:9ce5b4939ae88572\n",
      "2024/06/23 22:20:49 Creating WireGuard device...\n",
      "2024/06/23 22:20:49 Bringing WireGuard device up...\n",
      "2024/06/23 22:20:49 Bringing router up...\n",
      "2024/06/23 22:20:49 Clearing router settings...\n",
      "2024/06/23 22:20:49 Starting network monitor...\n",
      "2024/06/23 22:20:49 Engine created.\n",
      "2024/06/23 22:20:49 pm: migrating \"_daemon\" profile to new format\n",
      "2024/06/23 22:20:49 logpolicy: using system state directory \"/var/lib/tailscale\"\n",
      "2024/06/23 22:20:49 got LocalBackend in 3ms\n",
      "2024/06/23 22:20:49 Start\n",
      "2024/06/23 22:20:50 timeout waiting for initial portlist\n",
      "2024/06/23 22:20:50 Backend: logs: be:1afd630dad531ee594c20bebc7a4677c805d4343fb4165ff7d3953f6528f43ba fe:\n",
      "2024/06/23 22:20:50 Switching ipn state NoState -> NeedsLogin (WantRunning=false, nm=false)\n",
      "2024/06/23 22:20:50 blockEngineUpdates(true)\n",
      "2024/06/23 22:20:50 health(\"overall\"): error: state=NeedsLogin, wantRunning=false\n",
      "2024/06/23 22:20:50 wgengine: Reconfig: configuring userspace WireGuard config (with 0/0 peers)\n",
      "2024/06/23 22:20:50 wgengine: Reconfig: configuring router\n",
      "2024/06/23 22:20:50 wgengine: Reconfig: configuring DNS\n",
      "2024/06/23 22:20:50 dns: Set: {DefaultResolvers:[] Routes:{} SearchDomains:[] Hosts:0}\n",
      "2024/06/23 22:20:50 dns: Resolvercfg: {Routes:{} Hosts:0 LocalDomains:[], cloud=\"gcp\"}\n",
      "2024/06/23 22:20:50 dns: OScfg: {}\n",
      "boot: 2024/06/23 22:20:50 Running 'tailscale up'\n",
      "2024/06/23 22:20:50 Start\n",
      "2024/06/23 22:20:50 Backend: logs: be:1afd630dad531ee594c20bebc7a4677c805d4343fb4165ff7d3953f6528f43ba fe:\n",
      "2024/06/23 22:20:50 Switching ipn state NoState -> NeedsLogin (WantRunning=true, nm=false)\n",
      "2024/06/23 22:20:50 blockEngineUpdates(true)\n",
      "2024/06/23 22:20:50 control: client.Shutdown ...\n",
      "2024/06/23 22:20:50 control: mapRoutine: exiting\n",
      "2024/06/23 22:20:50 control: authRoutine: exiting\n",
      "2024/06/23 22:20:50 control: updateRoutine: exiting\n",
      "2024/06/23 22:20:50 control: Client.Shutdown done.\n",
      "2024/06/23 22:20:50 StartLoginInteractive: url=false\n",
      "2024/06/23 22:20:50 control: client.Login(2)\n",
      "2024/06/23 22:20:50 control: LoginInteractive -> regen=true\n",
      "2024/06/23 22:20:50 control: doLogin(regen=true, hasUrl=false)\n",
      "2024/06/23 22:20:50 control: control server key from https://controlplane.tailscale.com: ts2021=[fSeS+], legacy=[nlFWp]\n",
      "2024/06/23 22:20:50 control: Generating a new nodekey.\n",
      "2024/06/23 22:20:50 control: RegisterReq: onode= node=[eKun9] fup=false nks=false\n",
      "2024/06/23 22:20:51 control: RegisterReq: got response; nodeKeyExpired=false, machineAuthorized=false; authURL=true\n",
      "2024/06/23 22:20:51 control: AuthURL is https://login.tailscale.com/a/c7ab131018d70\n",
      "2024/06/23 22:20:51 control: doLogin(regen=false, hasUrl=true)\n",
      "2024/06/23 22:20:51 Received auth URL: https://login.tailsc...\n",
      "2024/06/23 22:20:51 popBrowserAuthNow: url=true, key-expired=false, seamless-key-renewal=false\n",
      "2024/06/23 22:20:51 blockEngineUpdates(true)\n",
      "2024/06/23 22:20:51 stopEngineAndWait...\n",
      "2024/06/23 22:20:51 requestEngineStatusAndWait\n",
      "2024/06/23 22:20:51 requestEngineStatusAndWait: waiting...\n",
      "2024/06/23 22:20:51 requestEngineStatusAndWait: got status update.\n",
      "2024/06/23 22:20:51 stopEngineAndWait: done.\n",
      "2024/06/23 22:20:51 control: RegisterReq: onode= node=[eKun9] fup=true nks=false\n",
      "\n",
      "To authenticate, visit:\n",
      "\n",
      "\thttps://login.tailscale.com/a/c7ab131018d70\n",
      "\n"
     ]
    }
   ],
   "source": [
    "%%sh\n",
    "kubectl logs caddy tailscale"
   ]
  },
  {
   "cell_type": "code",
   "execution_count": 185,
   "metadata": {
    "vscode": {
     "languageId": "plaintext"
    }
   },
   "outputs": [
    {
     "name": "stderr",
     "output_type": "stream",
     "text": [
      "  % Total    % Received % Xferd  Average Speed   Time    Time     Time  Current\n",
      "                                 Dload  Upload   Total   Spent    Left  Speed\n"
     ]
    },
    {
     "name": "stdout",
     "output_type": "stream",
     "text": [
      "<!DOCTYPE html>\n",
      "<html>\n",
      "\t<head>\n",
      "\t\t<title>Caddy works!</title>\n",
      "\t\t<meta charset=\"utf-8\">\n",
      "\t\t<meta name=\"viewport\" content=\"width=device-width, initial-scale=1.0\">\n",
      "\t\t<link rel=\"icon\" href=\"data:,\">\n",
      "\t\t<style>\n",
      "\t\t\t* {\n",
      "\t\t\t\tbox-sizing: border-box;\n",
      "\t\t\t\tpadding: 0;\n",
      "\t\t\t\tmargin: 0;\n",
      "\t\t\t}\n",
      "\n",
      "\t\t\tbody {\n",
      "\t\t\t\tbackground: #f1f4f5;\n",
      "\t\t\t\tfont-family: sans-serif;\n",
      "\t\t\t\tfont-size: 20px;\n",
      "\t\t\t\t-webkit-font-smoothing: antialiased;\n",
      "\t\t\t}\n",
      "\n",
      "\t\t\ta {\n",
      "\t\t\t\tcolor: #2f79ff;\n",
      "\t\t\t\ttext-decoration: none;\n",
      "\t\t\t}\n",
      "\n",
      "\t\t\ta:hover {\n",
      "\t\t\t\ttext-decoration: underline;\n",
      "\t\t\t}\n",
      "\n",
      "\t\t\t.stack {\n",
      "\t\t\t\twidth: 70%;\n",
      "\t\t\t\tmax-width: 1150px;\n",
      "\t\t\t\tmargin: 25px 0 150px 25px;\n",
      "\t\t\t\tdisplay: flex;\n",
      "\t\t\t\talign-content: flex-start;\n",
      "\t\t\t}\n",
      "\n",
      "\t\t\t.paper {\n",
      "\t\t\t\tposition: relative;\n",
      "\t\t\t\tflex-shrink: 0;\n",
      "\t\t\t\twidth: 100%;\n",
      "\n",
      "\t\t\t\tbackground: white;\n",
      "\t\t\t\tborder-radius: 3px;\n",
      "\t\t\t\tbox-shadow: 1px 2px 4px 1px rgba(0, 0, 0, .15);\n",
      "\t\t\t\tpadding: 100px;\n",
      "\t\t\t}\n",
      "\n",
      "\t\t\t#paper1 {\n",
      "\t\t\t\ttop: 45px;\n",
      "\t\t\t\tleft: 50px;\n",
      "\t\t\t}\n",
      "\n",
      "\t\t\t#paper2 {\n",
      "\t\t\t\ttop: 20px;\n",
      "\t\t\t\tleft: -100%;\n",
      "\t\t\t}\n",
      "\n",
      "\t\t\t#paper3 {\n",
      "\t\t\t\ttop: 25px;\n",
      "\t\t\t\ttransform: rotate(-4deg);\n",
      "\t\t\t\tleft: -200%;\n",
      "\t\t\t}\n",
      "\n",
      "\t\t\t#caddy {\n",
      "\t\t\t\tmax-width: 175px;\n",
      "\t\t\t\tmargin-bottom: 75px;\n",
      "\t\t\t}\n",
      "\n",
      "\t\t\t#caddy .caddy-color {\n",
      "\t\t\t\tfill: #005e7e;\n",
      "\t\t\t}\n",
      "\n",
      "\t\t\th1 {\n",
      "\t\t\t\tfont-size: 20px;\n",
      "\t\t\t\tmargin-bottom: 50px;\n",
      "\t\t\t}\n",
      "\n",
      "\t\t\th1 .emoji {\n",
      "\t\t\t\tfont-size: 150%;\n",
      "\t\t\t\tvertical-align: middle;\n",
      "\t\t\t}\n",
      "\n",
      "\t\t\th1 .lang {\n",
      "\t\t\t\tmargin-right: 1.5em;\n",
      "\t\t\t}\n",
      "\n",
      "\t\t\th2 {\n",
      "\t\t\t\tfont-size: 28px;\n",
      "\t\t\t\tmargin-top: 1.5em;\n",
      "\t\t\t}\n",
      "\n",
      "\t\t\tp,\n",
      "\t\t\tol,\n",
      "\t\t\tul {\n",
      "\t\t\t\tcolor: #333;\n",
      "\t\t\t\tline-height: 1.5em;\n",
      "\t\t\t}\n",
      "\n",
      "\t\t\tp {\n",
      "\t\t\t\tmargin: 1.5em 0;\n",
      "\t\t\t}\n",
      "\n",
      "\t\t\tol,\n",
      "\t\t\tul {\n",
      "\t\t\t\tmargin: .5em 0 .5em 2em;\n",
      "\t\t\t}\n",
      "\n",
      "\t\t\tol li,\n",
      "\t\t\tul li {\n",
      "\t\t\t\tmargin-left: 1em;\n",
      "\t\t\t\tmargin-bottom: .5em;\n",
      "\t\t\t}\n",
      "\n",
      "\t\t\tli ol {\n",
      "\t\t\t\tlist-style-type: lower-alpha;\n",
      "\t\t\t}\n",
      "\n",
      "\t\t\tcode {\n",
      "\t\t\t\tcolor: #000;\n",
      "\t\t\t\tfont-family: Menlo, monospace;\n",
      "\t\t\t\tbackground: #f0f0f0;\n",
      "\t\t\t\tborder-radius: 2px;\n",
      "\t\t\t\tpadding: 4px 8px;\n",
      "\t\t\t\tfont-size: 90%;\n",
      "\t\t\t}\n",
      "\n",
      "\t\t\t.warn {\n",
      "\t\t\t\tcolor: #dd0000;\n",
      "\t\t\t}\n",
      "\n",
      "\t\t\tfooter {\n",
      "\t\t\t\tcolor: #777;\n",
      "\t\t\t\tfont-size: 16px;\n",
      "\t\t\t\ttext-align: center;\n",
      "\t\t\t\tmax-width: 600px;\n",
      "\t\t\t\tmargin: 0 auto 50px;\n",
      "\t\t\t}\n",
      "\n",
      "\t\t\t#disclaimer {\n",
      "\t\t\t\tfont-size: 14px;\n",
      "\t\t\t\tmargin-top: 20px;\n",
      "\t\t\t\tdisplay: inline-block;\n",
      "\t\t\t\tborder-top: 1px solid #ccc;\n",
      "\t\t\t\tpadding: 20px;\n",
      "\t\t\t}\n",
      "\n",
      "\t\t\t@media (max-width: 1100px) {\n",
      "\t\t\t\t.stack {\n",
      "\t\t\t\t\twidth: 85%;\n",
      "\t\t\t\t}\n",
      "\t\t\t}\n",
      "\n",
      "\t\t\t@media (max-width: 800px) {\n",
      "\t\t\t\t.stack {\n",
      "\t\t\t\t\tmargin: 0 0 50px 0;\n",
      "\t\t\t\t\twidth: 100%;\n",
      "\t\t\t\t}\n",
      "\n",
      "\t\t\t\t.paper {\n",
      "\t\t\t\t\tpadding: 50px;\n",
      "\t\t\t\t}\n",
      "\n",
      "\t\t\t\t#paper1,\n",
      "\t\t\t\t#paper2 {\n",
      "\t\t\t\t\tdisplay: none;\n",
      "\t\t\t\t}\n",
      "\n",
      "\t\t\t\t#paper3 {\n",
      "\t\t\t\t\tleft: 0;\n",
      "\t\t\t\t\ttransform: none;\n",
      "\t\t\t\t\ttop: 0;\n",
      "\t\t\t\t}\n",
      "\n",
      "\t\t\t\t#caddy {\n",
      "\t\t\t\t\tmargin-bottom: 25px;\n",
      "\t\t\t\t}\n",
      "\t\t\t}\n",
      "\t\t</style>\n",
      "\t</head>\n",
      "\t<body>\n",
      "\t\t<div class=\"stack\">\n",
      "\t\t\t<div class=\"paper\" id=\"paper1\"></div>\n",
      "\t\t\t<div class=\"paper\" id=\"paper2\"></div>\n",
      "\t\t\t<div class=\"paper\" id=\"paper3\">\n",
      "\t\t\t\t<a href=\"https://caddyserver.com/\" title=\"Caddy Web Server\"><svg id=\"caddy\" viewBox=\"0 0 302 93\" version=\"1.1\" xmlns=\"http://www.w3.org/2000/svg\" xmlns:xlink=\"http://www.w3.org/1999/xlink\" xml:space=\"preserve\" xmlns:serif=\"http://www.serif.com/\" style=\"fill-rule:evenodd;clip-rule:evenodd;stroke-linejoin:round;stroke-miterlimit:2;\"><g><path d=\"M299.377,2.595c1.557,1.556 2.335,3.429 2.335,5.617c0,2.188 -0.775,4.064 -2.324,5.628c-1.549,1.564 -3.432,2.346 -5.65,2.346c-2.217,0 -4.093,-0.775 -5.628,-2.324c-1.534,-1.55 -2.302,-3.418 -2.302,-5.606c0,-2.188 0.775,-4.068 2.324,-5.639c1.55,-1.571 3.426,-2.357 5.628,-2.357c2.203,0 4.075,0.778 5.617,2.335Zm-1.057,10c1.175,-1.219 1.762,-2.687 1.762,-4.405c0,-1.718 -0.617,-3.194 -1.85,-4.428c-1.234,-1.233 -2.721,-1.85 -4.461,-1.85c-1.74,0 -3.23,0.624 -4.471,1.872c-1.241,1.249 -1.862,2.739 -1.862,4.472c0,1.733 0.61,3.216 1.829,4.449c1.219,1.234 2.716,1.851 4.493,1.851c1.777,0 3.282,-0.639 4.516,-1.917l-2.555,0l-1.917,-2.753l-0.969,0l0,2.753l-2.423,0l0,-8.943l3.546,0c1.41,0 2.416,0.243 3.018,0.727c0.602,0.485 0.903,1.263 0.903,2.335c0,1.307 -0.594,2.217 -1.784,2.731l2.225,3.106Zm-4.318,-4.692c0.573,0 0.962,-0.091 1.168,-0.275c0.206,-0.184 0.308,-0.477 0.308,-0.881c0,-0.404 -0.106,-0.683 -0.319,-0.837c-0.213,-0.154 -0.584,-0.231 -1.112,-0.231l-1.212,0l0,2.224l1.167,0Z\" class=\"caddy-color\"  style=\"fill-rule:nonzero;\"/><path d=\"M34.502,73.491c-6.519,0 -12.408,-1.515 -17.666,-4.544c-5.258,-3.03 -9.379,-7.216 -12.362,-12.558c-2.983,-5.343 -4.474,-11.369 -4.474,-18.08c0,-6.71 1.507,-12.737 4.52,-18.079c3.014,-5.343 7.15,-9.529 12.408,-12.558c5.259,-3.03 11.147,-4.545 17.667,-4.545c5.289,0 10.117,0.978 14.483,2.932c4.367,1.955 8.057,4.789 11.07,8.502l-7.749,7.721c-4.674,-5.343 -10.424,-8.014 -17.251,-8.014c-4.428,0 -8.395,1.026 -11.9,3.079c-3.506,2.052 -6.243,4.902 -8.211,8.551c-1.968,3.648 -2.952,7.785 -2.952,12.411c0,4.626 0.984,8.763 2.952,12.412c1.968,3.648 4.705,6.498 8.211,8.551c3.505,2.052 7.472,3.078 11.9,3.078c6.827,0 12.577,-2.704 17.251,-8.111l7.749,7.818c-3.013,3.714 -6.719,6.548 -11.116,8.502c-4.397,1.955 -9.241,2.932 -14.53,2.932Z\" class=\"caddy-color\" style=\"fill-rule:nonzero;\"/><path d=\"M84.78,19.741c7.257,0 12.807,1.84 16.651,5.522c3.844,3.681 5.766,9.235 5.766,16.662l0,30.589l-10.886,0l0,-6.353c-1.414,2.281 -3.428,4.024 -6.042,5.229c-2.614,1.205 -5.766,1.808 -9.456,1.808c-3.69,0 -6.919,-0.668 -9.687,-2.004c-2.767,-1.335 -4.904,-3.192 -6.411,-5.57c-1.507,-2.378 -2.26,-5.066 -2.26,-8.063c0,-4.69 1.645,-8.453 4.935,-11.287c3.291,-2.834 8.472,-4.251 15.545,-4.251l12.731,0l0,-0.782c0,-3.649 -1.031,-6.45 -3.091,-8.405c-2.06,-1.954 -5.12,-2.931 -9.179,-2.931c-2.768,0 -5.489,0.456 -8.164,1.368c-2.676,0.912 -4.936,2.182 -6.781,3.811l-4.52,-8.893c2.583,-2.085 5.689,-3.681 9.317,-4.789c3.629,-1.107 7.473,-1.661 11.532,-1.661Zm-1.568,44.564c2.89,0 5.458,-0.701 7.703,-2.102c2.244,-1.4 3.828,-3.404 4.751,-6.01l0,-6.059l-11.901,0c-6.642,0 -9.963,2.313 -9.963,6.939c0,2.215 0.83,3.974 2.491,5.277c1.66,1.303 3.966,1.955 6.919,1.955Z\" class=\"caddy-color\" style=\"fill-rule:nonzero;\"/><path d=\"M165.593,0l0,72.514l-11.071,0l0,-6.743c-1.906,2.475 -4.258,4.332 -7.057,5.57c-2.798,1.238 -5.889,1.857 -9.271,1.857c-4.736,0 -8.995,-1.108 -12.777,-3.323c-3.782,-2.215 -6.75,-5.359 -8.902,-9.431c-2.153,-4.072 -3.229,-8.746 -3.229,-14.023c0,-5.278 1.076,-9.936 3.229,-13.976c2.152,-4.039 5.12,-7.166 8.902,-9.381c3.782,-2.215 8.041,-3.323 12.777,-3.323c3.259,0 6.242,0.586 8.948,1.759c2.706,1.173 5.013,2.932 6.919,5.277l0,-26.777l11.532,0Zm-26.015,62.741c2.767,0 5.258,-0.668 7.472,-2.003c2.214,-1.336 3.967,-3.242 5.258,-5.717c1.292,-2.476 1.938,-5.343 1.938,-8.6c0,-3.258 -0.646,-6.125 -1.938,-8.6c-1.291,-2.476 -3.044,-4.382 -5.258,-5.718c-2.214,-1.335 -4.705,-2.003 -7.472,-2.003c-2.768,0 -5.259,0.668 -7.473,2.003c-2.214,1.336 -3.967,3.242 -5.258,5.718c-1.292,2.475 -1.937,5.342 -1.937,8.6c0,3.257 0.645,6.124 1.937,8.6c1.291,2.475 3.044,4.381 5.258,5.717c2.214,1.335 4.705,2.003 7.473,2.003Z\" class=\"caddy-color\" style=\"fill-rule:nonzero;\"/><path d=\"M224.357,0l0,72.514l-11.07,0l0,-6.743c-1.906,2.475 -4.259,4.332 -7.057,5.57c-2.798,1.238 -5.889,1.857 -9.271,1.857c-4.736,0 -8.995,-1.108 -12.777,-3.323c-3.783,-2.215 -6.75,-5.359 -8.903,-9.431c-2.152,-4.072 -3.229,-8.746 -3.229,-14.023c0,-5.278 1.077,-9.936 3.229,-13.976c2.153,-4.039 5.12,-7.166 8.903,-9.381c3.782,-2.215 8.041,-3.323 12.777,-3.323c3.259,0 6.242,0.586 8.948,1.759c2.706,1.173 5.012,2.932 6.919,5.277l0,-26.777l11.531,0Zm-26.015,62.741c2.768,0 5.259,-0.668 7.473,-2.003c2.214,-1.336 3.967,-3.242 5.258,-5.717c1.292,-2.476 1.937,-5.343 1.937,-8.6c0,-3.258 -0.645,-6.125 -1.937,-8.6c-1.291,-2.476 -3.044,-4.382 -5.258,-5.718c-2.214,-1.335 -4.705,-2.003 -7.473,-2.003c-2.767,0 -5.258,0.668 -7.472,2.003c-2.214,1.336 -3.967,3.242 -5.259,5.718c-1.291,2.475 -1.937,5.342 -1.937,8.6c0,3.257 0.646,6.124 1.937,8.6c1.292,2.475 3.045,4.381 5.259,5.717c2.214,1.335 4.705,2.003 7.472,2.003Z\" class=\"caddy-color\" style=\"fill-rule:nonzero;\"/><path d=\"M281,20.327l-23.063,56.389c-2.152,5.668 -4.766,9.659 -7.841,11.972c-3.075,2.313 -6.796,3.469 -11.163,3.469c-2.46,0 -4.889,-0.424 -7.288,-1.271c-2.398,-0.846 -4.366,-2.019 -5.904,-3.518l4.613,-8.991c1.107,1.108 2.414,1.988 3.921,2.639c1.506,0.652 3.028,0.977 4.566,0.977c2.03,0 3.705,-0.553 5.028,-1.661c1.322,-1.108 2.537,-2.964 3.644,-5.571l0.83,-2.052l-21.495,-52.382l11.993,0l15.498,38.603l15.591,-38.603l11.07,0Z\" class=\"caddy-color\" style=\"fill-rule:nonzero;\"/></g></svg></a>\n",
      "\n",
      "\t\t\t\t<h1>\n"
     ]
    },
    {
     "name": "stderr",
     "output_type": "stream",
     "text": [
      "100 12256  100 12256    0     0  57250      0 --:--:-- --:--:-- --:--:-- 57271\n"
     ]
    },
    {
     "name": "stdout",
     "output_type": "stream",
     "text": [
      "\t\t\t\t\t<!-- English --> <span class=\"lang\">Congratulations!</span>\n",
      "\t\t\t\t\t<!-- Japanese --> <span class=\"lang\">おめでとう!</span>\n",
      "\t\t\t\t\t<!-- Spanish --> <span class=\"lang\">Felicidades!</span>\n",
      "\t\t\t\t\t<!-- Chinese --> <span class=\"lang\">恭喜!</span>\n",
      "\t\t\t\t\t<!-- Hindi --> <span class=\"lang\">बधाई हो!</span>\n",
      "\t\t\t\t\t<!-- Russian --> <span class=\"lang\">Поздравляю! </span>\n",
      "\t\t\t\t\t<span class=\"emoji\">🎊</span>\n",
      "\t\t\t\t</h1>\n",
      "\n",
      "\t\t\t\t<p>\n",
      "\t\t\t\t\tYour web server is working. Now make it work for you. 💪\n",
      "\t\t\t\t</p>\n",
      "\t\t\t\t<p>\n",
      "\t\t\t\t\tCaddy is ready to serve your site over HTTPS:\n",
      "\t\t\t\t</p>\n",
      "\t\t\t\t<ol>\n",
      "\t\t\t\t\t<li>Point your domain's A/AAAA DNS records at this machine.</li>\n",
      "\t\t\t\t\t<li>Upload your site's files to <code>/var/www/html</code>.\n",
      "\t\t\t\t\t<li>\n",
      "\t\t\t\t\t\tEdit your Caddyfile at <code>/etc/caddy/Caddyfile</code>:\n",
      "\t\t\t\t\t\t<ol>\n",
      "\t\t\t\t\t\t\t<li>Replace <code>:80</code> with your domain name</li>\n",
      "\t\t\t\t\t\t\t<li>Change the site root to <code>/var/www/html</code></li>\n",
      "\t\t\t\t\t\t</ol>\n",
      "\t\t\t\t\t</li>\n",
      "\t\t\t\t\t<li>Reload the configuration: <code>systemctl reload caddy</code></li>\n",
      "\t\t\t\t\t<li>Visit your site!</li>\n",
      "\t\t\t\t</ol>\n",
      "\t\t\t\t<h2>If that worked 🥳</h2>\n",
      "\t\t\t\t<p>\n",
      "\t\t\t\t\tAwesome! You won't have to look at this slanted page anymore.\n",
      "\t\t\t\t</p>\n",
      "\t\t\t\t<p>\n",
      "\t\t\t\t\tRemember, Caddy can do a lot more than serve static files. It's also a powerful reverse proxy and application platform. You can use the Caddyfile to enable any other features you need. Or you could use Caddy's API to configure it programmatically.\n",
      "\t\t\t\t</p>\n",
      "\t\t\t\t<p>\n",
      "\t\t\t\t\tEverything you need to know is either in the <a href=\"https://github.com/caddyserver/caddy/wiki/v2:-Documentation\">📖 Caddy documentation</a> or the manual for your OS/platform. Have fun!\n",
      "\t\t\t\t</p>\n",
      "\n",
      "\t\t\t\t<h2>If that didn't work 😶</h2>\n",
      "\t\t\t\t<p>\n",
      "\t\t\t\t\tIt's okay, you can fix it! First check the following things:\n",
      "\t\t\t\t</p>\n",
      "\t\t\t\t<ul>\n",
      "\t\t\t\t\t<li>Service status: <code>systemctl status caddy</code></li>\n",
      "\t\t\t\t\t<li>Logs: <code>journalctl --no-pager -u caddy</code></li>\n",
      "\t\t\t\t\t<li>Are your site's files readable by the caddy user and group? <code>ls -la /var/www/html</code></li>\n",
      "\t\t\t\t\t<li>Is the caddy home directory writeable? <code>ls -la /var/lib/caddy</code></li>\n",
      "\t\t\t\t\t<li>Ensure your domain's A and/or AAAA records point to your machine's public IP address: <code>dig example.com</code></li>\n",
      "\t\t\t\t\t<li>Are your ports 80 and 443 externally reachable, and is Caddy able to bind to them? Check your firewalls, port forwarding, and other network configuration.</li>\n",
      "\t\t\t\t</ul>\n",
      "\t\t\t\t<p>\n",
      "\t\t\t\t\t<b class=\"warn\">WAIT!</b> Before trying again, switch to <a href=\"https://letsencrypt.org/docs/staging-environment/\">Let's Encrypt's staging environment</a> to avoid being accidentally <a href=\"https://letsencrypt.org/docs/rate-limits/\">rate limited</a>. Once you get everything else working, it's safe to switch back.\n",
      "\t\t\t\t</p>\n",
      "\t\t\t\t<p>\n",
      "\t\t\t\t\tDepending on your DNS provider, it may take a while for the DNS records to propagate. Even when everything is configured properly, automated challenges to obtain TLS certificates usually take several seconds, but may take up to several minutes or hours.\n",
      "\t\t\t\t<p>\n",
      "\t\t\t\t\tIf you still need help, we have a <a href=\"https://caddy.community/\">great community</a>! First <a href=\"https://caddy.community/search\">try a search</a>, and if your question is original, go ahead and ask it! Remember to pay it forward and help others too. 😁\n",
      "\t\t\t\t</p>\n",
      "\t\t\t\t<p>\n",
      "\t\t\t\t\tVisit Caddy on:\n",
      "\t\t\t\t\t<b><a href=\"https://github.com/caddyserver/caddy\" title=\"Caddy on GitHub\">GitHub</a></b>\n",
      "\t\t\t\t\tor\n",
      "\t\t\t\t\t<b><a href=\"https://twitter.com/caddyserver\" title=\"@caddyserver on Twitter\">Twitter</a></b>\n",
      "\t\t\t\t\tor\n",
      "\t\t\t\t\t<b><a href=\"https://caddy.community/\" title=\"Caddy forums\">Our Forum</a></b>\n",
      "\t\t\t\t</p>\n",
      "\t\t\t</div>\n",
      "\t\t</div>\n",
      "\n",
      "\t\t<footer>\n",
      "\t\t\t&copy; Copyright 2019 The Caddy Authors.\n",
      "\t\t\t<br>\n",
      "\t\t\tCaddy<sup>&reg;</sup> is a registered trademark of Light Code Labs, LLC.\n",
      "\n",
      "\t\t\t<div id=\"disclaimer\">The Caddy project is not responsible for the content, disposition, or behavior of this Web property, which is independently owned and maintained. For inquiries, please contact the site owner or hosting provider.</div>\n",
      "\t\t</footer>\n",
      "\n",
      "\t</body>\n",
      "</html>\n"
     ]
    }
   ],
   "source": [
    "%%sh\n",
    "curl caddy"
   ]
  },
  {
   "cell_type": "markdown",
   "metadata": {
    "vscode": {
     "languageId": "plaintext"
    }
   },
   "source": [
    "Caddy still works, and will no longer be disconnected when the pod restarts. Success!"
   ]
  },
  {
   "cell_type": "markdown",
   "metadata": {
    "vscode": {
     "languageId": "plaintext"
    }
   },
   "source": [
    "Next steps:\n",
    "Proxy some HTTP services behind Caddy\n",
    "\n",
    "Use Tailscale to expose many other services from many pods"
   ]
  }
 ],
 "metadata": {
  "kernelspec": {
   "display_name": "Python 3 (ipykernel)",
   "language": "/gnu/store/1w5v338qk5m8khcazwclprs3znqp6f7f-python-3.10.7/bin/python3",
   "name": "python3"
  },
  "language_info": {
   "codemirror_mode": {
    "name": "ipython",
    "version": 3
   },
   "file_extension": ".py",
   "mimetype": "text/x-python",
   "name": "python",
   "nbconvert_exporter": "python",
   "pygments_lexer": "ipython3",
   "version": "3.10.7"
  }
 },
 "nbformat": 4,
 "nbformat_minor": 2
}
