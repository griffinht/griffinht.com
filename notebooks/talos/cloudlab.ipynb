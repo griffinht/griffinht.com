{
 "cells": [
  {
   "cell_type": "markdown",
   "metadata": {},
   "source": [
    "I currently have a Kubernetes cluster\n",
    "\n",
    "But with $70 in credit and 16 days left in the trial it was time to cut costs and move off the cloud - in to the cheap cloud!\n",
    "\n",
    "GKE was a pretty great product, but even GCP spot instances are expensive.\n",
    "\n",
    "I wanted to go make a really cheap, really powerful Kubernetes cluster.\n",
    "\n",
    "# Hosting\n",
    "\n",
    "Hetzner has some really cheap, really powerful shared vCPU machines in the US."
   ]
  }
 ],
 "metadata": {
  "language_info": {
   "name": "python"
  }
 },
 "nbformat": 4,
 "nbformat_minor": 2
}
