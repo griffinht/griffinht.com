{
 "cells": [
  {
   "cell_type": "markdown",
   "metadata": {},
   "source": [
    "Today I want to rebuild my homelab\n",
    "\n",
    "Last time I was able to deploy a talos cluster in hetzner and blah\n",
    "gke w/ 1 non preemptible e2-micro VM \n",
    "3x ipv6 only master nodes - $4.59 https://www.hetzner.com/cloud/\n",
    "\n",
    "now im\n",
    "Here's what I have laying around:\n",
    "a lan with a mikrotik router\n",
    "a linux box with libvirt (the hypervisor)\n",
    "three old laptops\n",
    "\n",
    "\n",
    "step 1: its alive\n",
    "provision one master pointint to itself - 192.168.0.x\n",
    "libvirt\n",
    "\n",
    "\n",
    "\n",
    "step 2: the cluster must grow\n",
    "dns -> cluster.hot.griffinht.com\n",
    "hypervisor - docker compose\n",
    "    docker compose management - dozzle, stuff like that\n",
    "    caddy\n",
    "        - 192.168.0.x\n",
    "        - 192.168.0.x\n",
    "        - 192.168.0.x\n",
    "talos on envy-laptop and t480s\n",
    "\n",
    "step 3: storage\n",
    "nas storage\n",
    "\n",
    "step 4: storage, for real\n",
    "longhorn + nas\n",
    "\n",
    "step 4b: backups for longhorn\n",
    "\n",
    "step 5: the cluster must grow\n",
    "dyl red laptop worker"
   ]
  }
 ],
 "metadata": {
  "language_info": {
   "name": "python"
  }
 },
 "nbformat": 4,
 "nbformat_minor": 2
}
