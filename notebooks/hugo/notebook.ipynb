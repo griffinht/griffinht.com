{
 "cells": [
  {
   "cell_type": "code",
   "execution_count": null,
   "metadata": {},
   "outputs": [],
   "source": [
    "I need a website. I want to have a blog on it, as well as a notes section with Jupyter notebooks and markdown notes with backlinks.\n",
    "\n",
    "I don't want themes. I want to build it from scratch.\n",
    "\n",
    "I guess that means we are doing Hugo from scratch."
   ]
  },
  {
   "cell_type": "code",
   "execution_count": null,
   "metadata": {},
   "outputs": [],
   "source": [
    "Installation\n",
    "\n",
    "Hugo is a goland app, and it isn't packaged by Guix. Nix it is!"
   ]
  },
  {
   "cell_type": "code",
   "execution_count": 1,
   "metadata": {},
   "outputs": [
    {
     "name": "stdout",
     "output_type": "stream",
     "text": [
      "/home/griffin/git/griffinht.com/hugo\n"
     ]
    }
   ],
   "source": [
    "%cd ../hugo"
   ]
  },
  {
   "cell_type": "code",
   "execution_count": 2,
   "metadata": {},
   "outputs": [
    {
     "name": "stdout",
     "output_type": "stream",
     "text": [
      "hugo is the main command, used to build your Hugo site.\n",
      "\n",
      "Hugo is a Fast and Flexible Static Site Generator\n",
      "built with love by spf13 and friends in Go.\n",
      "\n",
      "Complete documentation is available at https://gohugo.io/.\n",
      "\n",
      "Usage:\n",
      "  hugo [flags]\n",
      "  hugo [command]\n",
      "\n",
      "Available Commands:\n",
      "  completion  Generate the autocompletion script for the specified shell\n",
      "  config      Print the site configuration\n",
      "  convert     Convert your content to different formats\n",
      "  deploy      Deploy your site to a Cloud provider.\n",
      "  env         Print Hugo version and environment info\n",
      "  gen         A collection of several useful generators.\n",
      "  help        Help about any command\n",
      "  import      Import your site from others.\n",
      "  list        Listing out various types of content\n",
      "  mod         Various Hugo Modules helpers.\n",
      "  new         Create new content for your site\n",
      "  server      A high performance webserver\n",
      "  version     Print Hugo version and environment info\n",
      "\n",
      "Flags:\n",
      "  -b, --baseURL string             hostname (and path) to the root, e.g. https://spf13.com/\n",
      "  -D, --buildDrafts                include content marked as draft\n",
      "  -E, --buildExpired               include expired content\n",
      "  -F, --buildFuture                include content with publishdate in the future\n",
      "      --cacheDir string            filesystem path to cache directory\n",
      "      --cleanDestinationDir        remove files from destination not found in static directories\n",
      "      --clock string               set the clock used by Hugo, e.g. --clock 2021-11-06T22:30:00.00+09:00\n",
      "      --config string              config file (default is hugo.yaml|json|toml)\n",
      "      --configDir string           config dir (default \"config\")\n",
      "  -c, --contentDir string          filesystem path to content directory\n",
      "      --debug                      debug output\n",
      "  -d, --destination string         filesystem path to write files to\n",
      "      --disableKinds strings       disable different kind of pages (home, RSS etc.)\n",
      "      --enableGitInfo              add Git revision, date, author, and CODEOWNERS info to the pages\n",
      "  -e, --environment string         build environment\n",
      "      --forceSyncStatic            copy all files when static is changed.\n",
      "      --gc                         enable to run some cleanup tasks (remove unused cache files) after the build\n",
      "      --ignoreCache                ignores the cache directory\n",
      "      --ignoreVendorPaths string   ignores any _vendor for module paths matching the given Glob pattern\n",
      "  -l, --layoutDir string           filesystem path to layout directory\n",
      "      --logLevel string            log level (debug|info|warn|error)\n",
      "      --minify                     minify any supported output format (HTML, XML etc.)\n",
      "      --noBuildLock                don't create .hugo_build.lock file\n",
      "      --noChmod                    don't sync permission mode of files\n",
      "      --noTimes                    don't sync modification time of files\n",
      "      --panicOnWarning             panic on first WARNING log\n",
      "      --poll string                set this to a poll interval, e.g --poll 700ms, to use a poll based approach to watch for file system changes\n",
      "      --printI18nWarnings          print missing translations\n",
      "      --printMemoryUsage           print memory usage to screen at intervals\n",
      "      --printPathWarnings          print warnings on duplicate target paths etc.\n",
      "      --printUnusedTemplates       print warnings on unused templates.\n",
      "      --quiet                      build in quiet mode\n",
      "      --renderSegments strings     named segments to render (configured in the segments config)\n",
      "  -M, --renderToMemory             render to memory (mostly useful when running the server)\n",
      "  -s, --source string              filesystem path to read files relative from\n",
      "      --templateMetrics            display metrics about template executions\n",
      "      --templateMetricsHints       calculate some improvement hints when combined with --templateMetrics\n",
      "  -t, --theme strings              themes to use (located in /themes/THEMENAME/)\n",
      "      --themesDir string           filesystem path to themes directory\n",
      "      --trace file                 write trace to file (not useful in general)\n",
      "  -v, --verbose                    verbose output\n",
      "  -w, --watch                      watch filesystem for changes and recreate as needed\n",
      "\n",
      "Use \"hugo [command] --help\" for more information about a command.\n",
      "\n",
      "Error: command error: unknown command \"quickstart\" for \"hugo\"\n"
     ]
    }
   ],
   "source": [
    "! hugo quickstart"
   ]
  },
  {
   "cell_type": "code",
   "execution_count": null,
   "metadata": {},
   "outputs": [],
   "source": [
    "https://gohugo.io/getting-started/directory-structure/"
   ]
  },
  {
   "cell_type": "code",
   "execution_count": null,
   "metadata": {},
   "outputs": [],
   "source": [
    "\n",
    "https://gohugo.io/getting-started/quick-start/"
   ]
  }
 ],
 "metadata": {
  "kernelspec": {
   "display_name": "Python 3 (ipykernel)",
   "language": "/gnu/store/1w5v338qk5m8khcazwclprs3znqp6f7f-python-3.10.7/bin/python3",
   "name": "python3"
  },
  "language_info": {
   "codemirror_mode": {
    "name": "ipython",
    "version": 3
   },
   "file_extension": ".py",
   "mimetype": "text/x-python",
   "name": "python",
   "nbconvert_exporter": "python",
   "pygments_lexer": "ipython3",
   "version": "3.10.7"
  }
 },
 "nbformat": 4,
 "nbformat_minor": 2
}
