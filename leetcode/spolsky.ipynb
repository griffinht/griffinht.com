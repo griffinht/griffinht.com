{
 "cells": [
  {
   "cell_type": "markdown",
   "metadata": {},
   "source": [
    "https://www.joelonsoftware.com/2006/10/25/the-guerrilla-guide-to-interviewing-version-30/\n",
    "\n",
    "\n",
    "1. Write a function that determines if a string starts with an upper-case letter A-Z\n",
    "2. Write a function that determines the area of a circle given the radius\n",
    "3. Add up all the values in an array\n"
   ]
  },
  {
   "cell_type": "code",
   "execution_count": 8,
   "metadata": {},
   "outputs": [
    {
     "name": "stdout",
     "output_type": "stream",
     "text": [
      "env: session=lousjdfoasif\n"
     ]
    }
   ],
   "source": [
    "%env session=lousjdfoasif"
   ]
  },
  {
   "cell_type": "code",
   "execution_count": 9,
   "metadata": {},
   "outputs": [
    {
     "name": "stdout",
     "output_type": "stream",
     "text": [
      "lousjdfoasif\n"
     ]
    }
   ],
   "source": [
    "! echo $session"
   ]
  },
  {
   "cell_type": "code",
   "execution_count": 10,
   "metadata": {},
   "outputs": [
    {
     "name": "stdout",
     "output_type": "stream",
     "text": [
      "\u001b[38;2;255;255;255m\"ABCDEFGHIJKLMNOPQRSTUVWXYZ\"\u001b[39m\n"
     ]
    }
   ],
   "source": [
    "! echo 'give me a python string which outputs all uppercase letters' | aichat  --no-stream --save-session -s $session"
   ]
  },
  {
   "cell_type": "markdown",
   "metadata": {},
   "source": [
    "todo the output is ephemeral! what if i completely integrated it back in to python! completely! and my whole notebook was just a python program!\n",
    "\n",
    "\n",
    "i am going to forget what i am talking about after i do this but still\n",
    "example:\n",
    "write a python function to run aichat --no-stream --save-session -s $session and have it save as a python string\n",
    "\n",
    "when you are done writing the program just save the jupyter notebook!"
   ]
  },
  {
   "cell_type": "code",
   "execution_count": 11,
   "metadata": {},
   "outputs": [
    {
     "name": "stdout",
     "output_type": "stream",
     "text": [
      "\u001b[38;2;255;255;255muppercase_letters = \"ABCDEFGHIJKLMNOPQRSTUVWXYZ\"\u001b[39m\n",
      "\u001b[38;2;255;255;255mprint(uppercase_letters)\u001b[39m\n"
     ]
    }
   ],
   "source": [
    "! echo 'make it a nice python syntax' | aichat  --no-stream --save-session -s $session"
   ]
  },
  {
   "cell_type": "code",
   "execution_count": 12,
   "metadata": {},
   "outputs": [
    {
     "name": "stdout",
     "output_type": "stream",
     "text": [
      "\u001b[38;2;255;255;255muppercase_letters = \"\".join(chr(ord('A') + i) for i in range(26))\u001b[39m\n",
      "\u001b[38;2;255;255;255mprint(uppercase_letters)\u001b[39m\n"
     ]
    }
   ],
   "source": [
    "! echo 'cant i use like char/string math? like a[0:26 - char code of a]' | aichat  --no-stream --save-session -s $session"
   ]
  },
  {
   "cell_type": "code",
   "execution_count": 19,
   "metadata": {},
   "outputs": [],
   "source": [
    "def isUpper(string):\n",
    "    alphabet = \"ABCDEFGHIJKLMNOPQRSTUVWXYZ\"\n",
    "\n",
    "    return string[0:1] in alphabet"
   ]
  },
  {
   "cell_type": "code",
   "execution_count": 21,
   "metadata": {},
   "outputs": [
    {
     "data": {
      "text/plain": [
       "True"
      ]
     },
     "execution_count": 21,
     "metadata": {},
     "output_type": "execute_result"
    }
   ],
   "source": [
    "isUpper(\"Asd\")"
   ]
  },
  {
   "cell_type": "markdown",
   "metadata": {},
   "source": [
    "2. Write a function that determines the area of a circle given the radius"
   ]
  },
  {
   "cell_type": "code",
   "execution_count": 29,
   "metadata": {},
   "outputs": [
    {
     "data": {
      "text/plain": [
       "78.53981633974483"
      ]
     },
     "execution_count": 29,
     "metadata": {},
     "output_type": "execute_result"
    }
   ],
   "source": [
    "import math\n",
    "\n",
    "def area(radius):\n",
    "    return math.pi * (radius**2)\n",
    "\n",
    "area(5)"
   ]
  },
  {
   "cell_type": "code",
   "execution_count": 22,
   "metadata": {},
   "outputs": [
    {
     "name": "stdout",
     "output_type": "stream",
     "text": [
      "\u001b[38;2;255;255;255mThe formula for the area of a circle is:\u001b[39m\n",
      "\n",
      "\u001b[38;2;255;255;255mArea = π * (radius)^2\u001b[39m\n",
      "\n",
      "\u001b[38;2;255;255;255mWhere π (pi) is a constant approximately equal to 3.14159.\u001b[39m\n"
     ]
    }
   ],
   "source": [
    "! echo 'circle area formula' | aichat  --no-stream --save-session -s $session"
   ]
  },
  {
   "cell_type": "code",
   "execution_count": 23,
   "metadata": {},
   "outputs": [
    {
     "name": "stdout",
     "output_type": "stream",
     "text": [
      "\u001b[38;2;255;255;255mYou can use the built-in math module in Python to access the value of pi. Here's an example:\u001b[39m\n",
      "\n",
      "\u001b[38;2;255;255;255m```\u001b[39m\u001b[38;2;190;132;255mpython\u001b[39m\n",
      "\u001b[38;2;220;37;103mimport\u001b[39m\u001b[38;2;248;248;242m \u001b[39m\u001b[38;2;248;248;242mmath\u001b[39m\n",
      "\n",
      "\u001b[38;2;248;248;242mpi\u001b[39m\u001b[38;2;248;248;242m \u001b[39m\u001b[38;2;249;38;114m=\u001b[39m\u001b[38;2;248;248;242m \u001b[39m\u001b[38;2;248;248;242mmath\u001b[39m\u001b[38;2;248;248;242m.\u001b[39m\u001b[38;2;248;248;242mpi\u001b[39m\n",
      "\u001b[38;2;102;217;239mprint\u001b[39m\u001b[38;2;248;248;242m(\u001b[39m\u001b[38;2;248;248;242mpi\u001b[39m\u001b[38;2;248;248;242m)\u001b[39m\n",
      "\u001b[38;2;255;255;255m```\u001b[39m\n",
      "\n",
      "\u001b[38;2;255;255;255mThis will output the value of pi (approximately 3.141592653589793) in Python.\u001b[39m\n"
     ]
    }
   ],
   "source": [
    "! echo 'python pi' | aichat  --no-stream --save-session -s $session"
   ]
  },
  {
   "cell_type": "code",
   "execution_count": 27,
   "metadata": {},
   "outputs": [
    {
     "name": "stdout",
     "output_type": "stream",
     "text": [
      "\u001b[38;2;255;255;255mTo find the area of a circle with radius 5 using the formula we discussed earlier, we can substitute the radius value into the formula:\u001b[39m\n",
      "\n",
      "\u001b[38;2;255;255;255mArea = π * (radius)^2\u001b[39m\n",
      "\n",
      "\u001b[38;2;255;255;255mArea = π * (5)^2\u001b[39m\n",
      "\u001b[38;2;255;255;255mArea = π * 25\u001b[39m\n",
      "\u001b[38;2;255;255;255mArea ≈ 78.54\u001b[39m\n",
      "\n",
      "\u001b[38;2;255;255;255mSo, the area of a circle with radius 5 is approximately 78.54 square units.\u001b[39m\n"
     ]
    }
   ],
   "source": [
    "! echo 'what is the area of a cirlce with radius 5' | aichat  --no-stream --save-session -s $session"
   ]
  },
  {
   "cell_type": "code",
   "execution_count": 31,
   "metadata": {},
   "outputs": [
    {
     "data": {
      "text/plain": [
       "31"
      ]
     },
     "execution_count": 31,
     "metadata": {},
     "output_type": "execute_result"
    }
   ],
   "source": [
    "from functools import reduce\n",
    "\n",
    "array = [1, 4, 5, 6, 3, 5, 7]\n",
    "\n",
    "def sum(x, y):\n",
    "    return x + y\n",
    "\n",
    "reduce(sum, array)"
   ]
  },
  {
   "cell_type": "code",
   "execution_count": 30,
   "metadata": {},
   "outputs": [
    {
     "name": "stdout",
     "output_type": "stream",
     "text": [
      "\u001b[38;2;255;255;255mIn Python, you can use the \u001b[39m\u001b[38;2;236;53;51m`\u001b[39m\u001b[38;2;236;53;51mreduce\u001b[39m\u001b[38;2;236;53;51m`\u001b[39m\u001b[38;2;255;255;255m function from the \u001b[39m\u001b[38;2;236;53;51m`\u001b[39m\u001b[38;2;236;53;51mfunctools\u001b[39m\u001b[38;2;236;53;51m`\u001b[39m\u001b[38;2;255;255;255m module to reduce an array to a single value by applying a function cumulatively to the elements of the array. Here's an example:\u001b[39m\n",
      "\n",
      "\u001b[38;2;255;255;255m```\u001b[39m\u001b[38;2;190;132;255mpython\u001b[39m\n",
      "\u001b[38;2;220;37;103mfrom\u001b[39m\u001b[38;2;248;248;242m \u001b[39m\u001b[38;2;248;248;242mfunctools\u001b[39m\u001b[38;2;248;248;242m \u001b[39m\u001b[38;2;220;37;103mimport\u001b[39m\u001b[38;2;248;248;242m \u001b[39m\u001b[38;2;102;217;239mreduce\u001b[39m\n",
      "\n",
      "\u001b[38;2;117;113;94m#\u001b[39m\u001b[38;2;117;113;94m Define a function to multiply two numbers\u001b[39m\n",
      "\u001b[38;2;249;38;114mdef\u001b[39m\u001b[38;2;248;248;242m \u001b[39m\u001b[38;2;166;226;46mmultiply\u001b[39m\u001b[38;2;248;248;242m(\u001b[39m\u001b[38;2;253;151;31mx\u001b[39m\u001b[38;2;248;248;242m,\u001b[39m\u001b[38;2;248;248;242m \u001b[39m\u001b[38;2;253;151;31my\u001b[39m\u001b[38;2;248;248;242m)\u001b[39m\u001b[38;2;248;248;242m:\u001b[39m\n",
      "    \u001b[38;2;249;38;114mreturn\u001b[39m\u001b[38;2;248;248;242m \u001b[39m\u001b[38;2;248;248;242mx\u001b[39m\u001b[38;2;248;248;242m \u001b[39m\u001b[38;2;249;38;114m*\u001b[39m\u001b[38;2;248;248;242m \u001b[39m\u001b[38;2;248;248;242my\u001b[39m\n",
      "\n",
      "\u001b[38;2;117;113;94m#\u001b[39m\u001b[38;2;117;113;94m Create an array of numbers\u001b[39m\n",
      "\u001b[38;2;248;248;242mnumbers\u001b[39m\u001b[38;2;248;248;242m \u001b[39m\u001b[38;2;249;38;114m=\u001b[39m\u001b[38;2;248;248;242m \u001b[39m\u001b[38;2;248;248;242m[\u001b[39m\u001b[38;2;190;132;255m1\u001b[39m\u001b[38;2;248;248;242m,\u001b[39m\u001b[38;2;248;248;242m \u001b[39m\u001b[38;2;190;132;255m2\u001b[39m\u001b[38;2;248;248;242m,\u001b[39m\u001b[38;2;248;248;242m \u001b[39m\u001b[38;2;190;132;255m3\u001b[39m\u001b[38;2;248;248;242m,\u001b[39m\u001b[38;2;248;248;242m \u001b[39m\u001b[38;2;190;132;255m4\u001b[39m\u001b[38;2;248;248;242m,\u001b[39m\u001b[38;2;248;248;242m \u001b[39m\u001b[38;2;190;132;255m5\u001b[39m\u001b[38;2;248;248;242m]\u001b[39m\n",
      "\n",
      "\u001b[38;2;117;113;94m#\u001b[39m\u001b[38;2;117;113;94m Use reduce to multiply all numbers in the array\u001b[39m\n",
      "\u001b[38;2;248;248;242mresult\u001b[39m\u001b[38;2;248;248;242m \u001b[39m\u001b[38;2;249;38;114m=\u001b[39m\u001b[38;2;248;248;242m \u001b[39m\u001b[38;2;102;217;239mreduce\u001b[39m\u001b[38;2;248;248;242m(\u001b[39m\u001b[38;2;248;248;242mmultiply\u001b[39m\u001b[38;2;248;248;242m,\u001b[39m\u001b[38;2;248;248;242m \u001b[39m\u001b[38;2;248;248;242mnumbers\u001b[39m\u001b[38;2;248;248;242m)\u001b[39m\n",
      "\n",
      "\u001b[38;2;102;217;239mprint\u001b[39m\u001b[38;2;248;248;242m(\u001b[39m\u001b[38;2;248;248;242mresult\u001b[39m\u001b[38;2;248;248;242m)\u001b[39m\u001b[38;2;248;248;242m  \u001b[39m\u001b[38;2;117;113;94m#\u001b[39m\u001b[38;2;117;113;94m Output: 120 (1 * 2 * 3 * 4 * 5)\u001b[39m\n",
      "\u001b[38;2;255;255;255m```\u001b[39m\n",
      "\n",
      "\u001b[38;2;255;255;255mIn this example, we defined a multiplication function \u001b[39m\u001b[38;2;236;53;51m`\u001b[39m\u001b[38;2;236;53;51mmultiply\u001b[39m\u001b[38;2;236;53;51m`\u001b[39m\u001b[38;2;255;255;255m which takes two numbers and returns their product. We then used the \u001b[39m\u001b[38;2;236;53;51m`\u001b[39m\u001b[38;2;236;53;51mreduce\u001b[39m\u001b[38;2;236;53;51m`\u001b[39m\u001b[38;2;255;255;255m function to apply the \u001b[39m\u001b[38;2;236;53;51m`\u001b[39m\u001b[38;2;236;53;51mmultiply\u001b[39m\u001b[38;2;236;53;51m`\u001b[39m\u001b[38;2;255;255;255m function to all elements in the \u001b[39m\u001b[38;2;236;53;51m`\u001b[39m\u001b[38;2;236;53;51mnumbers\u001b[39m\u001b[38;2;236;53;51m`\u001b[39m\u001b[38;2;255;255;255m array, resulting in a single value of 120.\u001b[39m\n"
     ]
    }
   ],
   "source": [
    "! echo 'python reduce an array to a single value' | aichat  --no-stream --save-session -s $session"
   ]
  }
 ],
 "metadata": {
  "kernelspec": {
   "display_name": "Python 3 (ipykernel)",
   "language": "python",
   "name": "python3"
  },
  "language_info": {
   "codemirror_mode": {
    "name": "ipython",
    "version": 3
   },
   "file_extension": ".py",
   "mimetype": "text/x-python",
   "name": "python",
   "nbconvert_exporter": "python",
   "pygments_lexer": "ipython3",
   "version": "3.10.7"
  }
 },
 "nbformat": 4,
 "nbformat_minor": 2
}
