{
 "cells": [
  {
   "cell_type": "markdown",
   "metadata": {},
   "source": [
    "https://www.otherbranch.com/practice-coding-problem"
   ]
  },
  {
   "cell_type": "code",
   "execution_count": 1,
   "metadata": {},
   "outputs": [
    {
     "name": "stdout",
     "output_type": "stream",
     "text": [
      "env: session=otherbranch\n"
     ]
    }
   ],
   "source": [
    "%env session=otherbranch"
   ]
  },
  {
   "cell_type": "code",
   "execution_count": 3,
   "metadata": {},
   "outputs": [
    {
     "name": "stdout",
     "output_type": "stream",
     "text": [
      "\u001b[38;2;255;255;255mHere is an example of Python code that reads a string input from the console and converts it to uppercase letters:\u001b[39m\n",
      "\n",
      "\u001b[38;2;255;255;255m```\u001b[39m\u001b[38;2;190;132;255mpython\u001b[39m\n",
      "\u001b[38;2;117;113;94m#\u001b[39m\u001b[38;2;117;113;94m Read a string input from the console\u001b[39m\n",
      "\u001b[38;2;248;248;242minput_string\u001b[39m\u001b[38;2;248;248;242m \u001b[39m\u001b[38;2;249;38;114m=\u001b[39m\u001b[38;2;248;248;242m \u001b[39m\u001b[38;2;102;217;239minput\u001b[39m\u001b[38;2;248;248;242m(\u001b[39m\u001b[38;2;230;219;116m\"\u001b[39m\u001b[38;2;230;219;116mEnter a string: \u001b[39m\u001b[38;2;230;219;116m\"\u001b[39m\u001b[38;2;248;248;242m)\u001b[39m\n",
      "\n",
      "\u001b[38;2;117;113;94m#\u001b[39m\u001b[38;2;117;113;94m Convert the input string to uppercase\u001b[39m\n",
      "\u001b[38;2;248;248;242muppercase_string\u001b[39m\u001b[38;2;248;248;242m \u001b[39m\u001b[38;2;249;38;114m=\u001b[39m\u001b[38;2;248;248;242m \u001b[39m\u001b[38;2;248;248;242minput_string\u001b[39m\u001b[38;2;248;248;242m.\u001b[39m\u001b[38;2;248;248;242mupper\u001b[39m\u001b[38;2;248;248;242m(\u001b[39m\u001b[38;2;248;248;242m)\u001b[39m\n",
      "\n",
      "\u001b[38;2;117;113;94m#\u001b[39m\u001b[38;2;117;113;94m Output the uppercase string\u001b[39m\n",
      "\u001b[38;2;102;217;239mprint\u001b[39m\u001b[38;2;248;248;242m(\u001b[39m\u001b[38;2;230;219;116m\"\u001b[39m\u001b[38;2;230;219;116mUppercase string:\u001b[39m\u001b[38;2;230;219;116m\"\u001b[39m\u001b[38;2;248;248;242m,\u001b[39m\u001b[38;2;248;248;242m \u001b[39m\u001b[38;2;248;248;242muppercase_string\u001b[39m\u001b[38;2;248;248;242m)\u001b[39m\n",
      "\u001b[38;2;255;255;255m```\u001b[39m\n",
      "\n",
      "\u001b[38;2;255;255;255mWhen you run this code and enter a string in the console, it will output the same string but in all uppercase letters.\u001b[39m\n"
     ]
    }
   ],
   "source": [
    "! echo 'python do console io' | aichat  --no-stream --save-session -s $session"
   ]
  },
  {
   "cell_type": "code",
   "execution_count": 4,
   "metadata": {},
   "outputs": [
    {
     "data": {
      "text/plain": [
       "'hi there'"
      ]
     },
     "execution_count": 4,
     "metadata": {},
     "output_type": "execute_result"
    }
   ],
   "source": [
    "input(\"hello\")"
   ]
  },
  {
   "cell_type": "code",
   "execution_count": 6,
   "metadata": {},
   "outputs": [
    {
     "name": "stdout",
     "output_type": "stream",
     "text": [
      "\u001b[38;2;255;255;255mSure! Here is a more advanced example that reads multiple lines from the console, converts them to uppercase letters, and then writes the results to an output file:\u001b[39m\n",
      "\n",
      "\u001b[38;2;255;255;255m```\u001b[39m\u001b[38;2;190;132;255mpython\u001b[39m\n",
      "\u001b[38;2;117;113;94m#\u001b[39m\u001b[38;2;117;113;94m Read multiple lines input from the console\u001b[39m\n",
      "\u001b[38;2;248;248;242minput_lines\u001b[39m\u001b[38;2;248;248;242m \u001b[39m\u001b[38;2;249;38;114m=\u001b[39m\u001b[38;2;248;248;242m \u001b[39m\u001b[38;2;248;248;242m[\u001b[39m\u001b[38;2;248;248;242m]\u001b[39m\n",
      "\u001b[38;2;102;217;239mprint\u001b[39m\u001b[38;2;248;248;242m(\u001b[39m\u001b[38;2;230;219;116m\"\u001b[39m\u001b[38;2;230;219;116mEnter multiple lines of text (Press Enter twice to finish input):\u001b[39m\u001b[38;2;230;219;116m\"\u001b[39m\u001b[38;2;248;248;242m)\u001b[39m\n",
      "\u001b[38;2;249;38;114mwhile\u001b[39m\u001b[38;2;248;248;242m \u001b[39m\u001b[38;2;190;132;255mTrue\u001b[39m\u001b[38;2;248;248;242m:\u001b[39m\n",
      "    \u001b[38;2;248;248;242mline\u001b[39m\u001b[38;2;248;248;242m \u001b[39m\u001b[38;2;249;38;114m=\u001b[39m\u001b[38;2;248;248;242m \u001b[39m\u001b[38;2;102;217;239minput\u001b[39m\u001b[38;2;248;248;242m(\u001b[39m\u001b[38;2;248;248;242m)\u001b[39m\n",
      "    \u001b[38;2;249;38;114mif\u001b[39m\u001b[38;2;248;248;242m \u001b[39m\u001b[38;2;249;38;114mnot\u001b[39m\u001b[38;2;248;248;242m \u001b[39m\u001b[38;2;248;248;242mline\u001b[39m\u001b[38;2;248;248;242m:\u001b[39m\n",
      "        \u001b[38;2;249;38;114mbreak\u001b[39m\n",
      "    \u001b[38;2;248;248;242minput_lines\u001b[39m\u001b[38;2;248;248;242m.\u001b[39m\u001b[38;2;248;248;242mappend\u001b[39m\u001b[38;2;248;248;242m(\u001b[39m\u001b[38;2;248;248;242mline\u001b[39m\u001b[38;2;248;248;242m)\u001b[39m\n",
      "\n",
      "\u001b[38;2;117;113;94m#\u001b[39m\u001b[38;2;117;113;94m Convert each line to uppercase\u001b[39m\n",
      "\u001b[38;2;248;248;242muppercase_lines\u001b[39m\u001b[38;2;248;248;242m \u001b[39m\u001b[38;2;249;38;114m=\u001b[39m\u001b[38;2;248;248;242m \u001b[39m\u001b[38;2;248;248;242m[\u001b[39m\u001b[38;2;248;248;242mline\u001b[39m\u001b[38;2;248;248;242m.\u001b[39m\u001b[38;2;248;248;242mupper\u001b[39m\u001b[38;2;248;248;242m(\u001b[39m\u001b[38;2;248;248;242m)\u001b[39m\u001b[38;2;248;248;242m \u001b[39m\u001b[38;2;249;38;114mfor\u001b[39m\u001b[38;2;248;248;242m \u001b[39m\u001b[38;2;248;248;242mline\u001b[39m\u001b[38;2;248;248;242m \u001b[39m\u001b[38;2;249;38;114min\u001b[39m\u001b[38;2;248;248;242m \u001b[39m\u001b[38;2;248;248;242minput_lines\u001b[39m\u001b[38;2;248;248;242m]\u001b[39m\n",
      "\n",
      "\u001b[38;2;117;113;94m#\u001b[39m\u001b[38;2;117;113;94m Write the uppercase lines to an output file\u001b[39m\n",
      "\u001b[38;2;248;248;242moutput_file\u001b[39m\u001b[38;2;248;248;242m \u001b[39m\u001b[38;2;249;38;114m=\u001b[39m\u001b[38;2;248;248;242m \u001b[39m\u001b[38;2;230;219;116m\"\u001b[39m\u001b[38;2;230;219;116moutput.txt\u001b[39m\u001b[38;2;230;219;116m\"\u001b[39m\n",
      "\u001b[38;2;249;38;114mwith\u001b[39m\u001b[38;2;248;248;242m \u001b[39m\u001b[38;2;102;217;239mopen\u001b[39m\u001b[38;2;248;248;242m(\u001b[39m\u001b[38;2;248;248;242moutput_file\u001b[39m\u001b[38;2;248;248;242m,\u001b[39m\u001b[38;2;248;248;242m \u001b[39m\u001b[38;2;230;219;116m\"\u001b[39m\u001b[38;2;230;219;116mw\u001b[39m\u001b[38;2;230;219;116m\"\u001b[39m\u001b[38;2;248;248;242m)\u001b[39m\u001b[38;2;248;248;242m \u001b[39m\u001b[38;2;249;38;114mas\u001b[39m\u001b[38;2;248;248;242m \u001b[39m\u001b[38;2;248;248;242mfile\u001b[39m\u001b[38;2;248;248;242m:\u001b[39m\n",
      "    \u001b[38;2;249;38;114mfor\u001b[39m\u001b[38;2;248;248;242m \u001b[39m\u001b[38;2;248;248;242mline\u001b[39m\u001b[38;2;248;248;242m \u001b[39m\u001b[38;2;249;38;114min\u001b[39m\u001b[38;2;248;248;242m \u001b[39m\u001b[38;2;248;248;242muppercase_lines\u001b[39m\u001b[38;2;248;248;242m:\u001b[39m\n",
      "        \u001b[38;2;248;248;242mfile\u001b[39m\u001b[38;2;248;248;242m.\u001b[39m\u001b[38;2;248;248;242mwrite\u001b[39m\u001b[38;2;248;248;242m(\u001b[39m\u001b[38;2;248;248;242mline\u001b[39m\u001b[38;2;248;248;242m \u001b[39m\u001b[38;2;249;38;114m+\u001b[39m\u001b[38;2;248;248;242m \u001b[39m\u001b[38;2;230;219;116m\"\u001b[39m\u001b[38;2;190;132;255m\\n\u001b[39m\u001b[38;2;230;219;116m\"\u001b[39m\u001b[38;2;248;248;242m)\u001b[39m\n",
      "\n",
      "\u001b[38;2;102;217;239mprint\u001b[39m\u001b[38;2;248;248;242m(\u001b[39m\u001b[38;2;102;217;239mf\u001b[39m\u001b[38;2;230;219;116m\"\u001b[39m\u001b[38;2;230;219;116mUppercase lines written to \u001b[39m\u001b[38;2;248;248;242m{\u001b[39m\u001b[38;2;248;248;242moutput_file\u001b[39m\u001b[38;2;248;248;242m}\u001b[39m\u001b[38;2;230;219;116m\"\u001b[39m\u001b[38;2;248;248;242m)\u001b[39m\n",
      "\u001b[38;2;255;255;255m```\u001b[39m\n",
      "\n",
      "\u001b[38;2;255;255;255mWhen you run this code, you can input multiple lines of text in the console. After entering the lines, you need to press Enter twice to indicate the end of the input. The code will then convert each line to uppercase letters, write them to an output file called \"output.txt\", and print a message confirming the successful write.\u001b[39m\n"
     ]
    }
   ],
   "source": [
    "! echo 'give a more advanced example' | aichat  --no-stream --save-session -s $session"
   ]
  },
  {
   "cell_type": "code",
   "execution_count": 2,
   "metadata": {},
   "outputs": [
    {
     "name": "stdout",
     "output_type": "stream",
     "text": [
      "quit\n"
     ]
    }
   ],
   "source": [
    "mine = -2\n",
    "unrevealed = -1\n",
    "\n",
    "# todo i don't really understand this :(\n",
    "board = [[unrevealed, unrevealed, mine, unrevealed],\n",
    "         [unrevealed, unrevealed, mine, unrevealed],\n",
    "         [unrevealed, unrevealed, unrevealed, unrevealed],\n",
    "         [unrevealed, unrevealed, unrevealed, unrevealed]]\n",
    "\n",
    "def getSymbol(element):\n",
    "    if element == mine:\n",
    "        return \"*\"\n",
    "    elif element == unrevealed:\n",
    "        return \"-\"\n",
    "    else:\n",
    "        return element\n",
    "\n",
    "def printBoard(board):\n",
    "    for row in board:\n",
    "        for element in row:\n",
    "            symbol = getSymbol(element)\n",
    "            print(f\"{symbol} \", end=\"\")\n",
    "        print()\n",
    "\n",
    "# true if the game should stop looping\n",
    "def revealSquare(board, row, col):\n",
    "    if board[row][col] == mine:\n",
    "        printBoard(board)\n",
    "        print(\"you lose\")\n",
    "        return False\n",
    "    elif board[row][col] != unrevealed:\n",
    "        # todo\n",
    "        print(\"the board is unrevelead todo\")\n",
    "    else:\n",
    "        count = 0\n",
    "        board[row][col] = count\n",
    "        print('todo')\n",
    "    \n",
    "    return True\n",
    "\n",
    "def userInput(board):\n",
    "    while True:\n",
    "        string = input(\"enter row,col to reveal\")\n",
    "        if string == \"quit\":\n",
    "            break\n",
    "        string.split(\",\")\n",
    "        if len(string) != 2:\n",
    "            print(\"(debug) invalid input\")\n",
    "            continue\n",
    "\n",
    "        row = int(string[0])\n",
    "        col = int(string[1])\n",
    "        print(f\"{row}, {col}\")\n",
    "        if revealSquare(board, row, col):\n",
    "            break\n",
    "\n",
    "userInput(board)"
   ]
  },
  {
   "cell_type": "code",
   "execution_count": null,
   "metadata": {},
   "outputs": [],
   "source": []
  }
 ],
 "metadata": {
  "kernelspec": {
   "display_name": "Python 3 (ipykernel)",
   "language": "python",
   "name": "python3"
  },
  "language_info": {
   "codemirror_mode": {
    "name": "ipython",
    "version": 3
   },
   "file_extension": ".py",
   "mimetype": "text/x-python",
   "name": "python",
   "nbconvert_exporter": "python",
   "pygments_lexer": "ipython3",
   "version": "3.10.7"
  }
 },
 "nbformat": 4,
 "nbformat_minor": 2
}
